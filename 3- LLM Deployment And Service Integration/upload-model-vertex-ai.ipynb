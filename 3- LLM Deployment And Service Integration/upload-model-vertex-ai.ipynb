{
 "cells": [
  {
   "cell_type": "markdown",
   "id": "18ac1d47",
   "metadata": {},
   "source": [
    "## Imports and load of environment variables"
   ]
  },
  {
   "cell_type": "code",
   "execution_count": 1,
   "id": "5ec99176",
   "metadata": {},
   "outputs": [],
   "source": [
    "import os \n",
    "from dotenv import load_dotenv\n",
    "\n",
    "load_dotenv()\n",
    "\n",
    "PROJECT_ID = os.getenv(\"PROJECT_ID\")\n",
    "REGION = os.getenv(\"REGION\")\n",
    "MODEL_DISPLAY_NAME = os.getenv(\"MODEL_DISPLAY_NAME\")\n",
    "HF_MODEL_ID = os.getenv(\"HF_MODEL_ID\")\n",
    "HF_TASK = os.getenv(\"HF_TASK\")\n",
    "DEPLOY_IMAGE_URI = os.getenv(\"DEPLOY_IMAGE_URI\")\n",
    "MACHINE_TYPE = os.getenv(\"MACHINE_TYPE\")\n",
    "ACCELERATOR_TYPE = os.getenv(\"ACCELERATOR_TYPE\")\n"
   ]
  },
  {
   "cell_type": "markdown",
   "id": "28785720",
   "metadata": {},
   "source": [
    "##  Upload Hugging Face model to Google Vertex AI Model Registry"
   ]
  },
  {
   "cell_type": "code",
   "execution_count": 2,
   "id": "1fe4aeae",
   "metadata": {},
   "outputs": [
    {
     "name": "stderr",
     "output_type": "stream",
     "text": [
      "c:\\Users\\Luis\\anaconda3\\envs\\LLM\\lib\\site-packages\\google\\auth\\_default.py:76: UserWarning: Your application has authenticated using end user credentials from Google Cloud SDK without a quota project. You might receive a \"quota exceeded\" or \"API not enabled\" error. See the following page for troubleshooting: https://cloud.google.com/docs/authentication/adc-troubleshooting/user-creds. \n",
      "  warnings.warn(_CLOUD_SDK_CREDENTIALS_WARNING)\n"
     ]
    },
    {
     "name": "stdout",
     "output_type": "stream",
     "text": [
      "Creating Model\n",
      "Create Model backing LRO: projects/198380589718/locations/us-east4/models/7506062417617485824/operations/3627800682695753728\n",
      "Model created. Resource name: projects/198380589718/locations/us-east4/models/7506062417617485824@1\n",
      "To use this Model in another session:\n",
      "model = aiplatform.Model('projects/198380589718/locations/us-east4/models/7506062417617485824@1')\n",
      "Model uploaded: projects/198380589718/locations/us-east4/models/7506062417617485824\n"
     ]
    }
   ],
   "source": [
    "from google.cloud import aiplatform\n",
    "\n",
    "aiplatform.init(project=PROJECT_ID, location=REGION)\n",
    "\n",
    "model = aiplatform.Model.upload(\n",
    "    display_name=MODEL_DISPLAY_NAME,\n",
    "    serving_container_image_uri=DEPLOY_IMAGE_URI,\n",
    "    serving_container_environment_variables={\n",
    "        \"HF_MODEL_ID\": HF_MODEL_ID,\n",
    "        \"HF_TASK\": HF_TASK\n",
    "    }\n",
    ")\n",
    "\n",
    "print(f\"Model uploaded: {model.resource_name}\")\n"
   ]
  },
  {
   "cell_type": "markdown",
   "id": "26b7d907",
   "metadata": {},
   "source": [
    "## Create endpoint and deploy model into Vertex AI"
   ]
  },
  {
   "cell_type": "code",
   "execution_count": null,
   "id": "cc7dab51",
   "metadata": {},
   "outputs": [
    {
     "name": "stdout",
     "output_type": "stream",
     "text": [
      "Creating Endpoint\n",
      "Create Endpoint backing LRO: projects/198380589718/locations/us-east4/endpoints/9008514270647812096/operations/52646266005356544\n",
      "Endpoint created. Resource name: projects/198380589718/locations/us-east4/endpoints/9008514270647812096\n",
      "To use this Endpoint in another session:\n",
      "endpoint = aiplatform.Endpoint('projects/198380589718/locations/us-east4/endpoints/9008514270647812096')\n",
      "Created new endpoint: projects/198380589718/locations/us-east4/endpoints/9008514270647812096\n",
      "Deploying model to Endpoint : projects/198380589718/locations/us-east4/endpoints/9008514270647812096\n",
      "Deploy Endpoint model backing LRO: projects/198380589718/locations/us-east4/endpoints/9008514270647812096/operations/5553089523396640768\n",
      "Endpoint model deployed. Resource name: projects/198380589718/locations/us-east4/endpoints/9008514270647812096\n",
      "Model deployed to endpoint: projects/198380589718/locations/us-east4/endpoints/9008514270647812096\n"
     ]
    }
   ],
   "source": [
    "endpoint_display_name = f\"{MODEL_DISPLAY_NAME}-endpoint\"\n",
    "endpoints = aiplatform.Endpoint.list(filter=f'display_name=\"{endpoint_display_name}\"')\n",
    "\n",
    "if endpoints:\n",
    "    endpoint = endpoints[0]\n",
    "    print(f\"Using existing endpoint: {endpoint.resource_name}\")\n",
    "else:\n",
    "    endpoint = aiplatform.Endpoint.create(display_name=endpoint_display_name)\n",
    "    print(f\"Created new endpoint: {endpoint.resource_name}\")\n",
    "\n",
    "\n",
    "deployed_model = model.deploy(\n",
    "    endpoint=endpoint,\n",
    "    deployed_model_display_name=MODEL_DISPLAY_NAME,\n",
    "    machine_type=MACHINE_TYPE,\n",
    "    accelerator_type=ACCELERATOR_TYPE,\n",
    "    accelerator_count=1,\n",
    ")\n",
    "\n",
    "print(f\"Model deployed to endpoint: {endpoint.resource_name}\")"
   ]
  },
  {
   "cell_type": "markdown",
   "id": "48eec4c5",
   "metadata": {},
   "source": [
    "## Test model using https request"
   ]
  },
  {
   "cell_type": "code",
   "execution_count": null,
   "id": "cb7c86e1",
   "metadata": {},
   "outputs": [
    {
     "name": "stdout",
     "output_type": "stream",
     "text": [
      "Success! Prediction:\n",
      "{'predictions': [[{'generated_text': '[INST]Given the symptoms, explain these findings: Mild memory loss. The patient is 69 years old. Sleep apnea. Attention deficit disorder. The patient is obese and sedentary. Poor short-term memory. She has diabetes and high blood pressure.[/INST] Based on the symptoms and medical history provided, the patient is likely experiencing a condition known as \"Mild Cognitive Impairment with Seizures.\" This condition is characterized by mild cognitive impairment, which includes mild memory loss, poor short-term memory, and poor short-term attention, alongside the presence of seizures. The patient\\'s age, weight, and lifestyle factors such as obesity and sedentary lifestyle, along with her medical history of diabetes and high blood pressure, are consistent with this condition. The combination of these factors makes it a plausible diagnosis for the symptoms described. It\\'s important to consider this diagnosis when evaluating the patient\\'s overall health and potential treatment options. If further evaluation is warranted, a neurological examination and possibly a seizure examination could be conducted to confirm the diagnosis. In the absence of a definitive diagnosis, it\\'s advisable to consult with a healthcare professional for a comprehensive evaluation.'}]], 'deployedModelId': '4624207256844500992', 'model': 'projects/198380589718/locations/us-east4/models/7927711932730048512', 'modelDisplayName': 'model-mistral-finetuned-medical-reasoning', 'modelVersionId': '1'}\n"
     ]
    }
   ],
   "source": [
    "import requests\n",
    "import google.auth\n",
    "import google.auth.transport.requests\n",
    "\n",
    "ENDPOINT_ID = endpoint.name.split(\"/\")[-1]\n",
    "\n",
    "creds, project = google.auth.default()\n",
    "auth_req = google.auth.transport.requests.Request()\n",
    "creds.refresh(auth_req)\n",
    "AUTH_TOKEN = creds.token\n",
    "\n",
    "endpoint_url = f\"https://{REGION}-aiplatform.googleapis.com/v1/projects/{PROJECT_ID}/locations/{REGION}/endpoints/{ENDPOINT_ID}:predict\"\n",
    "\n",
    "headers = {\n",
    "    \"Authorization\": f\"Bearer {AUTH_TOKEN}\",\n",
    "    \"Content-Type\": \"application/json\"\n",
    "}\n",
    "\n",
    "payload = {\n",
    "    \"instances\": [\n",
    "        \"[INST]Given the symptoms, explain these findings: Mild memory loss. The patient is 69 years old. Sleep apnea. Attention deficit disorder. The patient is obese and sedentary. Poor short-term memory. She has diabetes and high blood pressure.[/INST]\"\n",
    "    ],\n",
    "    \"parameters\": {\n",
    "        \"temperature\": 1.0,\n",
    "        \"max_new_tokens\": 512,\n",
    "        \"top_k\": 50,\n",
    "        \"top_p\": 1.0,\n",
    "        \"repetition_penalty\": 1.0\n",
    "    }\n",
    "}\n",
    "\n",
    "try:\n",
    "    response = requests.post(endpoint_url, json=payload, headers=headers)\n",
    "    response.raise_for_status()\n",
    "    print(\"Success! Prediction:\")\n",
    "    print(response.json())\n",
    "\n",
    "except requests.exceptions.HTTPError as err:\n",
    "    print(f\"HTTP Error: {err}\")\n",
    "    print(f\"Response Text: {err.response.text}\")"
   ]
  },
  {
   "cell_type": "markdown",
   "id": "05b236d9",
   "metadata": {},
   "source": [
    "## Delete endpoint and model to prevent charges"
   ]
  },
  {
   "cell_type": "code",
   "execution_count": null,
   "id": "e356fdb9",
   "metadata": {},
   "outputs": [
    {
     "name": "stdout",
     "output_type": "stream",
     "text": [
      "Targeting specific endpoint for deletion: 9008514270647812096\n",
      "Undeploying Endpoint model: projects/198380589718/locations/us-east4/endpoints/9008514270647812096\n",
      "Undeploy Endpoint model backing LRO: projects/198380589718/locations/us-east4/endpoints/9008514270647812096/operations/221953464496816128\n",
      "Endpoint model undeployed. Resource name: projects/198380589718/locations/us-east4/endpoints/9008514270647812096\n",
      "Deleting Endpoint : projects/198380589718/locations/us-east4/endpoints/9008514270647812096\n",
      "Endpoint deleted. . Resource name: projects/198380589718/locations/us-east4/endpoints/9008514270647812096\n",
      "Deleting Endpoint resource: projects/198380589718/locations/us-east4/endpoints/9008514270647812096\n",
      "Delete Endpoint backing LRO: projects/198380589718/locations/us-east4/operations/4833639482924204032\n",
      "Endpoint resource projects/198380589718/locations/us-east4/endpoints/9008514270647812096 deleted.\n",
      "Successfully initiated deletion for endpoint 9008514270647812096.\n"
     ]
    }
   ],
   "source": [
    "ENDPOINT_ID_TO_DELETE = endpoint.name.split(\"/\")[-1]\n",
    "\n",
    "aiplatform.init(project=PROJECT_ID, location=REGION)\n",
    "\n",
    "print(f\"Targeting specific endpoint for deletion: {ENDPOINT_ID_TO_DELETE}\")\n",
    "\n",
    "try:\n",
    "    endpoint = aiplatform.Endpoint(endpoint_name=ENDPOINT_ID_TO_DELETE)\n",
    "    \n",
    "    endpoint.delete(force=True)\n",
    "    \n",
    "    print(f\"Successfully initiated deletion for endpoint {ENDPOINT_ID_TO_DELETE}.\")\n",
    "\n",
    "    models = aiplatform.Model.list(filter=f'display_name=\"{MODEL_DISPLAY_NAME}\"')\n",
    "    \n",
    "    for model in models:\n",
    "        print(f\"Deleting model: {model.resource_name}\")\n",
    "        model.delete()\n",
    "\n",
    "except Exception as e:\n",
    "    print(f\"An error occurred during endpoint deletion: {e}\")"
   ]
  }
 ],
 "metadata": {
  "kernelspec": {
   "display_name": "LLM",
   "language": "python",
   "name": "python3"
  },
  "language_info": {
   "codemirror_mode": {
    "name": "ipython",
    "version": 3
   },
   "file_extension": ".py",
   "mimetype": "text/x-python",
   "name": "python",
   "nbconvert_exporter": "python",
   "pygments_lexer": "ipython3",
   "version": "3.10.16"
  }
 },
 "nbformat": 4,
 "nbformat_minor": 5
}
