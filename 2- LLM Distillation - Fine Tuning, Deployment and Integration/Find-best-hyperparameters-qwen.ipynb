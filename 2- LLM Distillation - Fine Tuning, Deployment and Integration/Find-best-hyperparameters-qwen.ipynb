{
 "cells": [
  {
   "cell_type": "markdown",
   "id": "01297bc5",
   "metadata": {},
   "source": [
    "## Imports of dependencies"
   ]
  },
  {
   "cell_type": "code",
   "execution_count": 2,
   "id": "4b8e3d5b",
   "metadata": {},
   "outputs": [
    {
     "name": "stdout",
     "output_type": "stream",
     "text": [
      "[2025-06-18 22:52:56,832] [INFO] [real_accelerator.py:239:get_accelerator] Setting ds_accelerator to cuda (auto detect)\n"
     ]
    },
    {
     "name": "stderr",
     "output_type": "stream",
     "text": [
      "W0618 22:52:58.902000 9888 site-packages\\torch\\distributed\\elastic\\multiprocessing\\redirects.py:29] NOTE: Redirects are currently not supported in Windows or MacOs.\n"
     ]
    }
   ],
   "source": [
    "from transformers import AutoTokenizer\n",
    "from sklearn.feature_extraction.text import TfidfVectorizer\n",
    "from sklearn.cluster import KMeans\n",
    "from sklearn.metrics import pairwise_distances_argmin_min\n",
    "import pandas as pd\n",
    "import pandas as pd\n",
    "from datasets import Dataset, load_dataset, load_from_disk\n",
    "import optuna\n",
    "from transformers import AutoModelForCausalLM, TrainingArguments, Trainer\n",
    "import torch\n",
    "from transformers import AutoTokenizer\n",
    "import pandas as pd\n",
    "from datasets import Dataset, load_dataset, load_from_disk\n",
    "from transformers import AutoTokenizer\n",
    "import wandb"
   ]
  },
  {
   "cell_type": "markdown",
   "id": "42e19575",
   "metadata": {},
   "source": [
    "## Loading dataset and prepare Dataframe to easy following process."
   ]
  },
  {
   "cell_type": "code",
   "execution_count": 3,
   "id": "cc0934b2",
   "metadata": {},
   "outputs": [
    {
     "name": "stdout",
     "output_type": "stream",
     "text": [
      "                                            Question  \\\n",
      "0  What is the ideal management for a 40-year-old...   \n",
      "1  A 54-year-old woman with a history of chronic ...   \n",
      "2  A 27-year-old woman with mild persistent asthm...   \n",
      "3  A 40-year-old man undergoing an insurance asse...   \n",
      "4  A 43-year-old man presents with nasal congesti...   \n",
      "\n",
      "                                         Complex_CoT  \\\n",
      "0  Alright, let's think about this case. We've go...   \n",
      "1  Alright, so we have a 54-year-old woman who's ...   \n",
      "2  Alright, so this woman with asthma is having t...   \n",
      "3  Alright, we've got a 40-year-old guy who's goi...   \n",
      "4  Alright, let's think about what's going on her...   \n",
      "\n",
      "                                            Response  \n",
      "0  The management of a 40-year-old female patient...  \n",
      "1  The clinical presentation described—a chronic ...  \n",
      "2  Based on the information provided, it is most ...  \n",
      "3  The most likely diagnosis for the abnormal fin...  \n",
      "4  Based on the symptoms and findings you've desc...  \n",
      "19679\n"
     ]
    }
   ],
   "source": [
    "dataset = load_dataset(\"FreedomIntelligence/medical-o1-reasoning-SFT\", 'en')\n",
    "dataset = dataset['train'].train_test_split(test_size=0.1)\n",
    "df = pd.concat([dataset['train'].to_pandas(), dataset['test'].to_pandas()], ignore_index=True)\n",
    "df = df.drop_duplicates(subset=['Question'])\n",
    "print(df.head())\n",
    "print(len(df))\n"
   ]
  },
  {
   "cell_type": "markdown",
   "id": "5097cbb7",
   "metadata": {},
   "source": [
    "## Creating clusters to obtain significant subset of dataset"
   ]
  },
  {
   "cell_type": "code",
   "execution_count": null,
   "id": "eb8cdae2",
   "metadata": {},
   "outputs": [
    {
     "name": "stdout",
     "output_type": "stream",
     "text": [
      "                                   centroid_question\n",
      "0  During a laparotomy for an ovarian tumor, if a...\n",
      "1  本例检查结果:Hh105g/L,WBC5.9×109/L,尿蛋白(+++),尿素氮20mmo...\n",
      "2  A 9-month-old boy is brought to the physician ...\n",
      "3  A 68-year-old man comes to the physician becau...\n",
      "4  A female presents with symptoms and signs sugg...\n",
      "Number of unique centroid questions: 1284\n"
     ]
    }
   ],
   "source": [
    "texts = df[\"Question\"].astype(str).tolist()\n",
    "\n",
    "vectorizer = TfidfVectorizer(max_features=1024)\n",
    "X = vectorizer.fit_transform(texts)\n",
    "\n",
    "n_clusters = 1968\n",
    "kmeans = KMeans(n_clusters=n_clusters, random_state=42, n_init=10)\n",
    "kmeans.fit(X)\n",
    "\n",
    "closest, _ = pairwise_distances_argmin_min(kmeans.cluster_centers_, X)\n",
    "centroid_questions = [texts[i] for i in closest]\n",
    "\n",
    "unique_centroid_questions = list(dict.fromkeys(centroid_questions))\n",
    "\n",
    "centroids_df = pd.DataFrame({'centroid_question': unique_centroid_questions})\n",
    "print(centroids_df.head())\n",
    "print(f\"Number of unique centroid questions: {len(centroids_df)}\")"
   ]
  },
  {
   "cell_type": "markdown",
   "id": "2c1e392e",
   "metadata": {},
   "source": [
    "## Obtain the answers for the centroid questions"
   ]
  },
  {
   "cell_type": "code",
   "execution_count": null,
   "id": "c599319d",
   "metadata": {},
   "outputs": [
    {
     "name": "stdout",
     "output_type": "stream",
     "text": [
      "                                            Question  \\\n",
      "0  A 78-year-old woman with a history of essentia...   \n",
      "1  A 39-year-old woman presents with 5 days of pa...   \n",
      "2  A child presents with an infective skin lesion...   \n",
      "3  本例检查结果:Hh105g/L,WBC5.9×109/L,尿蛋白(+++),尿素氮20mmo...   \n",
      "4  A 68-year-old woman comes to the physician for...   \n",
      "\n",
      "                                            Response  \n",
      "0  For managing a provoked deep venous thrombosis...  \n",
      "1  Based on the information provided, the most li...  \n",
      "2  To confirm the identity of the organism likely...  \n",
      "3  The clinical staging of this patient aligns wi...  \n",
      "4  The most likely underlying cause of this patie...  \n",
      "(1250, 2)\n"
     ]
    }
   ],
   "source": [
    "centroids_with_responses = pd.merge(\n",
    "    centroids_df,\n",
    "    df[['Question', 'Response']],\n",
    "    left_on='centroid_question',\n",
    "    right_on='Question',\n",
    "    how='left'\n",
    ")[['Question', 'Response']]\n",
    "\n",
    "centroids_with_responses = centroids_with_responses.drop_duplicates(subset=['Question'])\n",
    "\n",
    "print(centroids_with_responses.head())\n",
    "print(centroids_with_responses.shape)"
   ]
  },
  {
   "cell_type": "markdown",
   "id": "8ab2331e",
   "metadata": {},
   "source": [
    "## Save meaningful centroids dataset"
   ]
  },
  {
   "cell_type": "code",
   "execution_count": null,
   "id": "f9105181",
   "metadata": {},
   "outputs": [
    {
     "data": {
      "application/vnd.jupyter.widget-view+json": {
       "model_id": "5f0f2c1bfe404aa5add4d16ae1c47a93",
       "version_major": 2,
       "version_minor": 0
      },
      "text/plain": [
       "Saving the dataset (0/1 shards):   0%|          | 0/1250 [00:00<?, ? examples/s]"
      ]
     },
     "metadata": {},
     "output_type": "display_data"
    }
   ],
   "source": [
    "centroids_dataset = Dataset.from_pandas(centroids_with_responses, preserve_index=False)\n",
    "\n",
    "centroids_dataset.save_to_disk(\"centroids_dataset\")"
   ]
  },
  {
   "cell_type": "markdown",
   "id": "7ad0aa03",
   "metadata": {},
   "source": [
    "## Load centroids dataset into memory"
   ]
  },
  {
   "cell_type": "code",
   "execution_count": null,
   "id": "9173f36d",
   "metadata": {},
   "outputs": [
    {
     "name": "stdout",
     "output_type": "stream",
     "text": [
      "                                            Question  \\\n",
      "0  A 78-year-old woman with a history of essentia...   \n",
      "1  A 39-year-old woman presents with 5 days of pa...   \n",
      "2  A child presents with an infective skin lesion...   \n",
      "3  本例检查结果:Hh105g/L,WBC5.9×109/L,尿蛋白(+++),尿素氮20mmo...   \n",
      "4  A 68-year-old woman comes to the physician for...   \n",
      "\n",
      "                                            Response  \n",
      "0  For managing a provoked deep venous thrombosis...  \n",
      "1  Based on the information provided, the most li...  \n",
      "2  To confirm the identity of the organism likely...  \n",
      "3  The clinical staging of this patient aligns wi...  \n",
      "4  The most likely underlying cause of this patie...  \n",
      "(1250, 2)\n",
      "Dataset({\n",
      "    features: ['Question', 'Response'],\n",
      "    num_rows: 1250\n",
      "})\n"
     ]
    }
   ],
   "source": [
    "loaded_dataset = load_from_disk(\"centroids_dataset\")\n",
    "print(loaded_dataset.to_pandas().head())\n",
    "print(loaded_dataset.to_pandas().shape)\n",
    "print(loaded_dataset)"
   ]
  },
  {
   "cell_type": "markdown",
   "id": "f4c996fd",
   "metadata": {},
   "source": [
    "## Split centroids dataset into train and test subset"
   ]
  },
  {
   "cell_type": "code",
   "execution_count": null,
   "id": "ac887296",
   "metadata": {},
   "outputs": [
    {
     "name": "stdout",
     "output_type": "stream",
     "text": [
      "1125\n",
      "125\n",
      "                                            Question  \\\n",
      "0  In a 95% confidence interval for the prevalenc...   \n",
      "1  According to the Factory Act of 1948, what is ...   \n",
      "2  In a situation where a 32-year-old man with a ...   \n",
      "3  CAD predisposing factors-a)  Homocysteinemiab)...   \n",
      "4  A 4 year old child presents with acute watery ...   \n",
      "\n",
      "                                            Response  \n",
      "0  In a 95% confidence interval ranging from 56% ...  \n",
      "1  According to the Factory Act of 1948, the maxi...  \n",
      "2  Based on the symptoms described—coma, pinpoint...  \n",
      "3  The risk factors for coronary artery disease (...  \n",
      "4       The etiological agent is B. Giardia lamblia.  \n"
     ]
    }
   ],
   "source": [
    "loaded_dataset = loaded_dataset.train_test_split(test_size=0.1)\n",
    "print(len(loaded_dataset[\"train\"]))\n",
    "print(len(loaded_dataset[\"test\"]))\n",
    "print(loaded_dataset[\"test\"].to_pandas().head())"
   ]
  },
  {
   "cell_type": "markdown",
   "id": "c078744f",
   "metadata": {},
   "source": [
    "## Select Hugging Face model and its tokenizer"
   ]
  },
  {
   "cell_type": "code",
   "execution_count": null,
   "id": "d3abea54",
   "metadata": {},
   "outputs": [],
   "source": [
    "model_name = \"nvidia/Nemotron-Research-Reasoning-Qwen-1.5B\"\n",
    "tokenizer = AutoTokenizer.from_pretrained(model_name)\n",
    "tokenizer.pad_token = tokenizer.eos_token"
   ]
  },
  {
   "cell_type": "markdown",
   "id": "1020da61",
   "metadata": {},
   "source": [
    "## Function to tokenize and format the data"
   ]
  },
  {
   "cell_type": "code",
   "execution_count": null,
   "id": "738e7e38",
   "metadata": {},
   "outputs": [],
   "source": [
    "def preprocess_function(examples):\n",
    "    prompts = [f\"[INST] {question} [/INST]\" for question in examples['Question']]\n",
    "    responses = examples['Response']\n",
    "    \n",
    "    texts = []\n",
    "    for prompt, response in zip(prompts, responses):\n",
    "        texts.append(f\"{prompt} {response}\")\n",
    "    \n",
    "    print(texts[:1])\n",
    "    tokenized = tokenizer(\n",
    "        texts,\n",
    "        truncation=True,\n",
    "        max_length=512,\n",
    "        padding=\"max_length\",\n",
    "        return_tensors=\"pt\"\n",
    "    )\n",
    "    \n",
    "    tokenized[\"labels\"] = tokenized[\"input_ids\"].clone()\n",
    "    \n",
    "    return tokenized"
   ]
  },
  {
   "cell_type": "markdown",
   "id": "e6b4e9a7",
   "metadata": {},
   "source": [
    "## All dataset is tokenized"
   ]
  },
  {
   "cell_type": "code",
   "execution_count": null,
   "id": "d91de591",
   "metadata": {},
   "outputs": [
    {
     "data": {
      "application/vnd.jupyter.widget-view+json": {
       "model_id": "bea6471b919d470e9ac5e92147afb75a",
       "version_major": 2,
       "version_minor": 0
      },
      "text/plain": [
       "Map:   0%|          | 0/1125 [00:00<?, ? examples/s]"
      ]
     },
     "metadata": {},
     "output_type": "display_data"
    },
    {
     "name": "stdout",
     "output_type": "stream",
     "text": [
      "['[INST] A 7-month-old boy with an unremarkable past medical history is experiencing symptoms such as fever, chills, cough, runny nose, and watery eyes along with his elder brother. He has been diagnosed with an influenza virus infection, and this is his first exposure to the virus. What immune mechanism is most likely responsible for combating the influenza virus infection in this scenario? [/INST] In this scenario, since the 7-month-old boy is experiencing his first influenza virus infection, the innate immune response plays a pivotal role in combating the virus initially. The key elements of this response include the production of Type I interferons (such as IFN-alpha and IFN-beta) by virus-infected cells. These interferons act as signaling molecules, alerting neighboring cells to bolster their defenses against the viral infection and activating natural killer (NK) cells. NK cells then play an essential role in identifying and destroying infected cells, helping to control the spread of the virus in the early stages before the adaptive immune response can fully engage. Thus, the innate immune response, particularly through the actions of interferons and NK cells, is most responsible for combating the influenza virus infection in this young child.']\n",
      "['[INST] Which is seen in nephrotic syndrome-a) Low serum calciumb) Raised AT-IIIc) Low lipidd) Platelet activation\\nA. b\\nB. c\\nC. ad\\nD. ab [/INST] The correct answer is C. ad']\n"
     ]
    },
    {
     "data": {
      "application/vnd.jupyter.widget-view+json": {
       "model_id": "e78e077a4ecd48808e87f242d726140c",
       "version_major": 2,
       "version_minor": 0
      },
      "text/plain": [
       "Map:   0%|          | 0/125 [00:00<?, ? examples/s]"
      ]
     },
     "metadata": {},
     "output_type": "display_data"
    },
    {
     "name": "stdout",
     "output_type": "stream",
     "text": [
      "['[INST] In a 95% confidence interval for the prevalence of cancer among smokers aged over 65 years, ranging from 56% to 76%, what is the probability that the true prevalence is actually less than 56%? [/INST] In a 95% confidence interval ranging from 56% to 76% for the prevalence of cancer among smokers aged over 65, the probability that the true prevalence is actually less than 56% is 2.5%. This accounts for the lower tail of the distribution outside the confidence interval, with the remaining 2.5% being the probability that the true prevalence is more than 76%.']\n"
     ]
    }
   ],
   "source": [
    "tokenized_dataset = loaded_dataset.map(\n",
    "    preprocess_function,\n",
    "    batched=True,\n",
    "    remove_columns=loaded_dataset[\"train\"].column_names\n",
    ")"
   ]
  },
  {
   "cell_type": "markdown",
   "id": "e84a2e76",
   "metadata": {},
   "source": [
    "## Create model shell from specified Hugging Face model's name, and using available GPU."
   ]
  },
  {
   "cell_type": "code",
   "execution_count": null,
   "id": "29f70bf0",
   "metadata": {},
   "outputs": [],
   "source": [
    "model = AutoModelForCausalLM.from_pretrained(\n",
    "    model_name,\n",
    "    torch_dtype=torch.bfloat16,\n",
    "    device_map=\"auto\"\n",
    ")"
   ]
  },
  {
   "cell_type": "markdown",
   "id": "fb678b2c",
   "metadata": {},
   "source": [
    "## Grid Search of set of hyperparameters to find the best combination."
   ]
  },
  {
   "cell_type": "code",
   "execution_count": null,
   "id": "10230752",
   "metadata": {},
   "outputs": [],
   "source": [
    "def optuna_objective(trial):\n",
    "\n",
    "    wandb.init(\n",
    "        project=\"model-qwen-finetuned-medical-reasoning\",\n",
    "        name=f\"trial_{trial.number}\",\n",
    "        reinit=True\n",
    "    )\n",
    "    learning_rate = trial.suggest_float(\"learning_rate\", 1e-5, 5e-5, log=True)\n",
    "    per_device_train_batch_size = trial.suggest_categorical(\"per_device_train_batch_size\", [2, 4, 8, 16])\n",
    "    gradient_accumulation_steps = trial.suggest_categorical(\"gradient_accumulation_steps\", [4, 8, 16])\n",
    "\n",
    "    training_args = TrainingArguments(\n",
    "        output_dir=\"./qwen-finetuned\",\n",
    "        run_name=f\"trial_{trial.number}\",\n",
    "        overwrite_output_dir=True,\n",
    "        num_train_epochs=5,\n",
    "        per_device_train_batch_size=per_device_train_batch_size,\n",
    "        per_device_eval_batch_size=per_device_train_batch_size,\n",
    "        gradient_accumulation_steps=gradient_accumulation_steps,\n",
    "        save_steps=1000,\n",
    "        save_total_limit=1,\n",
    "        eval_steps=500,\n",
    "        logging_dir=\"./logs\",\n",
    "        logging_steps=50,\n",
    "        learning_rate=learning_rate,\n",
    "        weight_decay=0.01,\n",
    "        warmup_steps=200,\n",
    "        lr_scheduler_type=\"cosine\",\n",
    "        report_to=\"wandb\",\n",
    "        fp16=False,\n",
    "        bf16=True,\n",
    "        gradient_checkpointing=True,\n",
    "    )\n",
    "\n",
    "    trainer = Trainer(\n",
    "        model=model,\n",
    "        args=training_args,\n",
    "        train_dataset=tokenized_dataset[\"train\"],\n",
    "        eval_dataset=tokenized_dataset[\"test\"],\n",
    "    )\n",
    "\n",
    "    trainer.train()\n",
    "    eval_metrics = trainer.evaluate()\n",
    "    wandb.finish()\n",
    "    return eval_metrics[\"eval_loss\"]\n"
   ]
  },
  {
   "cell_type": "markdown",
   "id": "03feb443",
   "metadata": {},
   "source": [
    "## Run Grid Search to find the best hypermarameter's combination"
   ]
  },
  {
   "cell_type": "code",
   "execution_count": null,
   "id": "8310bcb2",
   "metadata": {},
   "outputs": [
    {
     "name": "stderr",
     "output_type": "stream",
     "text": [
      "[I 2025-06-09 09:17:00,709] A new study created in memory with name: no-name-9bda1e00-b368-4064-b036-3b0ada42bfc2\n",
      "\u001b[34m\u001b[1mwandb\u001b[0m: Currently logged in as: \u001b[33mluis-orellana777\u001b[0m (\u001b[33mluis-orellana777-sngular\u001b[0m) to \u001b[32mhttps://api.wandb.ai\u001b[0m. Use \u001b[1m`wandb login --relogin`\u001b[0m to force relogin\n",
      "\u001b[34m\u001b[1mwandb\u001b[0m: \u001b[33mWARNING\u001b[0m Using a boolean value for 'reinit' is deprecated. Use 'return_previous' or 'finish_previous' instead.\n"
     ]
    },
    {
     "data": {
      "text/html": [
       "Tracking run with wandb version 0.19.11"
      ],
      "text/plain": [
       "<IPython.core.display.HTML object>"
      ]
     },
     "metadata": {},
     "output_type": "display_data"
    },
    {
     "data": {
      "text/html": [
       "Run data is saved locally in <code>c:\\Users\\Luis\\OneDrive\\Documentos\\Data Science\\LLM\\Fine Tuning\\wandb\\run-20250609_091701-lf4170mt</code>"
      ],
      "text/plain": [
       "<IPython.core.display.HTML object>"
      ]
     },
     "metadata": {},
     "output_type": "display_data"
    },
    {
     "data": {
      "text/html": [
       "Syncing run <strong><a href='https://wandb.ai/luis-orellana777-sngular/model-qwen-finetuned-medical-reasoning/runs/lf4170mt' target=\"_blank\">trial_0</a></strong> to <a href='https://wandb.ai/luis-orellana777-sngular/model-qwen-finetuned-medical-reasoning' target=\"_blank\">Weights & Biases</a> (<a href='https://wandb.me/developer-guide' target=\"_blank\">docs</a>)<br>"
      ],
      "text/plain": [
       "<IPython.core.display.HTML object>"
      ]
     },
     "metadata": {},
     "output_type": "display_data"
    },
    {
     "data": {
      "text/html": [
       " View project at <a href='https://wandb.ai/luis-orellana777-sngular/model-qwen-finetuned-medical-reasoning' target=\"_blank\">https://wandb.ai/luis-orellana777-sngular/model-qwen-finetuned-medical-reasoning</a>"
      ],
      "text/plain": [
       "<IPython.core.display.HTML object>"
      ]
     },
     "metadata": {},
     "output_type": "display_data"
    },
    {
     "data": {
      "text/html": [
       " View run at <a href='https://wandb.ai/luis-orellana777-sngular/model-qwen-finetuned-medical-reasoning/runs/lf4170mt' target=\"_blank\">https://wandb.ai/luis-orellana777-sngular/model-qwen-finetuned-medical-reasoning/runs/lf4170mt</a>"
      ],
      "text/plain": [
       "<IPython.core.display.HTML object>"
      ]
     },
     "metadata": {},
     "output_type": "display_data"
    },
    {
     "name": "stderr",
     "output_type": "stream",
     "text": [
      "`use_cache=True` is incompatible with gradient checkpointing. Setting `use_cache=False`.\n"
     ]
    },
    {
     "data": {
      "text/html": [
       "\n",
       "    <div>\n",
       "      \n",
       "      <progress value='40' max='40' style='width:300px; height:20px; vertical-align: middle;'></progress>\n",
       "      [40/40 06:10, Epoch 4/5]\n",
       "    </div>\n",
       "    <table border=\"1\" class=\"dataframe\">\n",
       "  <thead>\n",
       " <tr style=\"text-align: left;\">\n",
       "      <th>Step</th>\n",
       "      <th>Training Loss</th>\n",
       "    </tr>\n",
       "  </thead>\n",
       "  <tbody>\n",
       "  </tbody>\n",
       "</table><p>"
      ],
      "text/plain": [
       "<IPython.core.display.HTML object>"
      ]
     },
     "metadata": {},
     "output_type": "display_data"
    },
    {
     "data": {
      "text/html": [
       "\n",
       "    <div>\n",
       "      \n",
       "      <progress value='8' max='8' style='width:300px; height:20px; vertical-align: middle;'></progress>\n",
       "      [8/8 00:01]\n",
       "    </div>\n",
       "    "
      ],
      "text/plain": [
       "<IPython.core.display.HTML object>"
      ]
     },
     "metadata": {},
     "output_type": "display_data"
    },
    {
     "name": "stderr",
     "output_type": "stream",
     "text": [
      "\u001b[34m\u001b[1mwandb\u001b[0m: \u001b[32m\u001b[41mERROR\u001b[0m The nbformat package was not found. It is required to save notebook history.\n"
     ]
    },
    {
     "data": {
      "text/html": [],
      "text/plain": [
       "<IPython.core.display.HTML object>"
      ]
     },
     "metadata": {},
     "output_type": "display_data"
    },
    {
     "data": {
      "text/html": [
       "<br>    <style><br>        .wandb-row {<br>            display: flex;<br>            flex-direction: row;<br>            flex-wrap: wrap;<br>            justify-content: flex-start;<br>            width: 100%;<br>        }<br>        .wandb-col {<br>            display: flex;<br>            flex-direction: column;<br>            flex-basis: 100%;<br>            flex: 1;<br>            padding: 10px;<br>        }<br>    </style><br><div class=\"wandb-row\"><div class=\"wandb-col\"><h3>Run history:</h3><br/><table class=\"wandb\"><tr><td>eval/loss</td><td>▁</td></tr><tr><td>eval/runtime</td><td>▁</td></tr><tr><td>eval/samples_per_second</td><td>▁</td></tr><tr><td>eval/steps_per_second</td><td>▁</td></tr><tr><td>train/epoch</td><td>▁▁</td></tr><tr><td>train/global_step</td><td>▁▁</td></tr></table><br/></div><div class=\"wandb-col\"><h3>Run summary:</h3><br/><table class=\"wandb\"><tr><td>eval/loss</td><td>0.93118</td></tr><tr><td>eval/runtime</td><td>2.3854</td></tr><tr><td>eval/samples_per_second</td><td>52.402</td></tr><tr><td>eval/steps_per_second</td><td>3.354</td></tr><tr><td>total_flos</td><td>2.579805945987072e+16</td></tr><tr><td>train/epoch</td><td>4.90141</td></tr><tr><td>train/global_step</td><td>40</td></tr><tr><td>train_loss</td><td>5.61875</td></tr><tr><td>train_runtime</td><td>376.2862</td></tr><tr><td>train_samples_per_second</td><td>14.949</td></tr><tr><td>train_steps_per_second</td><td>0.106</td></tr></table><br/></div></div>"
      ],
      "text/plain": [
       "<IPython.core.display.HTML object>"
      ]
     },
     "metadata": {},
     "output_type": "display_data"
    },
    {
     "data": {
      "text/html": [
       " View run <strong style=\"color:#cdcd00\">trial_0</strong> at: <a href='https://wandb.ai/luis-orellana777-sngular/model-qwen-finetuned-medical-reasoning/runs/lf4170mt' target=\"_blank\">https://wandb.ai/luis-orellana777-sngular/model-qwen-finetuned-medical-reasoning/runs/lf4170mt</a><br> View project at: <a href='https://wandb.ai/luis-orellana777-sngular/model-qwen-finetuned-medical-reasoning' target=\"_blank\">https://wandb.ai/luis-orellana777-sngular/model-qwen-finetuned-medical-reasoning</a><br>Synced 5 W&B file(s), 0 media file(s), 0 artifact file(s) and 0 other file(s)"
      ],
      "text/plain": [
       "<IPython.core.display.HTML object>"
      ]
     },
     "metadata": {},
     "output_type": "display_data"
    },
    {
     "data": {
      "text/html": [
       "Find logs at: <code>.\\wandb\\run-20250609_091701-lf4170mt\\logs</code>"
      ],
      "text/plain": [
       "<IPython.core.display.HTML object>"
      ]
     },
     "metadata": {},
     "output_type": "display_data"
    },
    {
     "name": "stderr",
     "output_type": "stream",
     "text": [
      "[I 2025-06-09 09:23:21,582] Trial 0 finished with value: 0.9311835169792175 and parameters: {'learning_rate': 4.673650602358979e-05, 'per_device_train_batch_size': 16, 'gradient_accumulation_steps': 8}. Best is trial 0 with value: 0.9311835169792175.\n"
     ]
    },
    {
     "data": {
      "text/html": [
       "Tracking run with wandb version 0.19.11"
      ],
      "text/plain": [
       "<IPython.core.display.HTML object>"
      ]
     },
     "metadata": {},
     "output_type": "display_data"
    },
    {
     "data": {
      "text/html": [
       "Run data is saved locally in <code>c:\\Users\\Luis\\OneDrive\\Documentos\\Data Science\\LLM\\Fine Tuning\\wandb\\run-20250609_092321-tghhvxgm</code>"
      ],
      "text/plain": [
       "<IPython.core.display.HTML object>"
      ]
     },
     "metadata": {},
     "output_type": "display_data"
    },
    {
     "data": {
      "text/html": [
       "Syncing run <strong><a href='https://wandb.ai/luis-orellana777-sngular/model-qwen-finetuned-medical-reasoning/runs/tghhvxgm' target=\"_blank\">trial_1</a></strong> to <a href='https://wandb.ai/luis-orellana777-sngular/model-qwen-finetuned-medical-reasoning' target=\"_blank\">Weights & Biases</a> (<a href='https://wandb.me/developer-guide' target=\"_blank\">docs</a>)<br>"
      ],
      "text/plain": [
       "<IPython.core.display.HTML object>"
      ]
     },
     "metadata": {},
     "output_type": "display_data"
    },
    {
     "data": {
      "text/html": [
       " View project at <a href='https://wandb.ai/luis-orellana777-sngular/model-qwen-finetuned-medical-reasoning' target=\"_blank\">https://wandb.ai/luis-orellana777-sngular/model-qwen-finetuned-medical-reasoning</a>"
      ],
      "text/plain": [
       "<IPython.core.display.HTML object>"
      ]
     },
     "metadata": {},
     "output_type": "display_data"
    },
    {
     "data": {
      "text/html": [
       " View run at <a href='https://wandb.ai/luis-orellana777-sngular/model-qwen-finetuned-medical-reasoning/runs/tghhvxgm' target=\"_blank\">https://wandb.ai/luis-orellana777-sngular/model-qwen-finetuned-medical-reasoning/runs/tghhvxgm</a>"
      ],
      "text/plain": [
       "<IPython.core.display.HTML object>"
      ]
     },
     "metadata": {},
     "output_type": "display_data"
    },
    {
     "data": {
      "text/html": [
       "\n",
       "    <div>\n",
       "      \n",
       "      <progress value='175' max='175' style='width:300px; height:20px; vertical-align: middle;'></progress>\n",
       "      [175/175 06:06, Epoch 4/5]\n",
       "    </div>\n",
       "    <table border=\"1\" class=\"dataframe\">\n",
       "  <thead>\n",
       " <tr style=\"text-align: left;\">\n",
       "      <th>Step</th>\n",
       "      <th>Training Loss</th>\n",
       "    </tr>\n",
       "  </thead>\n",
       "  <tbody>\n",
       "    <tr>\n",
       "      <td>50</td>\n",
       "      <td>0.940300</td>\n",
       "    </tr>\n",
       "    <tr>\n",
       "      <td>100</td>\n",
       "      <td>0.780600</td>\n",
       "    </tr>\n",
       "    <tr>\n",
       "      <td>150</td>\n",
       "      <td>0.693100</td>\n",
       "    </tr>\n",
       "  </tbody>\n",
       "</table><p>"
      ],
      "text/plain": [
       "<IPython.core.display.HTML object>"
      ]
     },
     "metadata": {},
     "output_type": "display_data"
    },
    {
     "data": {
      "text/html": [
       "\n",
       "    <div>\n",
       "      \n",
       "      <progress value='63' max='63' style='width:300px; height:20px; vertical-align: middle;'></progress>\n",
       "      [63/63 00:02]\n",
       "    </div>\n",
       "    "
      ],
      "text/plain": [
       "<IPython.core.display.HTML object>"
      ]
     },
     "metadata": {},
     "output_type": "display_data"
    },
    {
     "name": "stderr",
     "output_type": "stream",
     "text": [
      "\u001b[34m\u001b[1mwandb\u001b[0m: \u001b[32m\u001b[41mERROR\u001b[0m The nbformat package was not found. It is required to save notebook history.\n"
     ]
    },
    {
     "data": {
      "text/html": [],
      "text/plain": [
       "<IPython.core.display.HTML object>"
      ]
     },
     "metadata": {},
     "output_type": "display_data"
    },
    {
     "data": {
      "text/html": [
       "<br>    <style><br>        .wandb-row {<br>            display: flex;<br>            flex-direction: row;<br>            flex-wrap: wrap;<br>            justify-content: flex-start;<br>            width: 100%;<br>        }<br>        .wandb-col {<br>            display: flex;<br>            flex-direction: column;<br>            flex-basis: 100%;<br>            flex: 1;<br>            padding: 10px;<br>        }<br>    </style><br><div class=\"wandb-row\"><div class=\"wandb-col\"><h3>Run history:</h3><br/><table class=\"wandb\"><tr><td>eval/loss</td><td>▁</td></tr><tr><td>eval/runtime</td><td>▁</td></tr><tr><td>eval/samples_per_second</td><td>▁</td></tr><tr><td>eval/steps_per_second</td><td>▁</td></tr><tr><td>train/epoch</td><td>▁▄▇██</td></tr><tr><td>train/global_step</td><td>▁▄▇██</td></tr><tr><td>train/grad_norm</td><td>█▄▁</td></tr><tr><td>train/learning_rate</td><td>▁▅█</td></tr><tr><td>train/loss</td><td>█▃▁</td></tr></table><br/></div><div class=\"wandb-col\"><h3>Run summary:</h3><br/><table class=\"wandb\"><tr><td>eval/loss</td><td>0.66609</td></tr><tr><td>eval/runtime</td><td>2.0408</td></tr><tr><td>eval/samples_per_second</td><td>61.251</td></tr><tr><td>eval/steps_per_second</td><td>30.871</td></tr><tr><td>total_flos</td><td>2.6044658557648896e+16</td></tr><tr><td>train/epoch</td><td>4.88099</td></tr><tr><td>train/global_step</td><td>175</td></tr><tr><td>train/grad_norm</td><td>0.71484</td></tr><tr><td>train/learning_rate</td><td>2e-05</td></tr><tr><td>train/loss</td><td>0.6931</td></tr><tr><td>train_loss</td><td>0.78578</td></tr><tr><td>train_runtime</td><td>369.8683</td></tr><tr><td>train_samples_per_second</td><td>15.208</td></tr><tr><td>train_steps_per_second</td><td>0.473</td></tr></table><br/></div></div>"
      ],
      "text/plain": [
       "<IPython.core.display.HTML object>"
      ]
     },
     "metadata": {},
     "output_type": "display_data"
    },
    {
     "data": {
      "text/html": [
       " View run <strong style=\"color:#cdcd00\">trial_1</strong> at: <a href='https://wandb.ai/luis-orellana777-sngular/model-qwen-finetuned-medical-reasoning/runs/tghhvxgm' target=\"_blank\">https://wandb.ai/luis-orellana777-sngular/model-qwen-finetuned-medical-reasoning/runs/tghhvxgm</a><br> View project at: <a href='https://wandb.ai/luis-orellana777-sngular/model-qwen-finetuned-medical-reasoning' target=\"_blank\">https://wandb.ai/luis-orellana777-sngular/model-qwen-finetuned-medical-reasoning</a><br>Synced 5 W&B file(s), 0 media file(s), 0 artifact file(s) and 0 other file(s)"
      ],
      "text/plain": [
       "<IPython.core.display.HTML object>"
      ]
     },
     "metadata": {},
     "output_type": "display_data"
    },
    {
     "data": {
      "text/html": [
       "Find logs at: <code>.\\wandb\\run-20250609_092321-tghhvxgm\\logs</code>"
      ],
      "text/plain": [
       "<IPython.core.display.HTML object>"
      ]
     },
     "metadata": {},
     "output_type": "display_data"
    },
    {
     "name": "stderr",
     "output_type": "stream",
     "text": [
      "[I 2025-06-09 09:29:35,049] Trial 1 finished with value: 0.6660937666893005 and parameters: {'learning_rate': 3.0711570833265244e-05, 'per_device_train_batch_size': 2, 'gradient_accumulation_steps': 16}. Best is trial 1 with value: 0.6660937666893005.\n"
     ]
    },
    {
     "data": {
      "text/html": [
       "Tracking run with wandb version 0.19.11"
      ],
      "text/plain": [
       "<IPython.core.display.HTML object>"
      ]
     },
     "metadata": {},
     "output_type": "display_data"
    },
    {
     "data": {
      "text/html": [
       "Run data is saved locally in <code>c:\\Users\\Luis\\OneDrive\\Documentos\\Data Science\\LLM\\Fine Tuning\\wandb\\run-20250609_092935-xvjf0krs</code>"
      ],
      "text/plain": [
       "<IPython.core.display.HTML object>"
      ]
     },
     "metadata": {},
     "output_type": "display_data"
    },
    {
     "data": {
      "text/html": [
       "Syncing run <strong><a href='https://wandb.ai/luis-orellana777-sngular/model-qwen-finetuned-medical-reasoning/runs/xvjf0krs' target=\"_blank\">trial_2</a></strong> to <a href='https://wandb.ai/luis-orellana777-sngular/model-qwen-finetuned-medical-reasoning' target=\"_blank\">Weights & Biases</a> (<a href='https://wandb.me/developer-guide' target=\"_blank\">docs</a>)<br>"
      ],
      "text/plain": [
       "<IPython.core.display.HTML object>"
      ]
     },
     "metadata": {},
     "output_type": "display_data"
    },
    {
     "data": {
      "text/html": [
       " View project at <a href='https://wandb.ai/luis-orellana777-sngular/model-qwen-finetuned-medical-reasoning' target=\"_blank\">https://wandb.ai/luis-orellana777-sngular/model-qwen-finetuned-medical-reasoning</a>"
      ],
      "text/plain": [
       "<IPython.core.display.HTML object>"
      ]
     },
     "metadata": {},
     "output_type": "display_data"
    },
    {
     "data": {
      "text/html": [
       " View run at <a href='https://wandb.ai/luis-orellana777-sngular/model-qwen-finetuned-medical-reasoning/runs/xvjf0krs' target=\"_blank\">https://wandb.ai/luis-orellana777-sngular/model-qwen-finetuned-medical-reasoning/runs/xvjf0krs</a>"
      ],
      "text/plain": [
       "<IPython.core.display.HTML object>"
      ]
     },
     "metadata": {},
     "output_type": "display_data"
    },
    {
     "data": {
      "text/html": [
       "\n",
       "    <div>\n",
       "      \n",
       "      <progress value='85' max='85' style='width:300px; height:20px; vertical-align: middle;'></progress>\n",
       "      [85/85 04:22, Epoch 4/5]\n",
       "    </div>\n",
       "    <table border=\"1\" class=\"dataframe\">\n",
       "  <thead>\n",
       " <tr style=\"text-align: left;\">\n",
       "      <th>Step</th>\n",
       "      <th>Training Loss</th>\n",
       "    </tr>\n",
       "  </thead>\n",
       "  <tbody>\n",
       "    <tr>\n",
       "      <td>50</td>\n",
       "      <td>0.643400</td>\n",
       "    </tr>\n",
       "  </tbody>\n",
       "</table><p>"
      ],
      "text/plain": [
       "<IPython.core.display.HTML object>"
      ]
     },
     "metadata": {},
     "output_type": "display_data"
    },
    {
     "data": {
      "text/html": [
       "\n",
       "    <div>\n",
       "      \n",
       "      <progress value='16' max='16' style='width:300px; height:20px; vertical-align: middle;'></progress>\n",
       "      [16/16 00:01]\n",
       "    </div>\n",
       "    "
      ],
      "text/plain": [
       "<IPython.core.display.HTML object>"
      ]
     },
     "metadata": {},
     "output_type": "display_data"
    },
    {
     "name": "stderr",
     "output_type": "stream",
     "text": [
      "\u001b[34m\u001b[1mwandb\u001b[0m: \u001b[32m\u001b[41mERROR\u001b[0m The nbformat package was not found. It is required to save notebook history.\n"
     ]
    },
    {
     "data": {
      "text/html": [],
      "text/plain": [
       "<IPython.core.display.HTML object>"
      ]
     },
     "metadata": {},
     "output_type": "display_data"
    },
    {
     "data": {
      "text/html": [
       "<br>    <style><br>        .wandb-row {<br>            display: flex;<br>            flex-direction: row;<br>            flex-wrap: wrap;<br>            justify-content: flex-start;<br>            width: 100%;<br>        }<br>        .wandb-col {<br>            display: flex;<br>            flex-direction: column;<br>            flex-basis: 100%;<br>            flex: 1;<br>            padding: 10px;<br>        }<br>    </style><br><div class=\"wandb-row\"><div class=\"wandb-col\"><h3>Run history:</h3><br/><table class=\"wandb\"><tr><td>eval/loss</td><td>▁</td></tr><tr><td>eval/runtime</td><td>▁</td></tr><tr><td>eval/samples_per_second</td><td>▁</td></tr><tr><td>eval/steps_per_second</td><td>▁</td></tr><tr><td>train/epoch</td><td>▁██</td></tr><tr><td>train/global_step</td><td>▁██</td></tr><tr><td>train/grad_norm</td><td>▁</td></tr><tr><td>train/learning_rate</td><td>▁</td></tr><tr><td>train/loss</td><td>▁</td></tr></table><br/></div><div class=\"wandb-col\"><h3>Run summary:</h3><br/><table class=\"wandb\"><tr><td>eval/loss</td><td>0.6648</td></tr><tr><td>eval/runtime</td><td>1.7112</td></tr><tr><td>eval/samples_per_second</td><td>73.047</td></tr><tr><td>eval/steps_per_second</td><td>9.35</td></tr><tr><td>total_flos</td><td>2.5285892102946816e+16</td></tr><tr><td>train/epoch</td><td>4.73759</td></tr><tr><td>train/global_step</td><td>85</td></tr><tr><td>train/grad_norm</td><td>0.50391</td></tr><tr><td>train/learning_rate</td><td>1e-05</td></tr><tr><td>train/loss</td><td>0.6434</td></tr><tr><td>train_loss</td><td>0.64033</td></tr><tr><td>train_runtime</td><td>265.959</td></tr><tr><td>train_samples_per_second</td><td>21.15</td></tr><tr><td>train_steps_per_second</td><td>0.32</td></tr></table><br/></div></div>"
      ],
      "text/plain": [
       "<IPython.core.display.HTML object>"
      ]
     },
     "metadata": {},
     "output_type": "display_data"
    },
    {
     "data": {
      "text/html": [
       " View run <strong style=\"color:#cdcd00\">trial_2</strong> at: <a href='https://wandb.ai/luis-orellana777-sngular/model-qwen-finetuned-medical-reasoning/runs/xvjf0krs' target=\"_blank\">https://wandb.ai/luis-orellana777-sngular/model-qwen-finetuned-medical-reasoning/runs/xvjf0krs</a><br> View project at: <a href='https://wandb.ai/luis-orellana777-sngular/model-qwen-finetuned-medical-reasoning' target=\"_blank\">https://wandb.ai/luis-orellana777-sngular/model-qwen-finetuned-medical-reasoning</a><br>Synced 5 W&B file(s), 0 media file(s), 0 artifact file(s) and 0 other file(s)"
      ],
      "text/plain": [
       "<IPython.core.display.HTML object>"
      ]
     },
     "metadata": {},
     "output_type": "display_data"
    },
    {
     "data": {
      "text/html": [
       "Find logs at: <code>.\\wandb\\run-20250609_092935-xvjf0krs\\logs</code>"
      ],
      "text/plain": [
       "<IPython.core.display.HTML object>"
      ]
     },
     "metadata": {},
     "output_type": "display_data"
    },
    {
     "name": "stderr",
     "output_type": "stream",
     "text": [
      "[I 2025-06-09 09:34:04,399] Trial 2 finished with value: 0.6648001670837402 and parameters: {'learning_rate': 2.7333299657081294e-05, 'per_device_train_batch_size': 8, 'gradient_accumulation_steps': 8}. Best is trial 2 with value: 0.6648001670837402.\n"
     ]
    },
    {
     "data": {
      "text/html": [
       "Tracking run with wandb version 0.19.11"
      ],
      "text/plain": [
       "<IPython.core.display.HTML object>"
      ]
     },
     "metadata": {},
     "output_type": "display_data"
    },
    {
     "data": {
      "text/html": [
       "Run data is saved locally in <code>c:\\Users\\Luis\\OneDrive\\Documentos\\Data Science\\LLM\\Fine Tuning\\wandb\\run-20250609_093404-5jc6dyua</code>"
      ],
      "text/plain": [
       "<IPython.core.display.HTML object>"
      ]
     },
     "metadata": {},
     "output_type": "display_data"
    },
    {
     "data": {
      "text/html": [
       "Syncing run <strong><a href='https://wandb.ai/luis-orellana777-sngular/model-qwen-finetuned-medical-reasoning/runs/5jc6dyua' target=\"_blank\">trial_3</a></strong> to <a href='https://wandb.ai/luis-orellana777-sngular/model-qwen-finetuned-medical-reasoning' target=\"_blank\">Weights & Biases</a> (<a href='https://wandb.me/developer-guide' target=\"_blank\">docs</a>)<br>"
      ],
      "text/plain": [
       "<IPython.core.display.HTML object>"
      ]
     },
     "metadata": {},
     "output_type": "display_data"
    },
    {
     "data": {
      "text/html": [
       " View project at <a href='https://wandb.ai/luis-orellana777-sngular/model-qwen-finetuned-medical-reasoning' target=\"_blank\">https://wandb.ai/luis-orellana777-sngular/model-qwen-finetuned-medical-reasoning</a>"
      ],
      "text/plain": [
       "<IPython.core.display.HTML object>"
      ]
     },
     "metadata": {},
     "output_type": "display_data"
    },
    {
     "data": {
      "text/html": [
       " View run at <a href='https://wandb.ai/luis-orellana777-sngular/model-qwen-finetuned-medical-reasoning/runs/5jc6dyua' target=\"_blank\">https://wandb.ai/luis-orellana777-sngular/model-qwen-finetuned-medical-reasoning/runs/5jc6dyua</a>"
      ],
      "text/plain": [
       "<IPython.core.display.HTML object>"
      ]
     },
     "metadata": {},
     "output_type": "display_data"
    },
    {
     "data": {
      "text/html": [
       "\n",
       "    <div>\n",
       "      \n",
       "      <progress value='85' max='85' style='width:300px; height:20px; vertical-align: middle;'></progress>\n",
       "      [85/85 06:08, Epoch 4/5]\n",
       "    </div>\n",
       "    <table border=\"1\" class=\"dataframe\">\n",
       "  <thead>\n",
       " <tr style=\"text-align: left;\">\n",
       "      <th>Step</th>\n",
       "      <th>Training Loss</th>\n",
       "    </tr>\n",
       "  </thead>\n",
       "  <tbody>\n",
       "    <tr>\n",
       "      <td>50</td>\n",
       "      <td>0.660800</td>\n",
       "    </tr>\n",
       "  </tbody>\n",
       "</table><p>"
      ],
      "text/plain": [
       "<IPython.core.display.HTML object>"
      ]
     },
     "metadata": {},
     "output_type": "display_data"
    },
    {
     "data": {
      "text/html": [
       "\n",
       "    <div>\n",
       "      \n",
       "      <progress value='8' max='8' style='width:300px; height:20px; vertical-align: middle;'></progress>\n",
       "      [8/8 00:02]\n",
       "    </div>\n",
       "    "
      ],
      "text/plain": [
       "<IPython.core.display.HTML object>"
      ]
     },
     "metadata": {},
     "output_type": "display_data"
    },
    {
     "name": "stderr",
     "output_type": "stream",
     "text": [
      "\u001b[34m\u001b[1mwandb\u001b[0m: \u001b[32m\u001b[41mERROR\u001b[0m The nbformat package was not found. It is required to save notebook history.\n"
     ]
    },
    {
     "data": {
      "text/html": [],
      "text/plain": [
       "<IPython.core.display.HTML object>"
      ]
     },
     "metadata": {},
     "output_type": "display_data"
    },
    {
     "data": {
      "text/html": [
       "<br>    <style><br>        .wandb-row {<br>            display: flex;<br>            flex-direction: row;<br>            flex-wrap: wrap;<br>            justify-content: flex-start;<br>            width: 100%;<br>        }<br>        .wandb-col {<br>            display: flex;<br>            flex-direction: column;<br>            flex-basis: 100%;<br>            flex: 1;<br>            padding: 10px;<br>        }<br>    </style><br><div class=\"wandb-row\"><div class=\"wandb-col\"><h3>Run history:</h3><br/><table class=\"wandb\"><tr><td>eval/loss</td><td>▁</td></tr><tr><td>eval/runtime</td><td>▁</td></tr><tr><td>eval/samples_per_second</td><td>▁</td></tr><tr><td>eval/steps_per_second</td><td>▁</td></tr><tr><td>train/epoch</td><td>▁██</td></tr><tr><td>train/global_step</td><td>▁██</td></tr><tr><td>train/grad_norm</td><td>▁</td></tr><tr><td>train/learning_rate</td><td>▁</td></tr><tr><td>train/loss</td><td>▁</td></tr></table><br/></div><div class=\"wandb-col\"><h3>Run summary:</h3><br/><table class=\"wandb\"><tr><td>eval/loss</td><td>0.66375</td></tr><tr><td>eval/runtime</td><td>2.4868</td></tr><tr><td>eval/samples_per_second</td><td>50.266</td></tr><tr><td>eval/steps_per_second</td><td>3.217</td></tr><tr><td>total_flos</td><td>2.610156604175155e+16</td></tr><tr><td>train/epoch</td><td>4.95775</td></tr><tr><td>train/global_step</td><td>85</td></tr><tr><td>train/grad_norm</td><td>0.55469</td></tr><tr><td>train/learning_rate</td><td>1e-05</td></tr><tr><td>train/loss</td><td>0.6608</td></tr><tr><td>train_loss</td><td>0.6639</td></tr><tr><td>train_runtime</td><td>371.0226</td></tr><tr><td>train_samples_per_second</td><td>15.161</td></tr><tr><td>train_steps_per_second</td><td>0.229</td></tr></table><br/></div></div>"
      ],
      "text/plain": [
       "<IPython.core.display.HTML object>"
      ]
     },
     "metadata": {},
     "output_type": "display_data"
    },
    {
     "data": {
      "text/html": [
       " View run <strong style=\"color:#cdcd00\">trial_3</strong> at: <a href='https://wandb.ai/luis-orellana777-sngular/model-qwen-finetuned-medical-reasoning/runs/5jc6dyua' target=\"_blank\">https://wandb.ai/luis-orellana777-sngular/model-qwen-finetuned-medical-reasoning/runs/5jc6dyua</a><br> View project at: <a href='https://wandb.ai/luis-orellana777-sngular/model-qwen-finetuned-medical-reasoning' target=\"_blank\">https://wandb.ai/luis-orellana777-sngular/model-qwen-finetuned-medical-reasoning</a><br>Synced 5 W&B file(s), 0 media file(s), 0 artifact file(s) and 0 other file(s)"
      ],
      "text/plain": [
       "<IPython.core.display.HTML object>"
      ]
     },
     "metadata": {},
     "output_type": "display_data"
    },
    {
     "data": {
      "text/html": [
       "Find logs at: <code>.\\wandb\\run-20250609_093404-5jc6dyua\\logs</code>"
      ],
      "text/plain": [
       "<IPython.core.display.HTML object>"
      ]
     },
     "metadata": {},
     "output_type": "display_data"
    },
    {
     "name": "stderr",
     "output_type": "stream",
     "text": [
      "[I 2025-06-09 09:40:19,492] Trial 3 finished with value: 0.6637539863586426 and parameters: {'learning_rate': 2.116154911629595e-05, 'per_device_train_batch_size': 16, 'gradient_accumulation_steps': 4}. Best is trial 3 with value: 0.6637539863586426.\n"
     ]
    },
    {
     "data": {
      "text/html": [
       "Tracking run with wandb version 0.19.11"
      ],
      "text/plain": [
       "<IPython.core.display.HTML object>"
      ]
     },
     "metadata": {},
     "output_type": "display_data"
    },
    {
     "data": {
      "text/html": [
       "Run data is saved locally in <code>c:\\Users\\Luis\\OneDrive\\Documentos\\Data Science\\LLM\\Fine Tuning\\wandb\\run-20250609_094019-mqlpjgii</code>"
      ],
      "text/plain": [
       "<IPython.core.display.HTML object>"
      ]
     },
     "metadata": {},
     "output_type": "display_data"
    },
    {
     "data": {
      "text/html": [
       "Syncing run <strong><a href='https://wandb.ai/luis-orellana777-sngular/model-qwen-finetuned-medical-reasoning/runs/mqlpjgii' target=\"_blank\">trial_4</a></strong> to <a href='https://wandb.ai/luis-orellana777-sngular/model-qwen-finetuned-medical-reasoning' target=\"_blank\">Weights & Biases</a> (<a href='https://wandb.me/developer-guide' target=\"_blank\">docs</a>)<br>"
      ],
      "text/plain": [
       "<IPython.core.display.HTML object>"
      ]
     },
     "metadata": {},
     "output_type": "display_data"
    },
    {
     "data": {
      "text/html": [
       " View project at <a href='https://wandb.ai/luis-orellana777-sngular/model-qwen-finetuned-medical-reasoning' target=\"_blank\">https://wandb.ai/luis-orellana777-sngular/model-qwen-finetuned-medical-reasoning</a>"
      ],
      "text/plain": [
       "<IPython.core.display.HTML object>"
      ]
     },
     "metadata": {},
     "output_type": "display_data"
    },
    {
     "data": {
      "text/html": [
       " View run at <a href='https://wandb.ai/luis-orellana777-sngular/model-qwen-finetuned-medical-reasoning/runs/mqlpjgii' target=\"_blank\">https://wandb.ai/luis-orellana777-sngular/model-qwen-finetuned-medical-reasoning/runs/mqlpjgii</a>"
      ],
      "text/plain": [
       "<IPython.core.display.HTML object>"
      ]
     },
     "metadata": {},
     "output_type": "display_data"
    },
    {
     "data": {
      "text/html": [
       "\n",
       "    <div>\n",
       "      \n",
       "      <progress value='700' max='700' style='width:300px; height:20px; vertical-align: middle;'></progress>\n",
       "      [700/700 06:43, Epoch 4/5]\n",
       "    </div>\n",
       "    <table border=\"1\" class=\"dataframe\">\n",
       "  <thead>\n",
       " <tr style=\"text-align: left;\">\n",
       "      <th>Step</th>\n",
       "      <th>Training Loss</th>\n",
       "    </tr>\n",
       "  </thead>\n",
       "  <tbody>\n",
       "    <tr>\n",
       "      <td>50</td>\n",
       "      <td>0.624900</td>\n",
       "    </tr>\n",
       "    <tr>\n",
       "      <td>100</td>\n",
       "      <td>0.620400</td>\n",
       "    </tr>\n",
       "    <tr>\n",
       "      <td>150</td>\n",
       "      <td>0.653800</td>\n",
       "    </tr>\n",
       "    <tr>\n",
       "      <td>200</td>\n",
       "      <td>0.625400</td>\n",
       "    </tr>\n",
       "    <tr>\n",
       "      <td>250</td>\n",
       "      <td>0.630000</td>\n",
       "    </tr>\n",
       "    <tr>\n",
       "      <td>300</td>\n",
       "      <td>0.628500</td>\n",
       "    </tr>\n",
       "    <tr>\n",
       "      <td>350</td>\n",
       "      <td>0.631700</td>\n",
       "    </tr>\n",
       "    <tr>\n",
       "      <td>400</td>\n",
       "      <td>0.604900</td>\n",
       "    </tr>\n",
       "    <tr>\n",
       "      <td>450</td>\n",
       "      <td>0.625900</td>\n",
       "    </tr>\n",
       "    <tr>\n",
       "      <td>500</td>\n",
       "      <td>0.600500</td>\n",
       "    </tr>\n",
       "    <tr>\n",
       "      <td>550</td>\n",
       "      <td>0.617100</td>\n",
       "    </tr>\n",
       "    <tr>\n",
       "      <td>600</td>\n",
       "      <td>0.605200</td>\n",
       "    </tr>\n",
       "    <tr>\n",
       "      <td>650</td>\n",
       "      <td>0.609200</td>\n",
       "    </tr>\n",
       "    <tr>\n",
       "      <td>700</td>\n",
       "      <td>0.605000</td>\n",
       "    </tr>\n",
       "  </tbody>\n",
       "</table><p>"
      ],
      "text/plain": [
       "<IPython.core.display.HTML object>"
      ]
     },
     "metadata": {},
     "output_type": "display_data"
    },
    {
     "data": {
      "text/html": [
       "\n",
       "    <div>\n",
       "      \n",
       "      <progress value='63' max='63' style='width:300px; height:20px; vertical-align: middle;'></progress>\n",
       "      [63/63 00:02]\n",
       "    </div>\n",
       "    "
      ],
      "text/plain": [
       "<IPython.core.display.HTML object>"
      ]
     },
     "metadata": {},
     "output_type": "display_data"
    },
    {
     "name": "stderr",
     "output_type": "stream",
     "text": [
      "\u001b[34m\u001b[1mwandb\u001b[0m: \u001b[32m\u001b[41mERROR\u001b[0m The nbformat package was not found. It is required to save notebook history.\n"
     ]
    },
    {
     "data": {
      "text/html": [],
      "text/plain": [
       "<IPython.core.display.HTML object>"
      ]
     },
     "metadata": {},
     "output_type": "display_data"
    },
    {
     "data": {
      "text/html": [
       "<br>    <style><br>        .wandb-row {<br>            display: flex;<br>            flex-direction: row;<br>            flex-wrap: wrap;<br>            justify-content: flex-start;<br>            width: 100%;<br>        }<br>        .wandb-col {<br>            display: flex;<br>            flex-direction: column;<br>            flex-basis: 100%;<br>            flex: 1;<br>            padding: 10px;<br>        }<br>    </style><br><div class=\"wandb-row\"><div class=\"wandb-col\"><h3>Run history:</h3><br/><table class=\"wandb\"><tr><td>eval/loss</td><td>▁</td></tr><tr><td>eval/runtime</td><td>▁</td></tr><tr><td>eval/samples_per_second</td><td>▁</td></tr><tr><td>eval/steps_per_second</td><td>▁</td></tr><tr><td>train/epoch</td><td>▁▂▂▃▃▄▄▅▅▆▆▇▇███</td></tr><tr><td>train/global_step</td><td>▁▂▂▃▃▄▄▅▅▆▆▇▇███</td></tr><tr><td>train/grad_norm</td><td>▅▃▃█▄▃▃▂▁▄▅▅▆▃</td></tr><tr><td>train/learning_rate</td><td>▃▄▆██▇▇▆▅▃▂▂▁▁</td></tr><tr><td>train/loss</td><td>▄▄█▄▅▅▅▂▄▁▃▂▂▂</td></tr></table><br/></div><div class=\"wandb-col\"><h3>Run summary:</h3><br/><table class=\"wandb\"><tr><td>eval/loss</td><td>0.66021</td></tr><tr><td>eval/runtime</td><td>2.0363</td></tr><tr><td>eval/samples_per_second</td><td>61.386</td></tr><tr><td>eval/steps_per_second</td><td>30.939</td></tr><tr><td>total_flos</td><td>2.6594764237307904e+16</td></tr><tr><td>train/epoch</td><td>4.99467</td></tr><tr><td>train/global_step</td><td>700</td></tr><tr><td>train/grad_norm</td><td>1.46094</td></tr><tr><td>train/learning_rate</td><td>0.0</td></tr><tr><td>train/loss</td><td>0.605</td></tr><tr><td>train_loss</td><td>0.62018</td></tr><tr><td>train_runtime</td><td>404.0511</td></tr><tr><td>train_samples_per_second</td><td>13.922</td></tr><tr><td>train_steps_per_second</td><td>1.732</td></tr></table><br/></div></div>"
      ],
      "text/plain": [
       "<IPython.core.display.HTML object>"
      ]
     },
     "metadata": {},
     "output_type": "display_data"
    },
    {
     "data": {
      "text/html": [
       " View run <strong style=\"color:#cdcd00\">trial_4</strong> at: <a href='https://wandb.ai/luis-orellana777-sngular/model-qwen-finetuned-medical-reasoning/runs/mqlpjgii' target=\"_blank\">https://wandb.ai/luis-orellana777-sngular/model-qwen-finetuned-medical-reasoning/runs/mqlpjgii</a><br> View project at: <a href='https://wandb.ai/luis-orellana777-sngular/model-qwen-finetuned-medical-reasoning' target=\"_blank\">https://wandb.ai/luis-orellana777-sngular/model-qwen-finetuned-medical-reasoning</a><br>Synced 5 W&B file(s), 0 media file(s), 0 artifact file(s) and 0 other file(s)"
      ],
      "text/plain": [
       "<IPython.core.display.HTML object>"
      ]
     },
     "metadata": {},
     "output_type": "display_data"
    },
    {
     "data": {
      "text/html": [
       "Find logs at: <code>.\\wandb\\run-20250609_094019-mqlpjgii\\logs</code>"
      ],
      "text/plain": [
       "<IPython.core.display.HTML object>"
      ]
     },
     "metadata": {},
     "output_type": "display_data"
    },
    {
     "name": "stderr",
     "output_type": "stream",
     "text": [
      "[I 2025-06-09 09:47:07,041] Trial 4 finished with value: 0.6602098941802979 and parameters: {'learning_rate': 1.3260885303477737e-05, 'per_device_train_batch_size': 2, 'gradient_accumulation_steps': 4}. Best is trial 4 with value: 0.6602098941802979.\n"
     ]
    },
    {
     "data": {
      "text/html": [
       "Tracking run with wandb version 0.19.11"
      ],
      "text/plain": [
       "<IPython.core.display.HTML object>"
      ]
     },
     "metadata": {},
     "output_type": "display_data"
    },
    {
     "data": {
      "text/html": [
       "Run data is saved locally in <code>c:\\Users\\Luis\\OneDrive\\Documentos\\Data Science\\LLM\\Fine Tuning\\wandb\\run-20250609_094707-fagmuy3l</code>"
      ],
      "text/plain": [
       "<IPython.core.display.HTML object>"
      ]
     },
     "metadata": {},
     "output_type": "display_data"
    },
    {
     "data": {
      "text/html": [
       "Syncing run <strong><a href='https://wandb.ai/luis-orellana777-sngular/model-qwen-finetuned-medical-reasoning/runs/fagmuy3l' target=\"_blank\">trial_5</a></strong> to <a href='https://wandb.ai/luis-orellana777-sngular/model-qwen-finetuned-medical-reasoning' target=\"_blank\">Weights & Biases</a> (<a href='https://wandb.me/developer-guide' target=\"_blank\">docs</a>)<br>"
      ],
      "text/plain": [
       "<IPython.core.display.HTML object>"
      ]
     },
     "metadata": {},
     "output_type": "display_data"
    },
    {
     "data": {
      "text/html": [
       " View project at <a href='https://wandb.ai/luis-orellana777-sngular/model-qwen-finetuned-medical-reasoning' target=\"_blank\">https://wandb.ai/luis-orellana777-sngular/model-qwen-finetuned-medical-reasoning</a>"
      ],
      "text/plain": [
       "<IPython.core.display.HTML object>"
      ]
     },
     "metadata": {},
     "output_type": "display_data"
    },
    {
     "data": {
      "text/html": [
       " View run at <a href='https://wandb.ai/luis-orellana777-sngular/model-qwen-finetuned-medical-reasoning/runs/fagmuy3l' target=\"_blank\">https://wandb.ai/luis-orellana777-sngular/model-qwen-finetuned-medical-reasoning/runs/fagmuy3l</a>"
      ],
      "text/plain": [
       "<IPython.core.display.HTML object>"
      ]
     },
     "metadata": {},
     "output_type": "display_data"
    },
    {
     "data": {
      "text/html": [
       "\n",
       "    <div>\n",
       "      \n",
       "      <progress value='40' max='40' style='width:300px; height:20px; vertical-align: middle;'></progress>\n",
       "      [40/40 04:14, Epoch 4/5]\n",
       "    </div>\n",
       "    <table border=\"1\" class=\"dataframe\">\n",
       "  <thead>\n",
       " <tr style=\"text-align: left;\">\n",
       "      <th>Step</th>\n",
       "      <th>Training Loss</th>\n",
       "    </tr>\n",
       "  </thead>\n",
       "  <tbody>\n",
       "  </tbody>\n",
       "</table><p>"
      ],
      "text/plain": [
       "<IPython.core.display.HTML object>"
      ]
     },
     "metadata": {},
     "output_type": "display_data"
    },
    {
     "data": {
      "text/html": [
       "\n",
       "    <div>\n",
       "      \n",
       "      <progress value='16' max='16' style='width:300px; height:20px; vertical-align: middle;'></progress>\n",
       "      [16/16 00:01]\n",
       "    </div>\n",
       "    "
      ],
      "text/plain": [
       "<IPython.core.display.HTML object>"
      ]
     },
     "metadata": {},
     "output_type": "display_data"
    },
    {
     "name": "stderr",
     "output_type": "stream",
     "text": [
      "\u001b[34m\u001b[1mwandb\u001b[0m: \u001b[32m\u001b[41mERROR\u001b[0m The nbformat package was not found. It is required to save notebook history.\n"
     ]
    },
    {
     "data": {
      "text/html": [],
      "text/plain": [
       "<IPython.core.display.HTML object>"
      ]
     },
     "metadata": {},
     "output_type": "display_data"
    },
    {
     "data": {
      "text/html": [
       "<br>    <style><br>        .wandb-row {<br>            display: flex;<br>            flex-direction: row;<br>            flex-wrap: wrap;<br>            justify-content: flex-start;<br>            width: 100%;<br>        }<br>        .wandb-col {<br>            display: flex;<br>            flex-direction: column;<br>            flex-basis: 100%;<br>            flex: 1;<br>            padding: 10px;<br>        }<br>    </style><br><div class=\"wandb-row\"><div class=\"wandb-col\"><h3>Run history:</h3><br/><table class=\"wandb\"><tr><td>eval/loss</td><td>▁</td></tr><tr><td>eval/runtime</td><td>▁</td></tr><tr><td>eval/samples_per_second</td><td>▁</td></tr><tr><td>eval/steps_per_second</td><td>▁</td></tr><tr><td>train/epoch</td><td>▁▁</td></tr><tr><td>train/global_step</td><td>▁▁</td></tr></table><br/></div><div class=\"wandb-col\"><h3>Run summary:</h3><br/><table class=\"wandb\"><tr><td>eval/loss</td><td>0.66026</td></tr><tr><td>eval/runtime</td><td>1.6923</td></tr><tr><td>eval/samples_per_second</td><td>73.864</td></tr><tr><td>eval/steps_per_second</td><td>9.455</td></tr><tr><td>total_flos</td><td>2.503929300516864e+16</td></tr><tr><td>train/epoch</td><td>4.9078</td></tr><tr><td>train/global_step</td><td>40</td></tr><tr><td>train_loss</td><td>0.66263</td></tr><tr><td>train_runtime</td><td>261.0498</td></tr><tr><td>train_samples_per_second</td><td>21.548</td></tr><tr><td>train_steps_per_second</td><td>0.153</td></tr></table><br/></div></div>"
      ],
      "text/plain": [
       "<IPython.core.display.HTML object>"
      ]
     },
     "metadata": {},
     "output_type": "display_data"
    },
    {
     "data": {
      "text/html": [
       " View run <strong style=\"color:#cdcd00\">trial_5</strong> at: <a href='https://wandb.ai/luis-orellana777-sngular/model-qwen-finetuned-medical-reasoning/runs/fagmuy3l' target=\"_blank\">https://wandb.ai/luis-orellana777-sngular/model-qwen-finetuned-medical-reasoning/runs/fagmuy3l</a><br> View project at: <a href='https://wandb.ai/luis-orellana777-sngular/model-qwen-finetuned-medical-reasoning' target=\"_blank\">https://wandb.ai/luis-orellana777-sngular/model-qwen-finetuned-medical-reasoning</a><br>Synced 5 W&B file(s), 0 media file(s), 0 artifact file(s) and 0 other file(s)"
      ],
      "text/plain": [
       "<IPython.core.display.HTML object>"
      ]
     },
     "metadata": {},
     "output_type": "display_data"
    },
    {
     "data": {
      "text/html": [
       "Find logs at: <code>.\\wandb\\run-20250609_094707-fagmuy3l\\logs</code>"
      ],
      "text/plain": [
       "<IPython.core.display.HTML object>"
      ]
     },
     "metadata": {},
     "output_type": "display_data"
    },
    {
     "name": "stderr",
     "output_type": "stream",
     "text": [
      "[I 2025-06-09 09:51:31,238] Trial 5 finished with value: 0.6602570414543152 and parameters: {'learning_rate': 1.1669305797363407e-05, 'per_device_train_batch_size': 8, 'gradient_accumulation_steps': 16}. Best is trial 4 with value: 0.6602098941802979.\n"
     ]
    },
    {
     "data": {
      "text/html": [
       "Tracking run with wandb version 0.19.11"
      ],
      "text/plain": [
       "<IPython.core.display.HTML object>"
      ]
     },
     "metadata": {},
     "output_type": "display_data"
    },
    {
     "data": {
      "text/html": [
       "Run data is saved locally in <code>c:\\Users\\Luis\\OneDrive\\Documentos\\Data Science\\LLM\\Fine Tuning\\wandb\\run-20250609_095131-u5akv6a2</code>"
      ],
      "text/plain": [
       "<IPython.core.display.HTML object>"
      ]
     },
     "metadata": {},
     "output_type": "display_data"
    },
    {
     "data": {
      "text/html": [
       "Syncing run <strong><a href='https://wandb.ai/luis-orellana777-sngular/model-qwen-finetuned-medical-reasoning/runs/u5akv6a2' target=\"_blank\">trial_6</a></strong> to <a href='https://wandb.ai/luis-orellana777-sngular/model-qwen-finetuned-medical-reasoning' target=\"_blank\">Weights & Biases</a> (<a href='https://wandb.me/developer-guide' target=\"_blank\">docs</a>)<br>"
      ],
      "text/plain": [
       "<IPython.core.display.HTML object>"
      ]
     },
     "metadata": {},
     "output_type": "display_data"
    },
    {
     "data": {
      "text/html": [
       " View project at <a href='https://wandb.ai/luis-orellana777-sngular/model-qwen-finetuned-medical-reasoning' target=\"_blank\">https://wandb.ai/luis-orellana777-sngular/model-qwen-finetuned-medical-reasoning</a>"
      ],
      "text/plain": [
       "<IPython.core.display.HTML object>"
      ]
     },
     "metadata": {},
     "output_type": "display_data"
    },
    {
     "data": {
      "text/html": [
       " View run at <a href='https://wandb.ai/luis-orellana777-sngular/model-qwen-finetuned-medical-reasoning/runs/u5akv6a2' target=\"_blank\">https://wandb.ai/luis-orellana777-sngular/model-qwen-finetuned-medical-reasoning/runs/u5akv6a2</a>"
      ],
      "text/plain": [
       "<IPython.core.display.HTML object>"
      ]
     },
     "metadata": {},
     "output_type": "display_data"
    },
    {
     "data": {
      "text/html": [
       "\n",
       "    <div>\n",
       "      \n",
       "      <progress value='85' max='85' style='width:300px; height:20px; vertical-align: middle;'></progress>\n",
       "      [85/85 06:07, Epoch 4/5]\n",
       "    </div>\n",
       "    <table border=\"1\" class=\"dataframe\">\n",
       "  <thead>\n",
       " <tr style=\"text-align: left;\">\n",
       "      <th>Step</th>\n",
       "      <th>Training Loss</th>\n",
       "    </tr>\n",
       "  </thead>\n",
       "  <tbody>\n",
       "    <tr>\n",
       "      <td>50</td>\n",
       "      <td>0.629400</td>\n",
       "    </tr>\n",
       "  </tbody>\n",
       "</table><p>"
      ],
      "text/plain": [
       "<IPython.core.display.HTML object>"
      ]
     },
     "metadata": {},
     "output_type": "display_data"
    },
    {
     "data": {
      "text/html": [
       "\n",
       "    <div>\n",
       "      \n",
       "      <progress value='8' max='8' style='width:300px; height:20px; vertical-align: middle;'></progress>\n",
       "      [8/8 00:02]\n",
       "    </div>\n",
       "    "
      ],
      "text/plain": [
       "<IPython.core.display.HTML object>"
      ]
     },
     "metadata": {},
     "output_type": "display_data"
    },
    {
     "name": "stderr",
     "output_type": "stream",
     "text": [
      "\u001b[34m\u001b[1mwandb\u001b[0m: \u001b[32m\u001b[41mERROR\u001b[0m The nbformat package was not found. It is required to save notebook history.\n"
     ]
    },
    {
     "data": {
      "text/html": [],
      "text/plain": [
       "<IPython.core.display.HTML object>"
      ]
     },
     "metadata": {},
     "output_type": "display_data"
    },
    {
     "data": {
      "text/html": [
       "<br>    <style><br>        .wandb-row {<br>            display: flex;<br>            flex-direction: row;<br>            flex-wrap: wrap;<br>            justify-content: flex-start;<br>            width: 100%;<br>        }<br>        .wandb-col {<br>            display: flex;<br>            flex-direction: column;<br>            flex-basis: 100%;<br>            flex: 1;<br>            padding: 10px;<br>        }<br>    </style><br><div class=\"wandb-row\"><div class=\"wandb-col\"><h3>Run history:</h3><br/><table class=\"wandb\"><tr><td>eval/loss</td><td>▁</td></tr><tr><td>eval/runtime</td><td>▁</td></tr><tr><td>eval/samples_per_second</td><td>▁</td></tr><tr><td>eval/steps_per_second</td><td>▁</td></tr><tr><td>train/epoch</td><td>▁██</td></tr><tr><td>train/global_step</td><td>▁██</td></tr><tr><td>train/grad_norm</td><td>▁</td></tr><tr><td>train/learning_rate</td><td>▁</td></tr><tr><td>train/loss</td><td>▁</td></tr></table><br/></div><div class=\"wandb-col\"><h3>Run summary:</h3><br/><table class=\"wandb\"><tr><td>eval/loss</td><td>0.6603</td></tr><tr><td>eval/runtime</td><td>2.3114</td></tr><tr><td>eval/samples_per_second</td><td>54.081</td></tr><tr><td>eval/steps_per_second</td><td>3.461</td></tr><tr><td>total_flos</td><td>2.610156604175155e+16</td></tr><tr><td>train/epoch</td><td>4.95775</td></tr><tr><td>train/global_step</td><td>85</td></tr><tr><td>train/grad_norm</td><td>0.53906</td></tr><tr><td>train/learning_rate</td><td>0.0</td></tr><tr><td>train/loss</td><td>0.6294</td></tr><tr><td>train_loss</td><td>0.63283</td></tr><tr><td>train_runtime</td><td>370.9038</td></tr><tr><td>train_samples_per_second</td><td>15.166</td></tr><tr><td>train_steps_per_second</td><td>0.229</td></tr></table><br/></div></div>"
      ],
      "text/plain": [
       "<IPython.core.display.HTML object>"
      ]
     },
     "metadata": {},
     "output_type": "display_data"
    },
    {
     "data": {
      "text/html": [
       " View run <strong style=\"color:#cdcd00\">trial_6</strong> at: <a href='https://wandb.ai/luis-orellana777-sngular/model-qwen-finetuned-medical-reasoning/runs/u5akv6a2' target=\"_blank\">https://wandb.ai/luis-orellana777-sngular/model-qwen-finetuned-medical-reasoning/runs/u5akv6a2</a><br> View project at: <a href='https://wandb.ai/luis-orellana777-sngular/model-qwen-finetuned-medical-reasoning' target=\"_blank\">https://wandb.ai/luis-orellana777-sngular/model-qwen-finetuned-medical-reasoning</a><br>Synced 5 W&B file(s), 0 media file(s), 0 artifact file(s) and 0 other file(s)"
      ],
      "text/plain": [
       "<IPython.core.display.HTML object>"
      ]
     },
     "metadata": {},
     "output_type": "display_data"
    },
    {
     "data": {
      "text/html": [
       "Find logs at: <code>.\\wandb\\run-20250609_095131-u5akv6a2\\logs</code>"
      ],
      "text/plain": [
       "<IPython.core.display.HTML object>"
      ]
     },
     "metadata": {},
     "output_type": "display_data"
    },
    {
     "name": "stderr",
     "output_type": "stream",
     "text": [
      "[I 2025-06-09 09:57:46,115] Trial 6 finished with value: 0.6603027582168579 and parameters: {'learning_rate': 1.805249450562672e-05, 'per_device_train_batch_size': 16, 'gradient_accumulation_steps': 4}. Best is trial 4 with value: 0.6602098941802979.\n"
     ]
    },
    {
     "data": {
      "text/html": [
       "Tracking run with wandb version 0.19.11"
      ],
      "text/plain": [
       "<IPython.core.display.HTML object>"
      ]
     },
     "metadata": {},
     "output_type": "display_data"
    },
    {
     "data": {
      "text/html": [
       "Run data is saved locally in <code>c:\\Users\\Luis\\OneDrive\\Documentos\\Data Science\\LLM\\Fine Tuning\\wandb\\run-20250609_095746-34k228mc</code>"
      ],
      "text/plain": [
       "<IPython.core.display.HTML object>"
      ]
     },
     "metadata": {},
     "output_type": "display_data"
    },
    {
     "data": {
      "text/html": [
       "Syncing run <strong><a href='https://wandb.ai/luis-orellana777-sngular/model-qwen-finetuned-medical-reasoning/runs/34k228mc' target=\"_blank\">trial_7</a></strong> to <a href='https://wandb.ai/luis-orellana777-sngular/model-qwen-finetuned-medical-reasoning' target=\"_blank\">Weights & Biases</a> (<a href='https://wandb.me/developer-guide' target=\"_blank\">docs</a>)<br>"
      ],
      "text/plain": [
       "<IPython.core.display.HTML object>"
      ]
     },
     "metadata": {},
     "output_type": "display_data"
    },
    {
     "data": {
      "text/html": [
       " View project at <a href='https://wandb.ai/luis-orellana777-sngular/model-qwen-finetuned-medical-reasoning' target=\"_blank\">https://wandb.ai/luis-orellana777-sngular/model-qwen-finetuned-medical-reasoning</a>"
      ],
      "text/plain": [
       "<IPython.core.display.HTML object>"
      ]
     },
     "metadata": {},
     "output_type": "display_data"
    },
    {
     "data": {
      "text/html": [
       " View run at <a href='https://wandb.ai/luis-orellana777-sngular/model-qwen-finetuned-medical-reasoning/runs/34k228mc' target=\"_blank\">https://wandb.ai/luis-orellana777-sngular/model-qwen-finetuned-medical-reasoning/runs/34k228mc</a>"
      ],
      "text/plain": [
       "<IPython.core.display.HTML object>"
      ]
     },
     "metadata": {},
     "output_type": "display_data"
    },
    {
     "data": {
      "text/html": [
       "\n",
       "    <div>\n",
       "      \n",
       "      <progress value='85' max='85' style='width:300px; height:20px; vertical-align: middle;'></progress>\n",
       "      [85/85 06:18, Epoch 4/5]\n",
       "    </div>\n",
       "    <table border=\"1\" class=\"dataframe\">\n",
       "  <thead>\n",
       " <tr style=\"text-align: left;\">\n",
       "      <th>Step</th>\n",
       "      <th>Training Loss</th>\n",
       "    </tr>\n",
       "  </thead>\n",
       "  <tbody>\n",
       "    <tr>\n",
       "      <td>50</td>\n",
       "      <td>0.626800</td>\n",
       "    </tr>\n",
       "  </tbody>\n",
       "</table><p>"
      ],
      "text/plain": [
       "<IPython.core.display.HTML object>"
      ]
     },
     "metadata": {},
     "output_type": "display_data"
    },
    {
     "data": {
      "text/html": [
       "\n",
       "    <div>\n",
       "      \n",
       "      <progress value='8' max='8' style='width:300px; height:20px; vertical-align: middle;'></progress>\n",
       "      [8/8 00:01]\n",
       "    </div>\n",
       "    "
      ],
      "text/plain": [
       "<IPython.core.display.HTML object>"
      ]
     },
     "metadata": {},
     "output_type": "display_data"
    },
    {
     "name": "stderr",
     "output_type": "stream",
     "text": [
      "\u001b[34m\u001b[1mwandb\u001b[0m: \u001b[32m\u001b[41mERROR\u001b[0m The nbformat package was not found. It is required to save notebook history.\n"
     ]
    },
    {
     "data": {
      "text/html": [],
      "text/plain": [
       "<IPython.core.display.HTML object>"
      ]
     },
     "metadata": {},
     "output_type": "display_data"
    },
    {
     "data": {
      "text/html": [
       "<br>    <style><br>        .wandb-row {<br>            display: flex;<br>            flex-direction: row;<br>            flex-wrap: wrap;<br>            justify-content: flex-start;<br>            width: 100%;<br>        }<br>        .wandb-col {<br>            display: flex;<br>            flex-direction: column;<br>            flex-basis: 100%;<br>            flex: 1;<br>            padding: 10px;<br>        }<br>    </style><br><div class=\"wandb-row\"><div class=\"wandb-col\"><h3>Run history:</h3><br/><table class=\"wandb\"><tr><td>eval/loss</td><td>▁</td></tr><tr><td>eval/runtime</td><td>▁</td></tr><tr><td>eval/samples_per_second</td><td>▁</td></tr><tr><td>eval/steps_per_second</td><td>▁</td></tr><tr><td>train/epoch</td><td>▁██</td></tr><tr><td>train/global_step</td><td>▁██</td></tr><tr><td>train/grad_norm</td><td>▁</td></tr><tr><td>train/learning_rate</td><td>▁</td></tr><tr><td>train/loss</td><td>▁</td></tr></table><br/></div><div class=\"wandb-col\"><h3>Run summary:</h3><br/><table class=\"wandb\"><tr><td>eval/loss</td><td>0.66037</td></tr><tr><td>eval/runtime</td><td>2.1331</td></tr><tr><td>eval/samples_per_second</td><td>58.599</td></tr><tr><td>eval/steps_per_second</td><td>3.75</td></tr><tr><td>total_flos</td><td>2.610156604175155e+16</td></tr><tr><td>train/epoch</td><td>4.95775</td></tr><tr><td>train/global_step</td><td>85</td></tr><tr><td>train/grad_norm</td><td>0.54297</td></tr><tr><td>train/learning_rate</td><td>0.0</td></tr><tr><td>train/loss</td><td>0.6268</td></tr><tr><td>train_loss</td><td>0.63012</td></tr><tr><td>train_runtime</td><td>382.7829</td></tr><tr><td>train_samples_per_second</td><td>14.695</td></tr><tr><td>train_steps_per_second</td><td>0.222</td></tr></table><br/></div></div>"
      ],
      "text/plain": [
       "<IPython.core.display.HTML object>"
      ]
     },
     "metadata": {},
     "output_type": "display_data"
    },
    {
     "data": {
      "text/html": [
       " View run <strong style=\"color:#cdcd00\">trial_7</strong> at: <a href='https://wandb.ai/luis-orellana777-sngular/model-qwen-finetuned-medical-reasoning/runs/34k228mc' target=\"_blank\">https://wandb.ai/luis-orellana777-sngular/model-qwen-finetuned-medical-reasoning/runs/34k228mc</a><br> View project at: <a href='https://wandb.ai/luis-orellana777-sngular/model-qwen-finetuned-medical-reasoning' target=\"_blank\">https://wandb.ai/luis-orellana777-sngular/model-qwen-finetuned-medical-reasoning</a><br>Synced 5 W&B file(s), 0 media file(s), 0 artifact file(s) and 0 other file(s)"
      ],
      "text/plain": [
       "<IPython.core.display.HTML object>"
      ]
     },
     "metadata": {},
     "output_type": "display_data"
    },
    {
     "data": {
      "text/html": [
       "Find logs at: <code>.\\wandb\\run-20250609_095746-34k228mc\\logs</code>"
      ],
      "text/plain": [
       "<IPython.core.display.HTML object>"
      ]
     },
     "metadata": {},
     "output_type": "display_data"
    },
    {
     "name": "stderr",
     "output_type": "stream",
     "text": [
      "[I 2025-06-09 10:04:12,537] Trial 7 finished with value: 0.6603732705116272 and parameters: {'learning_rate': 2.0124183751489064e-05, 'per_device_train_batch_size': 16, 'gradient_accumulation_steps': 4}. Best is trial 4 with value: 0.6602098941802979.\n"
     ]
    },
    {
     "data": {
      "text/html": [
       "Tracking run with wandb version 0.19.11"
      ],
      "text/plain": [
       "<IPython.core.display.HTML object>"
      ]
     },
     "metadata": {},
     "output_type": "display_data"
    },
    {
     "data": {
      "text/html": [
       "Run data is saved locally in <code>c:\\Users\\Luis\\OneDrive\\Documentos\\Data Science\\LLM\\Fine Tuning\\wandb\\run-20250609_100412-l8mwq89v</code>"
      ],
      "text/plain": [
       "<IPython.core.display.HTML object>"
      ]
     },
     "metadata": {},
     "output_type": "display_data"
    },
    {
     "data": {
      "text/html": [
       "Syncing run <strong><a href='https://wandb.ai/luis-orellana777-sngular/model-qwen-finetuned-medical-reasoning/runs/l8mwq89v' target=\"_blank\">trial_8</a></strong> to <a href='https://wandb.ai/luis-orellana777-sngular/model-qwen-finetuned-medical-reasoning' target=\"_blank\">Weights & Biases</a> (<a href='https://wandb.me/developer-guide' target=\"_blank\">docs</a>)<br>"
      ],
      "text/plain": [
       "<IPython.core.display.HTML object>"
      ]
     },
     "metadata": {},
     "output_type": "display_data"
    },
    {
     "data": {
      "text/html": [
       " View project at <a href='https://wandb.ai/luis-orellana777-sngular/model-qwen-finetuned-medical-reasoning' target=\"_blank\">https://wandb.ai/luis-orellana777-sngular/model-qwen-finetuned-medical-reasoning</a>"
      ],
      "text/plain": [
       "<IPython.core.display.HTML object>"
      ]
     },
     "metadata": {},
     "output_type": "display_data"
    },
    {
     "data": {
      "text/html": [
       " View run at <a href='https://wandb.ai/luis-orellana777-sngular/model-qwen-finetuned-medical-reasoning/runs/l8mwq89v' target=\"_blank\">https://wandb.ai/luis-orellana777-sngular/model-qwen-finetuned-medical-reasoning/runs/l8mwq89v</a>"
      ],
      "text/plain": [
       "<IPython.core.display.HTML object>"
      ]
     },
     "metadata": {},
     "output_type": "display_data"
    },
    {
     "data": {
      "text/html": [
       "\n",
       "    <div>\n",
       "      \n",
       "      <progress value='175' max='175' style='width:300px; height:20px; vertical-align: middle;'></progress>\n",
       "      [175/175 04:36, Epoch 4/5]\n",
       "    </div>\n",
       "    <table border=\"1\" class=\"dataframe\">\n",
       "  <thead>\n",
       " <tr style=\"text-align: left;\">\n",
       "      <th>Step</th>\n",
       "      <th>Training Loss</th>\n",
       "    </tr>\n",
       "  </thead>\n",
       "  <tbody>\n",
       "    <tr>\n",
       "      <td>50</td>\n",
       "      <td>0.601900</td>\n",
       "    </tr>\n",
       "    <tr>\n",
       "      <td>100</td>\n",
       "      <td>0.598000</td>\n",
       "    </tr>\n",
       "    <tr>\n",
       "      <td>150</td>\n",
       "      <td>0.581500</td>\n",
       "    </tr>\n",
       "  </tbody>\n",
       "</table><p>"
      ],
      "text/plain": [
       "<IPython.core.display.HTML object>"
      ]
     },
     "metadata": {},
     "output_type": "display_data"
    },
    {
     "data": {
      "text/html": [
       "\n",
       "    <div>\n",
       "      \n",
       "      <progress value='16' max='16' style='width:300px; height:20px; vertical-align: middle;'></progress>\n",
       "      [16/16 00:01]\n",
       "    </div>\n",
       "    "
      ],
      "text/plain": [
       "<IPython.core.display.HTML object>"
      ]
     },
     "metadata": {},
     "output_type": "display_data"
    },
    {
     "name": "stderr",
     "output_type": "stream",
     "text": [
      "\u001b[34m\u001b[1mwandb\u001b[0m: \u001b[32m\u001b[41mERROR\u001b[0m The nbformat package was not found. It is required to save notebook history.\n"
     ]
    },
    {
     "data": {
      "text/html": [],
      "text/plain": [
       "<IPython.core.display.HTML object>"
      ]
     },
     "metadata": {},
     "output_type": "display_data"
    },
    {
     "data": {
      "text/html": [
       "<br>    <style><br>        .wandb-row {<br>            display: flex;<br>            flex-direction: row;<br>            flex-wrap: wrap;<br>            justify-content: flex-start;<br>            width: 100%;<br>        }<br>        .wandb-col {<br>            display: flex;<br>            flex-direction: column;<br>            flex-basis: 100%;<br>            flex: 1;<br>            padding: 10px;<br>        }<br>    </style><br><div class=\"wandb-row\"><div class=\"wandb-col\"><h3>Run history:</h3><br/><table class=\"wandb\"><tr><td>eval/loss</td><td>▁</td></tr><tr><td>eval/runtime</td><td>▁</td></tr><tr><td>eval/samples_per_second</td><td>▁</td></tr><tr><td>eval/steps_per_second</td><td>▁</td></tr><tr><td>train/epoch</td><td>▁▄▇██</td></tr><tr><td>train/global_step</td><td>▁▄▇██</td></tr><tr><td>train/grad_norm</td><td>▁▃█</td></tr><tr><td>train/learning_rate</td><td>▁▅█</td></tr><tr><td>train/loss</td><td>█▇▁</td></tr></table><br/></div><div class=\"wandb-col\"><h3>Run summary:</h3><br/><table class=\"wandb\"><tr><td>eval/loss</td><td>0.65984</td></tr><tr><td>eval/runtime</td><td>1.6837</td></tr><tr><td>eval/samples_per_second</td><td>74.24</td></tr><tr><td>eval/steps_per_second</td><td>9.503</td></tr><tr><td>total_flos</td><td>2.6044658557648896e+16</td></tr><tr><td>train/epoch</td><td>4.87943</td></tr><tr><td>train/global_step</td><td>175</td></tr><tr><td>train/grad_norm</td><td>0.69922</td></tr><tr><td>train/learning_rate</td><td>2e-05</td></tr><tr><td>train/loss</td><td>0.5815</td></tr><tr><td>train_loss</td><td>0.59243</td></tr><tr><td>train_runtime</td><td>278.7688</td></tr><tr><td>train_samples_per_second</td><td>20.178</td></tr><tr><td>train_steps_per_second</td><td>0.628</td></tr></table><br/></div></div>"
      ],
      "text/plain": [
       "<IPython.core.display.HTML object>"
      ]
     },
     "metadata": {},
     "output_type": "display_data"
    },
    {
     "data": {
      "text/html": [
       " View run <strong style=\"color:#cdcd00\">trial_8</strong> at: <a href='https://wandb.ai/luis-orellana777-sngular/model-qwen-finetuned-medical-reasoning/runs/l8mwq89v' target=\"_blank\">https://wandb.ai/luis-orellana777-sngular/model-qwen-finetuned-medical-reasoning/runs/l8mwq89v</a><br> View project at: <a href='https://wandb.ai/luis-orellana777-sngular/model-qwen-finetuned-medical-reasoning' target=\"_blank\">https://wandb.ai/luis-orellana777-sngular/model-qwen-finetuned-medical-reasoning</a><br>Synced 5 W&B file(s), 0 media file(s), 0 artifact file(s) and 0 other file(s)"
      ],
      "text/plain": [
       "<IPython.core.display.HTML object>"
      ]
     },
     "metadata": {},
     "output_type": "display_data"
    },
    {
     "data": {
      "text/html": [
       "Find logs at: <code>.\\wandb\\run-20250609_100412-l8mwq89v\\logs</code>"
      ],
      "text/plain": [
       "<IPython.core.display.HTML object>"
      ]
     },
     "metadata": {},
     "output_type": "display_data"
    },
    {
     "name": "stderr",
     "output_type": "stream",
     "text": [
      "[I 2025-06-09 10:08:54,450] Trial 8 finished with value: 0.6598436832427979 and parameters: {'learning_rate': 2.6563467269626478e-05, 'per_device_train_batch_size': 8, 'gradient_accumulation_steps': 4}. Best is trial 8 with value: 0.6598436832427979.\n"
     ]
    },
    {
     "data": {
      "text/html": [
       "Tracking run with wandb version 0.19.11"
      ],
      "text/plain": [
       "<IPython.core.display.HTML object>"
      ]
     },
     "metadata": {},
     "output_type": "display_data"
    },
    {
     "data": {
      "text/html": [
       "Run data is saved locally in <code>c:\\Users\\Luis\\OneDrive\\Documentos\\Data Science\\LLM\\Fine Tuning\\wandb\\run-20250609_100854-xp0mb31d</code>"
      ],
      "text/plain": [
       "<IPython.core.display.HTML object>"
      ]
     },
     "metadata": {},
     "output_type": "display_data"
    },
    {
     "data": {
      "text/html": [
       "Syncing run <strong><a href='https://wandb.ai/luis-orellana777-sngular/model-qwen-finetuned-medical-reasoning/runs/xp0mb31d' target=\"_blank\">trial_9</a></strong> to <a href='https://wandb.ai/luis-orellana777-sngular/model-qwen-finetuned-medical-reasoning' target=\"_blank\">Weights & Biases</a> (<a href='https://wandb.me/developer-guide' target=\"_blank\">docs</a>)<br>"
      ],
      "text/plain": [
       "<IPython.core.display.HTML object>"
      ]
     },
     "metadata": {},
     "output_type": "display_data"
    },
    {
     "data": {
      "text/html": [
       " View project at <a href='https://wandb.ai/luis-orellana777-sngular/model-qwen-finetuned-medical-reasoning' target=\"_blank\">https://wandb.ai/luis-orellana777-sngular/model-qwen-finetuned-medical-reasoning</a>"
      ],
      "text/plain": [
       "<IPython.core.display.HTML object>"
      ]
     },
     "metadata": {},
     "output_type": "display_data"
    },
    {
     "data": {
      "text/html": [
       " View run at <a href='https://wandb.ai/luis-orellana777-sngular/model-qwen-finetuned-medical-reasoning/runs/xp0mb31d' target=\"_blank\">https://wandb.ai/luis-orellana777-sngular/model-qwen-finetuned-medical-reasoning/runs/xp0mb31d</a>"
      ],
      "text/plain": [
       "<IPython.core.display.HTML object>"
      ]
     },
     "metadata": {},
     "output_type": "display_data"
    },
    {
     "data": {
      "text/html": [
       "\n",
       "    <div>\n",
       "      \n",
       "      <progress value='175' max='175' style='width:300px; height:20px; vertical-align: middle;'></progress>\n",
       "      [175/175 06:06, Epoch 4/5]\n",
       "    </div>\n",
       "    <table border=\"1\" class=\"dataframe\">\n",
       "  <thead>\n",
       " <tr style=\"text-align: left;\">\n",
       "      <th>Step</th>\n",
       "      <th>Training Loss</th>\n",
       "    </tr>\n",
       "  </thead>\n",
       "  <tbody>\n",
       "    <tr>\n",
       "      <td>50</td>\n",
       "      <td>0.568700</td>\n",
       "    </tr>\n",
       "    <tr>\n",
       "      <td>100</td>\n",
       "      <td>0.563000</td>\n",
       "    </tr>\n",
       "    <tr>\n",
       "      <td>150</td>\n",
       "      <td>0.536800</td>\n",
       "    </tr>\n",
       "  </tbody>\n",
       "</table><p>"
      ],
      "text/plain": [
       "<IPython.core.display.HTML object>"
      ]
     },
     "metadata": {},
     "output_type": "display_data"
    },
    {
     "data": {
      "text/html": [
       "\n",
       "    <div>\n",
       "      \n",
       "      <progress value='63' max='63' style='width:300px; height:20px; vertical-align: middle;'></progress>\n",
       "      [63/63 00:02]\n",
       "    </div>\n",
       "    "
      ],
      "text/plain": [
       "<IPython.core.display.HTML object>"
      ]
     },
     "metadata": {},
     "output_type": "display_data"
    },
    {
     "name": "stderr",
     "output_type": "stream",
     "text": [
      "\u001b[34m\u001b[1mwandb\u001b[0m: \u001b[32m\u001b[41mERROR\u001b[0m The nbformat package was not found. It is required to save notebook history.\n"
     ]
    },
    {
     "data": {
      "text/html": [],
      "text/plain": [
       "<IPython.core.display.HTML object>"
      ]
     },
     "metadata": {},
     "output_type": "display_data"
    },
    {
     "data": {
      "text/html": [
       "<br>    <style><br>        .wandb-row {<br>            display: flex;<br>            flex-direction: row;<br>            flex-wrap: wrap;<br>            justify-content: flex-start;<br>            width: 100%;<br>        }<br>        .wandb-col {<br>            display: flex;<br>            flex-direction: column;<br>            flex-basis: 100%;<br>            flex: 1;<br>            padding: 10px;<br>        }<br>    </style><br><div class=\"wandb-row\"><div class=\"wandb-col\"><h3>Run history:</h3><br/><table class=\"wandb\"><tr><td>eval/loss</td><td>▁</td></tr><tr><td>eval/runtime</td><td>▁</td></tr><tr><td>eval/samples_per_second</td><td>▁</td></tr><tr><td>eval/steps_per_second</td><td>▁</td></tr><tr><td>train/epoch</td><td>▁▄▇██</td></tr><tr><td>train/global_step</td><td>▁▄▇██</td></tr><tr><td>train/grad_norm</td><td>▄▁█</td></tr><tr><td>train/learning_rate</td><td>▁▄█</td></tr><tr><td>train/loss</td><td>█▇▁</td></tr></table><br/></div><div class=\"wandb-col\"><h3>Run summary:</h3><br/><table class=\"wandb\"><tr><td>eval/loss</td><td>0.67133</td></tr><tr><td>eval/runtime</td><td>2.0773</td></tr><tr><td>eval/samples_per_second</td><td>60.175</td></tr><tr><td>eval/steps_per_second</td><td>30.328</td></tr><tr><td>total_flos</td><td>2.6044658557648896e+16</td></tr><tr><td>train/epoch</td><td>4.88099</td></tr><tr><td>train/global_step</td><td>175</td></tr><tr><td>train/grad_norm</td><td>0.74219</td></tr><tr><td>train/learning_rate</td><td>3e-05</td></tr><tr><td>train/loss</td><td>0.5368</td></tr><tr><td>train_loss</td><td>0.55165</td></tr><tr><td>train_runtime</td><td>368.653</td></tr><tr><td>train_samples_per_second</td><td>15.258</td></tr><tr><td>train_steps_per_second</td><td>0.475</td></tr></table><br/></div></div>"
      ],
      "text/plain": [
       "<IPython.core.display.HTML object>"
      ]
     },
     "metadata": {},
     "output_type": "display_data"
    },
    {
     "data": {
      "text/html": [
       " View run <strong style=\"color:#cdcd00\">trial_9</strong> at: <a href='https://wandb.ai/luis-orellana777-sngular/model-qwen-finetuned-medical-reasoning/runs/xp0mb31d' target=\"_blank\">https://wandb.ai/luis-orellana777-sngular/model-qwen-finetuned-medical-reasoning/runs/xp0mb31d</a><br> View project at: <a href='https://wandb.ai/luis-orellana777-sngular/model-qwen-finetuned-medical-reasoning' target=\"_blank\">https://wandb.ai/luis-orellana777-sngular/model-qwen-finetuned-medical-reasoning</a><br>Synced 5 W&B file(s), 0 media file(s), 0 artifact file(s) and 0 other file(s)"
      ],
      "text/plain": [
       "<IPython.core.display.HTML object>"
      ]
     },
     "metadata": {},
     "output_type": "display_data"
    },
    {
     "data": {
      "text/html": [
       "Find logs at: <code>.\\wandb\\run-20250609_100854-xp0mb31d\\logs</code>"
      ],
      "text/plain": [
       "<IPython.core.display.HTML object>"
      ]
     },
     "metadata": {},
     "output_type": "display_data"
    },
    {
     "name": "stderr",
     "output_type": "stream",
     "text": [
      "[I 2025-06-09 10:15:06,821] Trial 9 finished with value: 0.6713265180587769 and parameters: {'learning_rate': 3.909964103244932e-05, 'per_device_train_batch_size': 2, 'gradient_accumulation_steps': 16}. Best is trial 8 with value: 0.6598436832427979.\n"
     ]
    },
    {
     "data": {
      "text/html": [
       "Tracking run with wandb version 0.19.11"
      ],
      "text/plain": [
       "<IPython.core.display.HTML object>"
      ]
     },
     "metadata": {},
     "output_type": "display_data"
    },
    {
     "data": {
      "text/html": [
       "Run data is saved locally in <code>c:\\Users\\Luis\\OneDrive\\Documentos\\Data Science\\LLM\\Fine Tuning\\wandb\\run-20250609_101506-r7ak62ej</code>"
      ],
      "text/plain": [
       "<IPython.core.display.HTML object>"
      ]
     },
     "metadata": {},
     "output_type": "display_data"
    },
    {
     "data": {
      "text/html": [
       "Syncing run <strong><a href='https://wandb.ai/luis-orellana777-sngular/model-qwen-finetuned-medical-reasoning/runs/r7ak62ej' target=\"_blank\">trial_10</a></strong> to <a href='https://wandb.ai/luis-orellana777-sngular/model-qwen-finetuned-medical-reasoning' target=\"_blank\">Weights & Biases</a> (<a href='https://wandb.me/developer-guide' target=\"_blank\">docs</a>)<br>"
      ],
      "text/plain": [
       "<IPython.core.display.HTML object>"
      ]
     },
     "metadata": {},
     "output_type": "display_data"
    },
    {
     "data": {
      "text/html": [
       " View project at <a href='https://wandb.ai/luis-orellana777-sngular/model-qwen-finetuned-medical-reasoning' target=\"_blank\">https://wandb.ai/luis-orellana777-sngular/model-qwen-finetuned-medical-reasoning</a>"
      ],
      "text/plain": [
       "<IPython.core.display.HTML object>"
      ]
     },
     "metadata": {},
     "output_type": "display_data"
    },
    {
     "data": {
      "text/html": [
       " View run at <a href='https://wandb.ai/luis-orellana777-sngular/model-qwen-finetuned-medical-reasoning/runs/r7ak62ej' target=\"_blank\">https://wandb.ai/luis-orellana777-sngular/model-qwen-finetuned-medical-reasoning/runs/r7ak62ej</a>"
      ],
      "text/plain": [
       "<IPython.core.display.HTML object>"
      ]
     },
     "metadata": {},
     "output_type": "display_data"
    },
    {
     "data": {
      "text/html": [
       "\n",
       "    <div>\n",
       "      \n",
       "      <progress value='350' max='350' style='width:300px; height:20px; vertical-align: middle;'></progress>\n",
       "      [350/350 05:31, Epoch 4/5]\n",
       "    </div>\n",
       "    <table border=\"1\" class=\"dataframe\">\n",
       "  <thead>\n",
       " <tr style=\"text-align: left;\">\n",
       "      <th>Step</th>\n",
       "      <th>Training Loss</th>\n",
       "    </tr>\n",
       "  </thead>\n",
       "  <tbody>\n",
       "    <tr>\n",
       "      <td>50</td>\n",
       "      <td>0.486200</td>\n",
       "    </tr>\n",
       "    <tr>\n",
       "      <td>100</td>\n",
       "      <td>0.507200</td>\n",
       "    </tr>\n",
       "    <tr>\n",
       "      <td>150</td>\n",
       "      <td>0.493800</td>\n",
       "    </tr>\n",
       "    <tr>\n",
       "      <td>200</td>\n",
       "      <td>0.487600</td>\n",
       "    </tr>\n",
       "    <tr>\n",
       "      <td>250</td>\n",
       "      <td>0.484200</td>\n",
       "    </tr>\n",
       "    <tr>\n",
       "      <td>300</td>\n",
       "      <td>0.469500</td>\n",
       "    </tr>\n",
       "    <tr>\n",
       "      <td>350</td>\n",
       "      <td>0.474300</td>\n",
       "    </tr>\n",
       "  </tbody>\n",
       "</table><p>"
      ],
      "text/plain": [
       "<IPython.core.display.HTML object>"
      ]
     },
     "metadata": {},
     "output_type": "display_data"
    },
    {
     "data": {
      "text/html": [
       "\n",
       "    <div>\n",
       "      \n",
       "      <progress value='32' max='32' style='width:300px; height:20px; vertical-align: middle;'></progress>\n",
       "      [32/32 00:01]\n",
       "    </div>\n",
       "    "
      ],
      "text/plain": [
       "<IPython.core.display.HTML object>"
      ]
     },
     "metadata": {},
     "output_type": "display_data"
    },
    {
     "name": "stderr",
     "output_type": "stream",
     "text": [
      "\u001b[34m\u001b[1mwandb\u001b[0m: \u001b[32m\u001b[41mERROR\u001b[0m The nbformat package was not found. It is required to save notebook history.\n"
     ]
    },
    {
     "data": {
      "text/html": [],
      "text/plain": [
       "<IPython.core.display.HTML object>"
      ]
     },
     "metadata": {},
     "output_type": "display_data"
    },
    {
     "data": {
      "text/html": [
       "<br>    <style><br>        .wandb-row {<br>            display: flex;<br>            flex-direction: row;<br>            flex-wrap: wrap;<br>            justify-content: flex-start;<br>            width: 100%;<br>        }<br>        .wandb-col {<br>            display: flex;<br>            flex-direction: column;<br>            flex-basis: 100%;<br>            flex: 1;<br>            padding: 10px;<br>        }<br>    </style><br><div class=\"wandb-row\"><div class=\"wandb-col\"><h3>Run history:</h3><br/><table class=\"wandb\"><tr><td>eval/loss</td><td>▁</td></tr><tr><td>eval/runtime</td><td>▁</td></tr><tr><td>eval/samples_per_second</td><td>▁</td></tr><tr><td>eval/steps_per_second</td><td>▁</td></tr><tr><td>train/epoch</td><td>▁▂▃▄▆▇███</td></tr><tr><td>train/global_step</td><td>▁▂▃▅▆▇███</td></tr><tr><td>train/grad_norm</td><td>▁▃▁▁▃▅█</td></tr><tr><td>train/learning_rate</td><td>▃▄▆█▆▃▁</td></tr><tr><td>train/loss</td><td>▄█▆▄▄▁▂</td></tr></table><br/></div><div class=\"wandb-col\"><h3>Run summary:</h3><br/><table class=\"wandb\"><tr><td>eval/loss</td><td>0.69724</td></tr><tr><td>eval/runtime</td><td>1.8311</td></tr><tr><td>eval/samples_per_second</td><td>68.266</td></tr><tr><td>eval/steps_per_second</td><td>17.476</td></tr><tr><td>total_flos</td><td>2.663270256004301e+16</td></tr><tr><td>train/epoch</td><td>4.99291</td></tr><tr><td>train/global_step</td><td>350</td></tr><tr><td>train/grad_norm</td><td>1.39844</td></tr><tr><td>train/learning_rate</td><td>0.0</td></tr><tr><td>train/loss</td><td>0.4743</td></tr><tr><td>train_loss</td><td>0.48613</td></tr><tr><td>train_runtime</td><td>332.7631</td></tr><tr><td>train_samples_per_second</td><td>16.904</td></tr><tr><td>train_steps_per_second</td><td>1.052</td></tr></table><br/></div></div>"
      ],
      "text/plain": [
       "<IPython.core.display.HTML object>"
      ]
     },
     "metadata": {},
     "output_type": "display_data"
    },
    {
     "data": {
      "text/html": [
       " View run <strong style=\"color:#cdcd00\">trial_10</strong> at: <a href='https://wandb.ai/luis-orellana777-sngular/model-qwen-finetuned-medical-reasoning/runs/r7ak62ej' target=\"_blank\">https://wandb.ai/luis-orellana777-sngular/model-qwen-finetuned-medical-reasoning/runs/r7ak62ej</a><br> View project at: <a href='https://wandb.ai/luis-orellana777-sngular/model-qwen-finetuned-medical-reasoning' target=\"_blank\">https://wandb.ai/luis-orellana777-sngular/model-qwen-finetuned-medical-reasoning</a><br>Synced 5 W&B file(s), 0 media file(s), 0 artifact file(s) and 0 other file(s)"
      ],
      "text/plain": [
       "<IPython.core.display.HTML object>"
      ]
     },
     "metadata": {},
     "output_type": "display_data"
    },
    {
     "data": {
      "text/html": [
       "Find logs at: <code>.\\wandb\\run-20250609_101506-r7ak62ej\\logs</code>"
      ],
      "text/plain": [
       "<IPython.core.display.HTML object>"
      ]
     },
     "metadata": {},
     "output_type": "display_data"
    },
    {
     "name": "stderr",
     "output_type": "stream",
     "text": [
      "[I 2025-06-09 10:20:42,869] Trial 10 finished with value: 0.6972418427467346 and parameters: {'learning_rate': 1.5652358124671786e-05, 'per_device_train_batch_size': 4, 'gradient_accumulation_steps': 4}. Best is trial 8 with value: 0.6598436832427979.\n"
     ]
    },
    {
     "data": {
      "text/html": [
       "Tracking run with wandb version 0.19.11"
      ],
      "text/plain": [
       "<IPython.core.display.HTML object>"
      ]
     },
     "metadata": {},
     "output_type": "display_data"
    },
    {
     "data": {
      "text/html": [
       "Run data is saved locally in <code>c:\\Users\\Luis\\OneDrive\\Documentos\\Data Science\\LLM\\Fine Tuning\\wandb\\run-20250609_102042-z2abftlg</code>"
      ],
      "text/plain": [
       "<IPython.core.display.HTML object>"
      ]
     },
     "metadata": {},
     "output_type": "display_data"
    },
    {
     "data": {
      "text/html": [
       "Syncing run <strong><a href='https://wandb.ai/luis-orellana777-sngular/model-qwen-finetuned-medical-reasoning/runs/z2abftlg' target=\"_blank\">trial_11</a></strong> to <a href='https://wandb.ai/luis-orellana777-sngular/model-qwen-finetuned-medical-reasoning' target=\"_blank\">Weights & Biases</a> (<a href='https://wandb.me/developer-guide' target=\"_blank\">docs</a>)<br>"
      ],
      "text/plain": [
       "<IPython.core.display.HTML object>"
      ]
     },
     "metadata": {},
     "output_type": "display_data"
    },
    {
     "data": {
      "text/html": [
       " View project at <a href='https://wandb.ai/luis-orellana777-sngular/model-qwen-finetuned-medical-reasoning' target=\"_blank\">https://wandb.ai/luis-orellana777-sngular/model-qwen-finetuned-medical-reasoning</a>"
      ],
      "text/plain": [
       "<IPython.core.display.HTML object>"
      ]
     },
     "metadata": {},
     "output_type": "display_data"
    },
    {
     "data": {
      "text/html": [
       " View run at <a href='https://wandb.ai/luis-orellana777-sngular/model-qwen-finetuned-medical-reasoning/runs/z2abftlg' target=\"_blank\">https://wandb.ai/luis-orellana777-sngular/model-qwen-finetuned-medical-reasoning/runs/z2abftlg</a>"
      ],
      "text/plain": [
       "<IPython.core.display.HTML object>"
      ]
     },
     "metadata": {},
     "output_type": "display_data"
    },
    {
     "data": {
      "text/html": [
       "\n",
       "    <div>\n",
       "      \n",
       "      <progress value='700' max='700' style='width:300px; height:20px; vertical-align: middle;'></progress>\n",
       "      [700/700 06:42, Epoch 4/5]\n",
       "    </div>\n",
       "    <table border=\"1\" class=\"dataframe\">\n",
       "  <thead>\n",
       " <tr style=\"text-align: left;\">\n",
       "      <th>Step</th>\n",
       "      <th>Training Loss</th>\n",
       "    </tr>\n",
       "  </thead>\n",
       "  <tbody>\n",
       "    <tr>\n",
       "      <td>50</td>\n",
       "      <td>0.466900</td>\n",
       "    </tr>\n",
       "    <tr>\n",
       "      <td>100</td>\n",
       "      <td>0.458900</td>\n",
       "    </tr>\n",
       "    <tr>\n",
       "      <td>150</td>\n",
       "      <td>0.482700</td>\n",
       "    </tr>\n",
       "    <tr>\n",
       "      <td>200</td>\n",
       "      <td>0.467000</td>\n",
       "    </tr>\n",
       "    <tr>\n",
       "      <td>250</td>\n",
       "      <td>0.468200</td>\n",
       "    </tr>\n",
       "    <tr>\n",
       "      <td>300</td>\n",
       "      <td>0.468500</td>\n",
       "    </tr>\n",
       "    <tr>\n",
       "      <td>350</td>\n",
       "      <td>0.476700</td>\n",
       "    </tr>\n",
       "    <tr>\n",
       "      <td>400</td>\n",
       "      <td>0.451000</td>\n",
       "    </tr>\n",
       "    <tr>\n",
       "      <td>450</td>\n",
       "      <td>0.468100</td>\n",
       "    </tr>\n",
       "    <tr>\n",
       "      <td>500</td>\n",
       "      <td>0.452600</td>\n",
       "    </tr>\n",
       "    <tr>\n",
       "      <td>550</td>\n",
       "      <td>0.465500</td>\n",
       "    </tr>\n",
       "    <tr>\n",
       "      <td>600</td>\n",
       "      <td>0.442000</td>\n",
       "    </tr>\n",
       "    <tr>\n",
       "      <td>650</td>\n",
       "      <td>0.447800</td>\n",
       "    </tr>\n",
       "    <tr>\n",
       "      <td>700</td>\n",
       "      <td>0.478000</td>\n",
       "    </tr>\n",
       "  </tbody>\n",
       "</table><p>"
      ],
      "text/plain": [
       "<IPython.core.display.HTML object>"
      ]
     },
     "metadata": {},
     "output_type": "display_data"
    },
    {
     "data": {
      "text/html": [
       "\n",
       "    <div>\n",
       "      \n",
       "      <progress value='63' max='63' style='width:300px; height:20px; vertical-align: middle;'></progress>\n",
       "      [63/63 00:02]\n",
       "    </div>\n",
       "    "
      ],
      "text/plain": [
       "<IPython.core.display.HTML object>"
      ]
     },
     "metadata": {},
     "output_type": "display_data"
    },
    {
     "name": "stderr",
     "output_type": "stream",
     "text": [
      "\u001b[34m\u001b[1mwandb\u001b[0m: \u001b[32m\u001b[41mERROR\u001b[0m The nbformat package was not found. It is required to save notebook history.\n"
     ]
    },
    {
     "data": {
      "text/html": [],
      "text/plain": [
       "<IPython.core.display.HTML object>"
      ]
     },
     "metadata": {},
     "output_type": "display_data"
    },
    {
     "data": {
      "text/html": [
       "<br>    <style><br>        .wandb-row {<br>            display: flex;<br>            flex-direction: row;<br>            flex-wrap: wrap;<br>            justify-content: flex-start;<br>            width: 100%;<br>        }<br>        .wandb-col {<br>            display: flex;<br>            flex-direction: column;<br>            flex-basis: 100%;<br>            flex: 1;<br>            padding: 10px;<br>        }<br>    </style><br><div class=\"wandb-row\"><div class=\"wandb-col\"><h3>Run history:</h3><br/><table class=\"wandb\"><tr><td>eval/loss</td><td>▁</td></tr><tr><td>eval/runtime</td><td>▁</td></tr><tr><td>eval/samples_per_second</td><td>▁</td></tr><tr><td>eval/steps_per_second</td><td>▁</td></tr><tr><td>train/epoch</td><td>▁▂▂▃▃▄▄▅▅▆▆▇▇███</td></tr><tr><td>train/global_step</td><td>▁▂▂▃▃▄▄▅▅▆▆▇▇███</td></tr><tr><td>train/grad_norm</td><td>▄▁▃▇▃▃▃▂▂▅▄▅▆█</td></tr><tr><td>train/learning_rate</td><td>▃▄▆██▇▇▆▅▃▂▂▁▁</td></tr><tr><td>train/loss</td><td>▅▄█▅▆▆▇▃▅▃▅▁▂▇</td></tr></table><br/></div><div class=\"wandb-col\"><h3>Run summary:</h3><br/><table class=\"wandb\"><tr><td>eval/loss</td><td>0.70186</td></tr><tr><td>eval/runtime</td><td>2.1494</td></tr><tr><td>eval/samples_per_second</td><td>58.156</td></tr><tr><td>eval/steps_per_second</td><td>29.31</td></tr><tr><td>total_flos</td><td>2.6594764237307904e+16</td></tr><tr><td>train/epoch</td><td>4.99467</td></tr><tr><td>train/global_step</td><td>700</td></tr><tr><td>train/grad_norm</td><td>2.07812</td></tr><tr><td>train/learning_rate</td><td>0.0</td></tr><tr><td>train/loss</td><td>0.478</td></tr><tr><td>train_loss</td><td>0.46386</td></tr><tr><td>train_runtime</td><td>402.8128</td></tr><tr><td>train_samples_per_second</td><td>13.964</td></tr><tr><td>train_steps_per_second</td><td>1.738</td></tr></table><br/></div></div>"
      ],
      "text/plain": [
       "<IPython.core.display.HTML object>"
      ]
     },
     "metadata": {},
     "output_type": "display_data"
    },
    {
     "data": {
      "text/html": [
       " View run <strong style=\"color:#cdcd00\">trial_11</strong> at: <a href='https://wandb.ai/luis-orellana777-sngular/model-qwen-finetuned-medical-reasoning/runs/z2abftlg' target=\"_blank\">https://wandb.ai/luis-orellana777-sngular/model-qwen-finetuned-medical-reasoning/runs/z2abftlg</a><br> View project at: <a href='https://wandb.ai/luis-orellana777-sngular/model-qwen-finetuned-medical-reasoning' target=\"_blank\">https://wandb.ai/luis-orellana777-sngular/model-qwen-finetuned-medical-reasoning</a><br>Synced 5 W&B file(s), 0 media file(s), 0 artifact file(s) and 0 other file(s)"
      ],
      "text/plain": [
       "<IPython.core.display.HTML object>"
      ]
     },
     "metadata": {},
     "output_type": "display_data"
    },
    {
     "data": {
      "text/html": [
       "Find logs at: <code>.\\wandb\\run-20250609_102042-z2abftlg\\logs</code>"
      ],
      "text/plain": [
       "<IPython.core.display.HTML object>"
      ]
     },
     "metadata": {},
     "output_type": "display_data"
    },
    {
     "name": "stderr",
     "output_type": "stream",
     "text": [
      "[I 2025-06-09 10:27:29,361] Trial 11 finished with value: 0.701859176158905 and parameters: {'learning_rate': 1.0084606360688313e-05, 'per_device_train_batch_size': 2, 'gradient_accumulation_steps': 4}. Best is trial 8 with value: 0.6598436832427979.\n"
     ]
    },
    {
     "data": {
      "text/html": [
       "Tracking run with wandb version 0.19.11"
      ],
      "text/plain": [
       "<IPython.core.display.HTML object>"
      ]
     },
     "metadata": {},
     "output_type": "display_data"
    },
    {
     "data": {
      "text/html": [
       "Run data is saved locally in <code>c:\\Users\\Luis\\OneDrive\\Documentos\\Data Science\\LLM\\Fine Tuning\\wandb\\run-20250609_102729-vfb1r703</code>"
      ],
      "text/plain": [
       "<IPython.core.display.HTML object>"
      ]
     },
     "metadata": {},
     "output_type": "display_data"
    },
    {
     "data": {
      "text/html": [
       "Syncing run <strong><a href='https://wandb.ai/luis-orellana777-sngular/model-qwen-finetuned-medical-reasoning/runs/vfb1r703' target=\"_blank\">trial_12</a></strong> to <a href='https://wandb.ai/luis-orellana777-sngular/model-qwen-finetuned-medical-reasoning' target=\"_blank\">Weights & Biases</a> (<a href='https://wandb.me/developer-guide' target=\"_blank\">docs</a>)<br>"
      ],
      "text/plain": [
       "<IPython.core.display.HTML object>"
      ]
     },
     "metadata": {},
     "output_type": "display_data"
    },
    {
     "data": {
      "text/html": [
       " View project at <a href='https://wandb.ai/luis-orellana777-sngular/model-qwen-finetuned-medical-reasoning' target=\"_blank\">https://wandb.ai/luis-orellana777-sngular/model-qwen-finetuned-medical-reasoning</a>"
      ],
      "text/plain": [
       "<IPython.core.display.HTML object>"
      ]
     },
     "metadata": {},
     "output_type": "display_data"
    },
    {
     "data": {
      "text/html": [
       " View run at <a href='https://wandb.ai/luis-orellana777-sngular/model-qwen-finetuned-medical-reasoning/runs/vfb1r703' target=\"_blank\">https://wandb.ai/luis-orellana777-sngular/model-qwen-finetuned-medical-reasoning/runs/vfb1r703</a>"
      ],
      "text/plain": [
       "<IPython.core.display.HTML object>"
      ]
     },
     "metadata": {},
     "output_type": "display_data"
    },
    {
     "data": {
      "text/html": [
       "\n",
       "    <div>\n",
       "      \n",
       "      <progress value='175' max='175' style='width:300px; height:20px; vertical-align: middle;'></progress>\n",
       "      [175/175 04:35, Epoch 4/5]\n",
       "    </div>\n",
       "    <table border=\"1\" class=\"dataframe\">\n",
       "  <thead>\n",
       " <tr style=\"text-align: left;\">\n",
       "      <th>Step</th>\n",
       "      <th>Training Loss</th>\n",
       "    </tr>\n",
       "  </thead>\n",
       "  <tbody>\n",
       "    <tr>\n",
       "      <td>50</td>\n",
       "      <td>0.458600</td>\n",
       "    </tr>\n",
       "    <tr>\n",
       "      <td>100</td>\n",
       "      <td>0.455600</td>\n",
       "    </tr>\n",
       "    <tr>\n",
       "      <td>150</td>\n",
       "      <td>0.442500</td>\n",
       "    </tr>\n",
       "  </tbody>\n",
       "</table><p>"
      ],
      "text/plain": [
       "<IPython.core.display.HTML object>"
      ]
     },
     "metadata": {},
     "output_type": "display_data"
    },
    {
     "data": {
      "text/html": [
       "\n",
       "    <div>\n",
       "      \n",
       "      <progress value='16' max='16' style='width:300px; height:20px; vertical-align: middle;'></progress>\n",
       "      [16/16 00:01]\n",
       "    </div>\n",
       "    "
      ],
      "text/plain": [
       "<IPython.core.display.HTML object>"
      ]
     },
     "metadata": {},
     "output_type": "display_data"
    },
    {
     "name": "stderr",
     "output_type": "stream",
     "text": [
      "\u001b[34m\u001b[1mwandb\u001b[0m: \u001b[32m\u001b[41mERROR\u001b[0m The nbformat package was not found. It is required to save notebook history.\n"
     ]
    },
    {
     "data": {
      "text/html": [],
      "text/plain": [
       "<IPython.core.display.HTML object>"
      ]
     },
     "metadata": {},
     "output_type": "display_data"
    },
    {
     "data": {
      "text/html": [
       "<br>    <style><br>        .wandb-row {<br>            display: flex;<br>            flex-direction: row;<br>            flex-wrap: wrap;<br>            justify-content: flex-start;<br>            width: 100%;<br>        }<br>        .wandb-col {<br>            display: flex;<br>            flex-direction: column;<br>            flex-basis: 100%;<br>            flex: 1;<br>            padding: 10px;<br>        }<br>    </style><br><div class=\"wandb-row\"><div class=\"wandb-col\"><h3>Run history:</h3><br/><table class=\"wandb\"><tr><td>eval/loss</td><td>▁</td></tr><tr><td>eval/runtime</td><td>▁</td></tr><tr><td>eval/samples_per_second</td><td>▁</td></tr><tr><td>eval/steps_per_second</td><td>▁</td></tr><tr><td>train/epoch</td><td>▁▄▇██</td></tr><tr><td>train/global_step</td><td>▁▄▇██</td></tr><tr><td>train/grad_norm</td><td>▁▂█</td></tr><tr><td>train/learning_rate</td><td>▁▅█</td></tr><tr><td>train/loss</td><td>█▇▁</td></tr></table><br/></div><div class=\"wandb-col\"><h3>Run summary:</h3><br/><table class=\"wandb\"><tr><td>eval/loss</td><td>0.69872</td></tr><tr><td>eval/runtime</td><td>1.6772</td></tr><tr><td>eval/samples_per_second</td><td>74.529</td></tr><tr><td>eval/steps_per_second</td><td>9.54</td></tr><tr><td>total_flos</td><td>2.6044658557648896e+16</td></tr><tr><td>train/epoch</td><td>4.87943</td></tr><tr><td>train/global_step</td><td>175</td></tr><tr><td>train/grad_norm</td><td>0.99219</td></tr><tr><td>train/learning_rate</td><td>1e-05</td></tr><tr><td>train/loss</td><td>0.4425</td></tr><tr><td>train_loss</td><td>0.45231</td></tr><tr><td>train_runtime</td><td>277.1413</td></tr><tr><td>train_samples_per_second</td><td>20.297</td></tr><tr><td>train_steps_per_second</td><td>0.631</td></tr></table><br/></div></div>"
      ],
      "text/plain": [
       "<IPython.core.display.HTML object>"
      ]
     },
     "metadata": {},
     "output_type": "display_data"
    },
    {
     "data": {
      "text/html": [
       " View run <strong style=\"color:#cdcd00\">trial_12</strong> at: <a href='https://wandb.ai/luis-orellana777-sngular/model-qwen-finetuned-medical-reasoning/runs/vfb1r703' target=\"_blank\">https://wandb.ai/luis-orellana777-sngular/model-qwen-finetuned-medical-reasoning/runs/vfb1r703</a><br> View project at: <a href='https://wandb.ai/luis-orellana777-sngular/model-qwen-finetuned-medical-reasoning' target=\"_blank\">https://wandb.ai/luis-orellana777-sngular/model-qwen-finetuned-medical-reasoning</a><br>Synced 5 W&B file(s), 0 media file(s), 0 artifact file(s) and 0 other file(s)"
      ],
      "text/plain": [
       "<IPython.core.display.HTML object>"
      ]
     },
     "metadata": {},
     "output_type": "display_data"
    },
    {
     "data": {
      "text/html": [
       "Find logs at: <code>.\\wandb\\run-20250609_102729-vfb1r703\\logs</code>"
      ],
      "text/plain": [
       "<IPython.core.display.HTML object>"
      ]
     },
     "metadata": {},
     "output_type": "display_data"
    },
    {
     "name": "stderr",
     "output_type": "stream",
     "text": [
      "[I 2025-06-09 10:32:09,760] Trial 12 finished with value: 0.6987183690071106 and parameters: {'learning_rate': 1.4380827936722391e-05, 'per_device_train_batch_size': 8, 'gradient_accumulation_steps': 4}. Best is trial 8 with value: 0.6598436832427979.\n"
     ]
    },
    {
     "data": {
      "text/html": [
       "Tracking run with wandb version 0.19.11"
      ],
      "text/plain": [
       "<IPython.core.display.HTML object>"
      ]
     },
     "metadata": {},
     "output_type": "display_data"
    },
    {
     "data": {
      "text/html": [
       "Run data is saved locally in <code>c:\\Users\\Luis\\OneDrive\\Documentos\\Data Science\\LLM\\Fine Tuning\\wandb\\run-20250609_103209-03eo7386</code>"
      ],
      "text/plain": [
       "<IPython.core.display.HTML object>"
      ]
     },
     "metadata": {},
     "output_type": "display_data"
    },
    {
     "data": {
      "text/html": [
       "Syncing run <strong><a href='https://wandb.ai/luis-orellana777-sngular/model-qwen-finetuned-medical-reasoning/runs/03eo7386' target=\"_blank\">trial_13</a></strong> to <a href='https://wandb.ai/luis-orellana777-sngular/model-qwen-finetuned-medical-reasoning' target=\"_blank\">Weights & Biases</a> (<a href='https://wandb.me/developer-guide' target=\"_blank\">docs</a>)<br>"
      ],
      "text/plain": [
       "<IPython.core.display.HTML object>"
      ]
     },
     "metadata": {},
     "output_type": "display_data"
    },
    {
     "data": {
      "text/html": [
       " View project at <a href='https://wandb.ai/luis-orellana777-sngular/model-qwen-finetuned-medical-reasoning' target=\"_blank\">https://wandb.ai/luis-orellana777-sngular/model-qwen-finetuned-medical-reasoning</a>"
      ],
      "text/plain": [
       "<IPython.core.display.HTML object>"
      ]
     },
     "metadata": {},
     "output_type": "display_data"
    },
    {
     "data": {
      "text/html": [
       " View run at <a href='https://wandb.ai/luis-orellana777-sngular/model-qwen-finetuned-medical-reasoning/runs/03eo7386' target=\"_blank\">https://wandb.ai/luis-orellana777-sngular/model-qwen-finetuned-medical-reasoning/runs/03eo7386</a>"
      ],
      "text/plain": [
       "<IPython.core.display.HTML object>"
      ]
     },
     "metadata": {},
     "output_type": "display_data"
    },
    {
     "data": {
      "text/html": [
       "\n",
       "    <div>\n",
       "      \n",
       "      <progress value='350' max='350' style='width:300px; height:20px; vertical-align: middle;'></progress>\n",
       "      [350/350 05:32, Epoch 4/5]\n",
       "    </div>\n",
       "    <table border=\"1\" class=\"dataframe\">\n",
       "  <thead>\n",
       " <tr style=\"text-align: left;\">\n",
       "      <th>Step</th>\n",
       "      <th>Training Loss</th>\n",
       "    </tr>\n",
       "  </thead>\n",
       "  <tbody>\n",
       "    <tr>\n",
       "      <td>50</td>\n",
       "      <td>0.445100</td>\n",
       "    </tr>\n",
       "    <tr>\n",
       "      <td>100</td>\n",
       "      <td>0.465300</td>\n",
       "    </tr>\n",
       "    <tr>\n",
       "      <td>150</td>\n",
       "      <td>0.451300</td>\n",
       "    </tr>\n",
       "    <tr>\n",
       "      <td>200</td>\n",
       "      <td>0.440500</td>\n",
       "    </tr>\n",
       "    <tr>\n",
       "      <td>250</td>\n",
       "      <td>0.416200</td>\n",
       "    </tr>\n",
       "    <tr>\n",
       "      <td>300</td>\n",
       "      <td>0.395100</td>\n",
       "    </tr>\n",
       "    <tr>\n",
       "      <td>350</td>\n",
       "      <td>0.385600</td>\n",
       "    </tr>\n",
       "  </tbody>\n",
       "</table><p>"
      ],
      "text/plain": [
       "<IPython.core.display.HTML object>"
      ]
     },
     "metadata": {},
     "output_type": "display_data"
    },
    {
     "data": {
      "text/html": [
       "\n",
       "    <div>\n",
       "      \n",
       "      <progress value='32' max='32' style='width:300px; height:20px; vertical-align: middle;'></progress>\n",
       "      [32/32 00:01]\n",
       "    </div>\n",
       "    "
      ],
      "text/plain": [
       "<IPython.core.display.HTML object>"
      ]
     },
     "metadata": {},
     "output_type": "display_data"
    },
    {
     "name": "stderr",
     "output_type": "stream",
     "text": [
      "\u001b[34m\u001b[1mwandb\u001b[0m: \u001b[32m\u001b[41mERROR\u001b[0m The nbformat package was not found. It is required to save notebook history.\n"
     ]
    },
    {
     "data": {
      "text/html": [],
      "text/plain": [
       "<IPython.core.display.HTML object>"
      ]
     },
     "metadata": {},
     "output_type": "display_data"
    },
    {
     "data": {
      "text/html": [
       "<br>    <style><br>        .wandb-row {<br>            display: flex;<br>            flex-direction: row;<br>            flex-wrap: wrap;<br>            justify-content: flex-start;<br>            width: 100%;<br>        }<br>        .wandb-col {<br>            display: flex;<br>            flex-direction: column;<br>            flex-basis: 100%;<br>            flex: 1;<br>            padding: 10px;<br>        }<br>    </style><br><div class=\"wandb-row\"><div class=\"wandb-col\"><h3>Run history:</h3><br/><table class=\"wandb\"><tr><td>eval/loss</td><td>▁</td></tr><tr><td>eval/runtime</td><td>▁</td></tr><tr><td>eval/samples_per_second</td><td>▁</td></tr><tr><td>eval/steps_per_second</td><td>▁</td></tr><tr><td>train/epoch</td><td>▁▂▃▄▆▇███</td></tr><tr><td>train/global_step</td><td>▁▂▃▅▆▇███</td></tr><tr><td>train/grad_norm</td><td>▂█▄▁▆▆▅</td></tr><tr><td>train/learning_rate</td><td>▃▄▆█▆▃▁</td></tr><tr><td>train/loss</td><td>▆█▇▆▄▂▁</td></tr></table><br/></div><div class=\"wandb-col\"><h3>Run summary:</h3><br/><table class=\"wandb\"><tr><td>eval/loss</td><td>0.75119</td></tr><tr><td>eval/runtime</td><td>1.9382</td></tr><tr><td>eval/samples_per_second</td><td>64.492</td></tr><tr><td>eval/steps_per_second</td><td>16.51</td></tr><tr><td>total_flos</td><td>2.663270256004301e+16</td></tr><tr><td>train/epoch</td><td>4.99291</td></tr><tr><td>train/global_step</td><td>350</td></tr><tr><td>train/grad_norm</td><td>1.39062</td></tr><tr><td>train/learning_rate</td><td>0.0</td></tr><tr><td>train/loss</td><td>0.3856</td></tr><tr><td>train_loss</td><td>0.42842</td></tr><tr><td>train_runtime</td><td>333.039</td></tr><tr><td>train_samples_per_second</td><td>16.89</td></tr><tr><td>train_steps_per_second</td><td>1.051</td></tr></table><br/></div></div>"
      ],
      "text/plain": [
       "<IPython.core.display.HTML object>"
      ]
     },
     "metadata": {},
     "output_type": "display_data"
    },
    {
     "data": {
      "text/html": [
       " View run <strong style=\"color:#cdcd00\">trial_13</strong> at: <a href='https://wandb.ai/luis-orellana777-sngular/model-qwen-finetuned-medical-reasoning/runs/03eo7386' target=\"_blank\">https://wandb.ai/luis-orellana777-sngular/model-qwen-finetuned-medical-reasoning/runs/03eo7386</a><br> View project at: <a href='https://wandb.ai/luis-orellana777-sngular/model-qwen-finetuned-medical-reasoning' target=\"_blank\">https://wandb.ai/luis-orellana777-sngular/model-qwen-finetuned-medical-reasoning</a><br>Synced 5 W&B file(s), 0 media file(s), 0 artifact file(s) and 0 other file(s)"
      ],
      "text/plain": [
       "<IPython.core.display.HTML object>"
      ]
     },
     "metadata": {},
     "output_type": "display_data"
    },
    {
     "data": {
      "text/html": [
       "Find logs at: <code>.\\wandb\\run-20250609_103209-03eo7386\\logs</code>"
      ],
      "text/plain": [
       "<IPython.core.display.HTML object>"
      ]
     },
     "metadata": {},
     "output_type": "display_data"
    },
    {
     "name": "stderr",
     "output_type": "stream",
     "text": [
      "[I 2025-06-09 10:37:46,236] Trial 13 finished with value: 0.7511882185935974 and parameters: {'learning_rate': 2.6992782370856335e-05, 'per_device_train_batch_size': 4, 'gradient_accumulation_steps': 4}. Best is trial 8 with value: 0.6598436832427979.\n"
     ]
    },
    {
     "data": {
      "text/html": [
       "Tracking run with wandb version 0.19.11"
      ],
      "text/plain": [
       "<IPython.core.display.HTML object>"
      ]
     },
     "metadata": {},
     "output_type": "display_data"
    },
    {
     "data": {
      "text/html": [
       "Run data is saved locally in <code>c:\\Users\\Luis\\OneDrive\\Documentos\\Data Science\\LLM\\Fine Tuning\\wandb\\run-20250609_103746-5dzendyq</code>"
      ],
      "text/plain": [
       "<IPython.core.display.HTML object>"
      ]
     },
     "metadata": {},
     "output_type": "display_data"
    },
    {
     "data": {
      "text/html": [
       "Syncing run <strong><a href='https://wandb.ai/luis-orellana777-sngular/model-qwen-finetuned-medical-reasoning/runs/5dzendyq' target=\"_blank\">trial_14</a></strong> to <a href='https://wandb.ai/luis-orellana777-sngular/model-qwen-finetuned-medical-reasoning' target=\"_blank\">Weights & Biases</a> (<a href='https://wandb.me/developer-guide' target=\"_blank\">docs</a>)<br>"
      ],
      "text/plain": [
       "<IPython.core.display.HTML object>"
      ]
     },
     "metadata": {},
     "output_type": "display_data"
    },
    {
     "data": {
      "text/html": [
       " View project at <a href='https://wandb.ai/luis-orellana777-sngular/model-qwen-finetuned-medical-reasoning' target=\"_blank\">https://wandb.ai/luis-orellana777-sngular/model-qwen-finetuned-medical-reasoning</a>"
      ],
      "text/plain": [
       "<IPython.core.display.HTML object>"
      ]
     },
     "metadata": {},
     "output_type": "display_data"
    },
    {
     "data": {
      "text/html": [
       " View run at <a href='https://wandb.ai/luis-orellana777-sngular/model-qwen-finetuned-medical-reasoning/runs/5dzendyq' target=\"_blank\">https://wandb.ai/luis-orellana777-sngular/model-qwen-finetuned-medical-reasoning/runs/5dzendyq</a>"
      ],
      "text/plain": [
       "<IPython.core.display.HTML object>"
      ]
     },
     "metadata": {},
     "output_type": "display_data"
    },
    {
     "data": {
      "text/html": [
       "\n",
       "    <div>\n",
       "      \n",
       "      <progress value='700' max='700' style='width:300px; height:20px; vertical-align: middle;'></progress>\n",
       "      [700/700 06:42, Epoch 4/5]\n",
       "    </div>\n",
       "    <table border=\"1\" class=\"dataframe\">\n",
       "  <thead>\n",
       " <tr style=\"text-align: left;\">\n",
       "      <th>Step</th>\n",
       "      <th>Training Loss</th>\n",
       "    </tr>\n",
       "  </thead>\n",
       "  <tbody>\n",
       "    <tr>\n",
       "      <td>50</td>\n",
       "      <td>0.381600</td>\n",
       "    </tr>\n",
       "    <tr>\n",
       "      <td>100</td>\n",
       "      <td>0.372000</td>\n",
       "    </tr>\n",
       "    <tr>\n",
       "      <td>150</td>\n",
       "      <td>0.390100</td>\n",
       "    </tr>\n",
       "    <tr>\n",
       "      <td>200</td>\n",
       "      <td>0.372800</td>\n",
       "    </tr>\n",
       "    <tr>\n",
       "      <td>250</td>\n",
       "      <td>0.374100</td>\n",
       "    </tr>\n",
       "    <tr>\n",
       "      <td>300</td>\n",
       "      <td>0.350700</td>\n",
       "    </tr>\n",
       "    <tr>\n",
       "      <td>350</td>\n",
       "      <td>0.320400</td>\n",
       "    </tr>\n",
       "    <tr>\n",
       "      <td>400</td>\n",
       "      <td>0.293900</td>\n",
       "    </tr>\n",
       "    <tr>\n",
       "      <td>450</td>\n",
       "      <td>0.276700</td>\n",
       "    </tr>\n",
       "    <tr>\n",
       "      <td>500</td>\n",
       "      <td>0.254600</td>\n",
       "    </tr>\n",
       "    <tr>\n",
       "      <td>550</td>\n",
       "      <td>0.272800</td>\n",
       "    </tr>\n",
       "    <tr>\n",
       "      <td>600</td>\n",
       "      <td>0.239500</td>\n",
       "    </tr>\n",
       "    <tr>\n",
       "      <td>650</td>\n",
       "      <td>0.239300</td>\n",
       "    </tr>\n",
       "    <tr>\n",
       "      <td>700</td>\n",
       "      <td>0.258100</td>\n",
       "    </tr>\n",
       "  </tbody>\n",
       "</table><p>"
      ],
      "text/plain": [
       "<IPython.core.display.HTML object>"
      ]
     },
     "metadata": {},
     "output_type": "display_data"
    },
    {
     "data": {
      "text/html": [
       "\n",
       "    <div>\n",
       "      \n",
       "      <progress value='63' max='63' style='width:300px; height:20px; vertical-align: middle;'></progress>\n",
       "      [63/63 00:02]\n",
       "    </div>\n",
       "    "
      ],
      "text/plain": [
       "<IPython.core.display.HTML object>"
      ]
     },
     "metadata": {},
     "output_type": "display_data"
    },
    {
     "name": "stderr",
     "output_type": "stream",
     "text": [
      "\u001b[34m\u001b[1mwandb\u001b[0m: \u001b[32m\u001b[41mERROR\u001b[0m The nbformat package was not found. It is required to save notebook history.\n"
     ]
    },
    {
     "data": {
      "text/html": [],
      "text/plain": [
       "<IPython.core.display.HTML object>"
      ]
     },
     "metadata": {},
     "output_type": "display_data"
    },
    {
     "data": {
      "text/html": [
       "<br>    <style><br>        .wandb-row {<br>            display: flex;<br>            flex-direction: row;<br>            flex-wrap: wrap;<br>            justify-content: flex-start;<br>            width: 100%;<br>        }<br>        .wandb-col {<br>            display: flex;<br>            flex-direction: column;<br>            flex-basis: 100%;<br>            flex: 1;<br>            padding: 10px;<br>        }<br>    </style><br><div class=\"wandb-row\"><div class=\"wandb-col\"><h3>Run history:</h3><br/><table class=\"wandb\"><tr><td>eval/loss</td><td>▁</td></tr><tr><td>eval/runtime</td><td>▁</td></tr><tr><td>eval/samples_per_second</td><td>▁</td></tr><tr><td>eval/steps_per_second</td><td>▁</td></tr><tr><td>train/epoch</td><td>▁▂▂▃▃▄▄▅▅▆▆▇▇███</td></tr><tr><td>train/global_step</td><td>▁▂▂▃▃▄▄▅▅▆▆▇▇███</td></tr><tr><td>train/grad_norm</td><td>▁▁▂▆▂█▆▃█▆▅▃▂▃</td></tr><tr><td>train/learning_rate</td><td>▃▄▆██▇▇▆▅▃▂▂▁▁</td></tr><tr><td>train/loss</td><td>█▇█▇▇▆▅▄▃▂▃▁▁▂</td></tr></table><br/></div><div class=\"wandb-col\"><h3>Run summary:</h3><br/><table class=\"wandb\"><tr><td>eval/loss</td><td>0.87318</td></tr><tr><td>eval/runtime</td><td>2.0688</td></tr><tr><td>eval/samples_per_second</td><td>60.422</td></tr><tr><td>eval/steps_per_second</td><td>30.453</td></tr><tr><td>total_flos</td><td>2.6594764237307904e+16</td></tr><tr><td>train/epoch</td><td>4.99467</td></tr><tr><td>train/global_step</td><td>700</td></tr><tr><td>train/grad_norm</td><td>2.46875</td></tr><tr><td>train/learning_rate</td><td>0.0</td></tr><tr><td>train/loss</td><td>0.2581</td></tr><tr><td>train_loss</td><td>0.31402</td></tr><tr><td>train_runtime</td><td>403.0468</td></tr><tr><td>train_samples_per_second</td><td>13.956</td></tr><tr><td>train_steps_per_second</td><td>1.737</td></tr></table><br/></div></div>"
      ],
      "text/plain": [
       "<IPython.core.display.HTML object>"
      ]
     },
     "metadata": {},
     "output_type": "display_data"
    },
    {
     "data": {
      "text/html": [
       " View run <strong style=\"color:#cdcd00\">trial_14</strong> at: <a href='https://wandb.ai/luis-orellana777-sngular/model-qwen-finetuned-medical-reasoning/runs/5dzendyq' target=\"_blank\">https://wandb.ai/luis-orellana777-sngular/model-qwen-finetuned-medical-reasoning/runs/5dzendyq</a><br> View project at: <a href='https://wandb.ai/luis-orellana777-sngular/model-qwen-finetuned-medical-reasoning' target=\"_blank\">https://wandb.ai/luis-orellana777-sngular/model-qwen-finetuned-medical-reasoning</a><br>Synced 5 W&B file(s), 0 media file(s), 0 artifact file(s) and 0 other file(s)"
      ],
      "text/plain": [
       "<IPython.core.display.HTML object>"
      ]
     },
     "metadata": {},
     "output_type": "display_data"
    },
    {
     "data": {
      "text/html": [
       "Find logs at: <code>.\\wandb\\run-20250609_103746-5dzendyq\\logs</code>"
      ],
      "text/plain": [
       "<IPython.core.display.HTML object>"
      ]
     },
     "metadata": {},
     "output_type": "display_data"
    },
    {
     "name": "stderr",
     "output_type": "stream",
     "text": [
      "[I 2025-06-09 10:44:32,868] Trial 14 finished with value: 0.8731797337532043 and parameters: {'learning_rate': 3.36945998843922e-05, 'per_device_train_batch_size': 2, 'gradient_accumulation_steps': 4}. Best is trial 8 with value: 0.6598436832427979.\n"
     ]
    },
    {
     "data": {
      "text/html": [
       "Tracking run with wandb version 0.19.11"
      ],
      "text/plain": [
       "<IPython.core.display.HTML object>"
      ]
     },
     "metadata": {},
     "output_type": "display_data"
    },
    {
     "data": {
      "text/html": [
       "Run data is saved locally in <code>c:\\Users\\Luis\\OneDrive\\Documentos\\Data Science\\LLM\\Fine Tuning\\wandb\\run-20250609_104432-1an65c1k</code>"
      ],
      "text/plain": [
       "<IPython.core.display.HTML object>"
      ]
     },
     "metadata": {},
     "output_type": "display_data"
    },
    {
     "data": {
      "text/html": [
       "Syncing run <strong><a href='https://wandb.ai/luis-orellana777-sngular/model-qwen-finetuned-medical-reasoning/runs/1an65c1k' target=\"_blank\">trial_15</a></strong> to <a href='https://wandb.ai/luis-orellana777-sngular/model-qwen-finetuned-medical-reasoning' target=\"_blank\">Weights & Biases</a> (<a href='https://wandb.me/developer-guide' target=\"_blank\">docs</a>)<br>"
      ],
      "text/plain": [
       "<IPython.core.display.HTML object>"
      ]
     },
     "metadata": {},
     "output_type": "display_data"
    },
    {
     "data": {
      "text/html": [
       " View project at <a href='https://wandb.ai/luis-orellana777-sngular/model-qwen-finetuned-medical-reasoning' target=\"_blank\">https://wandb.ai/luis-orellana777-sngular/model-qwen-finetuned-medical-reasoning</a>"
      ],
      "text/plain": [
       "<IPython.core.display.HTML object>"
      ]
     },
     "metadata": {},
     "output_type": "display_data"
    },
    {
     "data": {
      "text/html": [
       " View run at <a href='https://wandb.ai/luis-orellana777-sngular/model-qwen-finetuned-medical-reasoning/runs/1an65c1k' target=\"_blank\">https://wandb.ai/luis-orellana777-sngular/model-qwen-finetuned-medical-reasoning/runs/1an65c1k</a>"
      ],
      "text/plain": [
       "<IPython.core.display.HTML object>"
      ]
     },
     "metadata": {},
     "output_type": "display_data"
    },
    {
     "data": {
      "text/html": [
       "\n",
       "    <div>\n",
       "      \n",
       "      <progress value='85' max='85' style='width:300px; height:20px; vertical-align: middle;'></progress>\n",
       "      [85/85 04:21, Epoch 4/5]\n",
       "    </div>\n",
       "    <table border=\"1\" class=\"dataframe\">\n",
       "  <thead>\n",
       " <tr style=\"text-align: left;\">\n",
       "      <th>Step</th>\n",
       "      <th>Training Loss</th>\n",
       "    </tr>\n",
       "  </thead>\n",
       "  <tbody>\n",
       "    <tr>\n",
       "      <td>50</td>\n",
       "      <td>0.243500</td>\n",
       "    </tr>\n",
       "  </tbody>\n",
       "</table><p>"
      ],
      "text/plain": [
       "<IPython.core.display.HTML object>"
      ]
     },
     "metadata": {},
     "output_type": "display_data"
    },
    {
     "data": {
      "text/html": [
       "\n",
       "    <div>\n",
       "      \n",
       "      <progress value='16' max='16' style='width:300px; height:20px; vertical-align: middle;'></progress>\n",
       "      [16/16 00:01]\n",
       "    </div>\n",
       "    "
      ],
      "text/plain": [
       "<IPython.core.display.HTML object>"
      ]
     },
     "metadata": {},
     "output_type": "display_data"
    },
    {
     "name": "stderr",
     "output_type": "stream",
     "text": [
      "\u001b[34m\u001b[1mwandb\u001b[0m: \u001b[32m\u001b[41mERROR\u001b[0m The nbformat package was not found. It is required to save notebook history.\n"
     ]
    },
    {
     "data": {
      "text/html": [],
      "text/plain": [
       "<IPython.core.display.HTML object>"
      ]
     },
     "metadata": {},
     "output_type": "display_data"
    },
    {
     "data": {
      "text/html": [
       "<br>    <style><br>        .wandb-row {<br>            display: flex;<br>            flex-direction: row;<br>            flex-wrap: wrap;<br>            justify-content: flex-start;<br>            width: 100%;<br>        }<br>        .wandb-col {<br>            display: flex;<br>            flex-direction: column;<br>            flex-basis: 100%;<br>            flex: 1;<br>            padding: 10px;<br>        }<br>    </style><br><div class=\"wandb-row\"><div class=\"wandb-col\"><h3>Run history:</h3><br/><table class=\"wandb\"><tr><td>eval/loss</td><td>▁</td></tr><tr><td>eval/runtime</td><td>▁</td></tr><tr><td>eval/samples_per_second</td><td>▁</td></tr><tr><td>eval/steps_per_second</td><td>▁</td></tr><tr><td>train/epoch</td><td>▁██</td></tr><tr><td>train/global_step</td><td>▁██</td></tr><tr><td>train/grad_norm</td><td>▁</td></tr><tr><td>train/learning_rate</td><td>▁</td></tr><tr><td>train/loss</td><td>▁</td></tr></table><br/></div><div class=\"wandb-col\"><h3>Run summary:</h3><br/><table class=\"wandb\"><tr><td>eval/loss</td><td>0.87411</td></tr><tr><td>eval/runtime</td><td>1.7342</td></tr><tr><td>eval/samples_per_second</td><td>72.079</td></tr><tr><td>eval/steps_per_second</td><td>9.226</td></tr><tr><td>total_flos</td><td>2.5285892102946816e+16</td></tr><tr><td>train/epoch</td><td>4.73759</td></tr><tr><td>train/global_step</td><td>85</td></tr><tr><td>train/grad_norm</td><td>0.71094</td></tr><tr><td>train/learning_rate</td><td>0.0</td></tr><tr><td>train/loss</td><td>0.2435</td></tr><tr><td>train_loss</td><td>0.24166</td></tr><tr><td>train_runtime</td><td>265.0557</td></tr><tr><td>train_samples_per_second</td><td>21.222</td></tr><tr><td>train_steps_per_second</td><td>0.321</td></tr></table><br/></div></div>"
      ],
      "text/plain": [
       "<IPython.core.display.HTML object>"
      ]
     },
     "metadata": {},
     "output_type": "display_data"
    },
    {
     "data": {
      "text/html": [
       " View run <strong style=\"color:#cdcd00\">trial_15</strong> at: <a href='https://wandb.ai/luis-orellana777-sngular/model-qwen-finetuned-medical-reasoning/runs/1an65c1k' target=\"_blank\">https://wandb.ai/luis-orellana777-sngular/model-qwen-finetuned-medical-reasoning/runs/1an65c1k</a><br> View project at: <a href='https://wandb.ai/luis-orellana777-sngular/model-qwen-finetuned-medical-reasoning' target=\"_blank\">https://wandb.ai/luis-orellana777-sngular/model-qwen-finetuned-medical-reasoning</a><br>Synced 5 W&B file(s), 0 media file(s), 0 artifact file(s) and 0 other file(s)"
      ],
      "text/plain": [
       "<IPython.core.display.HTML object>"
      ]
     },
     "metadata": {},
     "output_type": "display_data"
    },
    {
     "data": {
      "text/html": [
       "Find logs at: <code>.\\wandb\\run-20250609_104432-1an65c1k\\logs</code>"
      ],
      "text/plain": [
       "<IPython.core.display.HTML object>"
      ]
     },
     "metadata": {},
     "output_type": "display_data"
    },
    {
     "name": "stderr",
     "output_type": "stream",
     "text": [
      "[I 2025-06-09 10:49:01,239] Trial 15 finished with value: 0.8741080164909363 and parameters: {'learning_rate': 1.3384029845125636e-05, 'per_device_train_batch_size': 8, 'gradient_accumulation_steps': 8}. Best is trial 8 with value: 0.6598436832427979.\n"
     ]
    },
    {
     "data": {
      "text/html": [
       "Tracking run with wandb version 0.19.11"
      ],
      "text/plain": [
       "<IPython.core.display.HTML object>"
      ]
     },
     "metadata": {},
     "output_type": "display_data"
    },
    {
     "data": {
      "text/html": [
       "Run data is saved locally in <code>c:\\Users\\Luis\\OneDrive\\Documentos\\Data Science\\LLM\\Fine Tuning\\wandb\\run-20250609_104901-mv741qxb</code>"
      ],
      "text/plain": [
       "<IPython.core.display.HTML object>"
      ]
     },
     "metadata": {},
     "output_type": "display_data"
    },
    {
     "data": {
      "text/html": [
       "Syncing run <strong><a href='https://wandb.ai/luis-orellana777-sngular/model-qwen-finetuned-medical-reasoning/runs/mv741qxb' target=\"_blank\">trial_16</a></strong> to <a href='https://wandb.ai/luis-orellana777-sngular/model-qwen-finetuned-medical-reasoning' target=\"_blank\">Weights & Biases</a> (<a href='https://wandb.me/developer-guide' target=\"_blank\">docs</a>)<br>"
      ],
      "text/plain": [
       "<IPython.core.display.HTML object>"
      ]
     },
     "metadata": {},
     "output_type": "display_data"
    },
    {
     "data": {
      "text/html": [
       " View project at <a href='https://wandb.ai/luis-orellana777-sngular/model-qwen-finetuned-medical-reasoning' target=\"_blank\">https://wandb.ai/luis-orellana777-sngular/model-qwen-finetuned-medical-reasoning</a>"
      ],
      "text/plain": [
       "<IPython.core.display.HTML object>"
      ]
     },
     "metadata": {},
     "output_type": "display_data"
    },
    {
     "data": {
      "text/html": [
       " View run at <a href='https://wandb.ai/luis-orellana777-sngular/model-qwen-finetuned-medical-reasoning/runs/mv741qxb' target=\"_blank\">https://wandb.ai/luis-orellana777-sngular/model-qwen-finetuned-medical-reasoning/runs/mv741qxb</a>"
      ],
      "text/plain": [
       "<IPython.core.display.HTML object>"
      ]
     },
     "metadata": {},
     "output_type": "display_data"
    },
    {
     "data": {
      "text/html": [
       "\n",
       "    <div>\n",
       "      \n",
       "      <progress value='700' max='700' style='width:300px; height:20px; vertical-align: middle;'></progress>\n",
       "      [700/700 06:42, Epoch 4/5]\n",
       "    </div>\n",
       "    <table border=\"1\" class=\"dataframe\">\n",
       "  <thead>\n",
       " <tr style=\"text-align: left;\">\n",
       "      <th>Step</th>\n",
       "      <th>Training Loss</th>\n",
       "    </tr>\n",
       "  </thead>\n",
       "  <tbody>\n",
       "    <tr>\n",
       "      <td>50</td>\n",
       "      <td>0.253500</td>\n",
       "    </tr>\n",
       "    <tr>\n",
       "      <td>100</td>\n",
       "      <td>0.236000</td>\n",
       "    </tr>\n",
       "    <tr>\n",
       "      <td>150</td>\n",
       "      <td>0.243800</td>\n",
       "    </tr>\n",
       "    <tr>\n",
       "      <td>200</td>\n",
       "      <td>0.241400</td>\n",
       "    </tr>\n",
       "    <tr>\n",
       "      <td>250</td>\n",
       "      <td>0.233800</td>\n",
       "    </tr>\n",
       "    <tr>\n",
       "      <td>300</td>\n",
       "      <td>0.218200</td>\n",
       "    </tr>\n",
       "    <tr>\n",
       "      <td>350</td>\n",
       "      <td>0.207900</td>\n",
       "    </tr>\n",
       "    <tr>\n",
       "      <td>400</td>\n",
       "      <td>0.195700</td>\n",
       "    </tr>\n",
       "    <tr>\n",
       "      <td>450</td>\n",
       "      <td>0.184400</td>\n",
       "    </tr>\n",
       "    <tr>\n",
       "      <td>500</td>\n",
       "      <td>0.169300</td>\n",
       "    </tr>\n",
       "    <tr>\n",
       "      <td>550</td>\n",
       "      <td>0.190200</td>\n",
       "    </tr>\n",
       "    <tr>\n",
       "      <td>600</td>\n",
       "      <td>0.165100</td>\n",
       "    </tr>\n",
       "    <tr>\n",
       "      <td>650</td>\n",
       "      <td>0.165000</td>\n",
       "    </tr>\n",
       "    <tr>\n",
       "      <td>700</td>\n",
       "      <td>0.181400</td>\n",
       "    </tr>\n",
       "  </tbody>\n",
       "</table><p>"
      ],
      "text/plain": [
       "<IPython.core.display.HTML object>"
      ]
     },
     "metadata": {},
     "output_type": "display_data"
    },
    {
     "data": {
      "text/html": [
       "\n",
       "    <div>\n",
       "      \n",
       "      <progress value='63' max='63' style='width:300px; height:20px; vertical-align: middle;'></progress>\n",
       "      [63/63 00:02]\n",
       "    </div>\n",
       "    "
      ],
      "text/plain": [
       "<IPython.core.display.HTML object>"
      ]
     },
     "metadata": {},
     "output_type": "display_data"
    },
    {
     "name": "stderr",
     "output_type": "stream",
     "text": [
      "\u001b[34m\u001b[1mwandb\u001b[0m: \u001b[32m\u001b[41mERROR\u001b[0m The nbformat package was not found. It is required to save notebook history.\n"
     ]
    },
    {
     "data": {
      "text/html": [],
      "text/plain": [
       "<IPython.core.display.HTML object>"
      ]
     },
     "metadata": {},
     "output_type": "display_data"
    },
    {
     "data": {
      "text/html": [
       "<br>    <style><br>        .wandb-row {<br>            display: flex;<br>            flex-direction: row;<br>            flex-wrap: wrap;<br>            justify-content: flex-start;<br>            width: 100%;<br>        }<br>        .wandb-col {<br>            display: flex;<br>            flex-direction: column;<br>            flex-basis: 100%;<br>            flex: 1;<br>            padding: 10px;<br>        }<br>    </style><br><div class=\"wandb-row\"><div class=\"wandb-col\"><h3>Run history:</h3><br/><table class=\"wandb\"><tr><td>eval/loss</td><td>▁</td></tr><tr><td>eval/runtime</td><td>▁</td></tr><tr><td>eval/samples_per_second</td><td>▁</td></tr><tr><td>eval/steps_per_second</td><td>▁</td></tr><tr><td>train/epoch</td><td>▁▂▂▃▃▄▄▅▅▆▆▇▇███</td></tr><tr><td>train/global_step</td><td>▁▂▂▃▃▄▄▅▅▆▆▇▇███</td></tr><tr><td>train/grad_norm</td><td>▂▁▂█▃▂▆▂▄▄▅▂▁▃</td></tr><tr><td>train/learning_rate</td><td>▃▄▆██▇▇▆▅▃▂▂▁▁</td></tr><tr><td>train/loss</td><td>█▇▇▇▆▅▄▃▃▁▃▁▁▂</td></tr></table><br/></div><div class=\"wandb-col\"><h3>Run summary:</h3><br/><table class=\"wandb\"><tr><td>eval/loss</td><td>1.00135</td></tr><tr><td>eval/runtime</td><td>2.0794</td></tr><tr><td>eval/samples_per_second</td><td>60.115</td></tr><tr><td>eval/steps_per_second</td><td>30.298</td></tr><tr><td>total_flos</td><td>2.6594764237307904e+16</td></tr><tr><td>train/epoch</td><td>4.99467</td></tr><tr><td>train/global_step</td><td>700</td></tr><tr><td>train/grad_norm</td><td>2.46875</td></tr><tr><td>train/learning_rate</td><td>0.0</td></tr><tr><td>train/loss</td><td>0.1814</td></tr><tr><td>train_loss</td><td>0.20613</td></tr><tr><td>train_runtime</td><td>402.739</td></tr><tr><td>train_samples_per_second</td><td>13.967</td></tr><tr><td>train_steps_per_second</td><td>1.738</td></tr></table><br/></div></div>"
      ],
      "text/plain": [
       "<IPython.core.display.HTML object>"
      ]
     },
     "metadata": {},
     "output_type": "display_data"
    },
    {
     "data": {
      "text/html": [
       " View run <strong style=\"color:#cdcd00\">trial_16</strong> at: <a href='https://wandb.ai/luis-orellana777-sngular/model-qwen-finetuned-medical-reasoning/runs/mv741qxb' target=\"_blank\">https://wandb.ai/luis-orellana777-sngular/model-qwen-finetuned-medical-reasoning/runs/mv741qxb</a><br> View project at: <a href='https://wandb.ai/luis-orellana777-sngular/model-qwen-finetuned-medical-reasoning' target=\"_blank\">https://wandb.ai/luis-orellana777-sngular/model-qwen-finetuned-medical-reasoning</a><br>Synced 5 W&B file(s), 0 media file(s), 0 artifact file(s) and 0 other file(s)"
      ],
      "text/plain": [
       "<IPython.core.display.HTML object>"
      ]
     },
     "metadata": {},
     "output_type": "display_data"
    },
    {
     "data": {
      "text/html": [
       "Find logs at: <code>.\\wandb\\run-20250609_104901-mv741qxb\\logs</code>"
      ],
      "text/plain": [
       "<IPython.core.display.HTML object>"
      ]
     },
     "metadata": {},
     "output_type": "display_data"
    },
    {
     "name": "stderr",
     "output_type": "stream",
     "text": [
      "[I 2025-06-09 10:55:47,734] Trial 16 finished with value: 1.0013456344604492 and parameters: {'learning_rate': 2.3993824751261608e-05, 'per_device_train_batch_size': 2, 'gradient_accumulation_steps': 4}. Best is trial 8 with value: 0.6598436832427979.\n"
     ]
    },
    {
     "data": {
      "text/html": [
       "Tracking run with wandb version 0.19.11"
      ],
      "text/plain": [
       "<IPython.core.display.HTML object>"
      ]
     },
     "metadata": {},
     "output_type": "display_data"
    },
    {
     "data": {
      "text/html": [
       "Run data is saved locally in <code>c:\\Users\\Luis\\OneDrive\\Documentos\\Data Science\\LLM\\Fine Tuning\\wandb\\run-20250609_105547-8odxuqw0</code>"
      ],
      "text/plain": [
       "<IPython.core.display.HTML object>"
      ]
     },
     "metadata": {},
     "output_type": "display_data"
    },
    {
     "data": {
      "text/html": [
       "Syncing run <strong><a href='https://wandb.ai/luis-orellana777-sngular/model-qwen-finetuned-medical-reasoning/runs/8odxuqw0' target=\"_blank\">trial_17</a></strong> to <a href='https://wandb.ai/luis-orellana777-sngular/model-qwen-finetuned-medical-reasoning' target=\"_blank\">Weights & Biases</a> (<a href='https://wandb.me/developer-guide' target=\"_blank\">docs</a>)<br>"
      ],
      "text/plain": [
       "<IPython.core.display.HTML object>"
      ]
     },
     "metadata": {},
     "output_type": "display_data"
    },
    {
     "data": {
      "text/html": [
       " View project at <a href='https://wandb.ai/luis-orellana777-sngular/model-qwen-finetuned-medical-reasoning' target=\"_blank\">https://wandb.ai/luis-orellana777-sngular/model-qwen-finetuned-medical-reasoning</a>"
      ],
      "text/plain": [
       "<IPython.core.display.HTML object>"
      ]
     },
     "metadata": {},
     "output_type": "display_data"
    },
    {
     "data": {
      "text/html": [
       " View run at <a href='https://wandb.ai/luis-orellana777-sngular/model-qwen-finetuned-medical-reasoning/runs/8odxuqw0' target=\"_blank\">https://wandb.ai/luis-orellana777-sngular/model-qwen-finetuned-medical-reasoning/runs/8odxuqw0</a>"
      ],
      "text/plain": [
       "<IPython.core.display.HTML object>"
      ]
     },
     "metadata": {},
     "output_type": "display_data"
    },
    {
     "data": {
      "text/html": [
       "\n",
       "    <div>\n",
       "      \n",
       "      <progress value='175' max='175' style='width:300px; height:20px; vertical-align: middle;'></progress>\n",
       "      [175/175 04:36, Epoch 4/5]\n",
       "    </div>\n",
       "    <table border=\"1\" class=\"dataframe\">\n",
       "  <thead>\n",
       " <tr style=\"text-align: left;\">\n",
       "      <th>Step</th>\n",
       "      <th>Training Loss</th>\n",
       "    </tr>\n",
       "  </thead>\n",
       "  <tbody>\n",
       "    <tr>\n",
       "      <td>50</td>\n",
       "      <td>0.173400</td>\n",
       "    </tr>\n",
       "    <tr>\n",
       "      <td>100</td>\n",
       "      <td>0.164700</td>\n",
       "    </tr>\n",
       "    <tr>\n",
       "      <td>150</td>\n",
       "      <td>0.161200</td>\n",
       "    </tr>\n",
       "  </tbody>\n",
       "</table><p>"
      ],
      "text/plain": [
       "<IPython.core.display.HTML object>"
      ]
     },
     "metadata": {},
     "output_type": "display_data"
    },
    {
     "data": {
      "text/html": [
       "\n",
       "    <div>\n",
       "      \n",
       "      <progress value='16' max='16' style='width:300px; height:20px; vertical-align: middle;'></progress>\n",
       "      [16/16 00:01]\n",
       "    </div>\n",
       "    "
      ],
      "text/plain": [
       "<IPython.core.display.HTML object>"
      ]
     },
     "metadata": {},
     "output_type": "display_data"
    },
    {
     "name": "stderr",
     "output_type": "stream",
     "text": [
      "\u001b[34m\u001b[1mwandb\u001b[0m: \u001b[32m\u001b[41mERROR\u001b[0m The nbformat package was not found. It is required to save notebook history.\n"
     ]
    },
    {
     "data": {
      "text/html": [],
      "text/plain": [
       "<IPython.core.display.HTML object>"
      ]
     },
     "metadata": {},
     "output_type": "display_data"
    },
    {
     "data": {
      "text/html": [
       "<br>    <style><br>        .wandb-row {<br>            display: flex;<br>            flex-direction: row;<br>            flex-wrap: wrap;<br>            justify-content: flex-start;<br>            width: 100%;<br>        }<br>        .wandb-col {<br>            display: flex;<br>            flex-direction: column;<br>            flex-basis: 100%;<br>            flex: 1;<br>            padding: 10px;<br>        }<br>    </style><br><div class=\"wandb-row\"><div class=\"wandb-col\"><h3>Run history:</h3><br/><table class=\"wandb\"><tr><td>eval/loss</td><td>▁</td></tr><tr><td>eval/runtime</td><td>▁</td></tr><tr><td>eval/samples_per_second</td><td>▁</td></tr><tr><td>eval/steps_per_second</td><td>▁</td></tr><tr><td>train/epoch</td><td>▁▄▇██</td></tr><tr><td>train/global_step</td><td>▁▄▇██</td></tr><tr><td>train/grad_norm</td><td>▁▇█</td></tr><tr><td>train/learning_rate</td><td>▁▅█</td></tr><tr><td>train/loss</td><td>█▃▁</td></tr></table><br/></div><div class=\"wandb-col\"><h3>Run summary:</h3><br/><table class=\"wandb\"><tr><td>eval/loss</td><td>1.02647</td></tr><tr><td>eval/runtime</td><td>1.6535</td></tr><tr><td>eval/samples_per_second</td><td>75.597</td></tr><tr><td>eval/steps_per_second</td><td>9.676</td></tr><tr><td>total_flos</td><td>2.6044658557648896e+16</td></tr><tr><td>train/epoch</td><td>4.87943</td></tr><tr><td>train/global_step</td><td>175</td></tr><tr><td>train/grad_norm</td><td>0.99609</td></tr><tr><td>train/learning_rate</td><td>1e-05</td></tr><tr><td>train/loss</td><td>0.1612</td></tr><tr><td>train_loss</td><td>0.16574</td></tr><tr><td>train_runtime</td><td>277.5902</td></tr><tr><td>train_samples_per_second</td><td>20.264</td></tr><tr><td>train_steps_per_second</td><td>0.63</td></tr></table><br/></div></div>"
      ],
      "text/plain": [
       "<IPython.core.display.HTML object>"
      ]
     },
     "metadata": {},
     "output_type": "display_data"
    },
    {
     "data": {
      "text/html": [
       " View run <strong style=\"color:#cdcd00\">trial_17</strong> at: <a href='https://wandb.ai/luis-orellana777-sngular/model-qwen-finetuned-medical-reasoning/runs/8odxuqw0' target=\"_blank\">https://wandb.ai/luis-orellana777-sngular/model-qwen-finetuned-medical-reasoning/runs/8odxuqw0</a><br> View project at: <a href='https://wandb.ai/luis-orellana777-sngular/model-qwen-finetuned-medical-reasoning' target=\"_blank\">https://wandb.ai/luis-orellana777-sngular/model-qwen-finetuned-medical-reasoning</a><br>Synced 5 W&B file(s), 0 media file(s), 0 artifact file(s) and 0 other file(s)"
      ],
      "text/plain": [
       "<IPython.core.display.HTML object>"
      ]
     },
     "metadata": {},
     "output_type": "display_data"
    },
    {
     "data": {
      "text/html": [
       "Find logs at: <code>.\\wandb\\run-20250609_105547-8odxuqw0\\logs</code>"
      ],
      "text/plain": [
       "<IPython.core.display.HTML object>"
      ]
     },
     "metadata": {},
     "output_type": "display_data"
    },
    {
     "name": "stderr",
     "output_type": "stream",
     "text": [
      "[I 2025-06-09 11:00:28,531] Trial 17 finished with value: 1.0264668464660645 and parameters: {'learning_rate': 1.710104295980148e-05, 'per_device_train_batch_size': 8, 'gradient_accumulation_steps': 4}. Best is trial 8 with value: 0.6598436832427979.\n"
     ]
    },
    {
     "data": {
      "text/html": [
       "Tracking run with wandb version 0.19.11"
      ],
      "text/plain": [
       "<IPython.core.display.HTML object>"
      ]
     },
     "metadata": {},
     "output_type": "display_data"
    },
    {
     "data": {
      "text/html": [
       "Run data is saved locally in <code>c:\\Users\\Luis\\OneDrive\\Documentos\\Data Science\\LLM\\Fine Tuning\\wandb\\run-20250609_110028-p1th71x2</code>"
      ],
      "text/plain": [
       "<IPython.core.display.HTML object>"
      ]
     },
     "metadata": {},
     "output_type": "display_data"
    },
    {
     "data": {
      "text/html": [
       "Syncing run <strong><a href='https://wandb.ai/luis-orellana777-sngular/model-qwen-finetuned-medical-reasoning/runs/p1th71x2' target=\"_blank\">trial_18</a></strong> to <a href='https://wandb.ai/luis-orellana777-sngular/model-qwen-finetuned-medical-reasoning' target=\"_blank\">Weights & Biases</a> (<a href='https://wandb.me/developer-guide' target=\"_blank\">docs</a>)<br>"
      ],
      "text/plain": [
       "<IPython.core.display.HTML object>"
      ]
     },
     "metadata": {},
     "output_type": "display_data"
    },
    {
     "data": {
      "text/html": [
       " View project at <a href='https://wandb.ai/luis-orellana777-sngular/model-qwen-finetuned-medical-reasoning' target=\"_blank\">https://wandb.ai/luis-orellana777-sngular/model-qwen-finetuned-medical-reasoning</a>"
      ],
      "text/plain": [
       "<IPython.core.display.HTML object>"
      ]
     },
     "metadata": {},
     "output_type": "display_data"
    },
    {
     "data": {
      "text/html": [
       " View run at <a href='https://wandb.ai/luis-orellana777-sngular/model-qwen-finetuned-medical-reasoning/runs/p1th71x2' target=\"_blank\">https://wandb.ai/luis-orellana777-sngular/model-qwen-finetuned-medical-reasoning/runs/p1th71x2</a>"
      ],
      "text/plain": [
       "<IPython.core.display.HTML object>"
      ]
     },
     "metadata": {},
     "output_type": "display_data"
    },
    {
     "data": {
      "text/html": [
       "\n",
       "    <div>\n",
       "      \n",
       "      <progress value='175' max='175' style='width:300px; height:20px; vertical-align: middle;'></progress>\n",
       "      [175/175 05:15, Epoch 4/5]\n",
       "    </div>\n",
       "    <table border=\"1\" class=\"dataframe\">\n",
       "  <thead>\n",
       " <tr style=\"text-align: left;\">\n",
       "      <th>Step</th>\n",
       "      <th>Training Loss</th>\n",
       "    </tr>\n",
       "  </thead>\n",
       "  <tbody>\n",
       "    <tr>\n",
       "      <td>50</td>\n",
       "      <td>0.158900</td>\n",
       "    </tr>\n",
       "    <tr>\n",
       "      <td>100</td>\n",
       "      <td>0.151300</td>\n",
       "    </tr>\n",
       "    <tr>\n",
       "      <td>150</td>\n",
       "      <td>0.148800</td>\n",
       "    </tr>\n",
       "  </tbody>\n",
       "</table><p>"
      ],
      "text/plain": [
       "<IPython.core.display.HTML object>"
      ]
     },
     "metadata": {},
     "output_type": "display_data"
    },
    {
     "data": {
      "text/html": [
       "\n",
       "    <div>\n",
       "      \n",
       "      <progress value='32' max='32' style='width:300px; height:20px; vertical-align: middle;'></progress>\n",
       "      [32/32 00:01]\n",
       "    </div>\n",
       "    "
      ],
      "text/plain": [
       "<IPython.core.display.HTML object>"
      ]
     },
     "metadata": {},
     "output_type": "display_data"
    },
    {
     "name": "stderr",
     "output_type": "stream",
     "text": [
      "\u001b[34m\u001b[1mwandb\u001b[0m: \u001b[32m\u001b[41mERROR\u001b[0m The nbformat package was not found. It is required to save notebook history.\n"
     ]
    },
    {
     "data": {
      "text/html": [],
      "text/plain": [
       "<IPython.core.display.HTML object>"
      ]
     },
     "metadata": {},
     "output_type": "display_data"
    },
    {
     "data": {
      "text/html": [
       "<br>    <style><br>        .wandb-row {<br>            display: flex;<br>            flex-direction: row;<br>            flex-wrap: wrap;<br>            justify-content: flex-start;<br>            width: 100%;<br>        }<br>        .wandb-col {<br>            display: flex;<br>            flex-direction: column;<br>            flex-basis: 100%;<br>            flex: 1;<br>            padding: 10px;<br>        }<br>    </style><br><div class=\"wandb-row\"><div class=\"wandb-col\"><h3>Run history:</h3><br/><table class=\"wandb\"><tr><td>eval/loss</td><td>▁</td></tr><tr><td>eval/runtime</td><td>▁</td></tr><tr><td>eval/samples_per_second</td><td>▁</td></tr><tr><td>eval/steps_per_second</td><td>▁</td></tr><tr><td>train/epoch</td><td>▁▄▇██</td></tr><tr><td>train/global_step</td><td>▁▄▇██</td></tr><tr><td>train/grad_norm</td><td>█▅▁</td></tr><tr><td>train/learning_rate</td><td>▁▄█</td></tr><tr><td>train/loss</td><td>█▃▁</td></tr></table><br/></div><div class=\"wandb-col\"><h3>Run summary:</h3><br/><table class=\"wandb\"><tr><td>eval/loss</td><td>1.05497</td></tr><tr><td>eval/runtime</td><td>1.8509</td></tr><tr><td>eval/samples_per_second</td><td>67.535</td></tr><tr><td>eval/steps_per_second</td><td>17.289</td></tr><tr><td>total_flos</td><td>2.6044658557648896e+16</td></tr><tr><td>train/epoch</td><td>4.87943</td></tr><tr><td>train/global_step</td><td>175</td></tr><tr><td>train/grad_norm</td><td>0.94141</td></tr><tr><td>train/learning_rate</td><td>1e-05</td></tr><tr><td>train/loss</td><td>0.1488</td></tr><tr><td>train_loss</td><td>0.15279</td></tr><tr><td>train_runtime</td><td>317.5723</td></tr><tr><td>train_samples_per_second</td><td>17.713</td></tr><tr><td>train_steps_per_second</td><td>0.551</td></tr></table><br/></div></div>"
      ],
      "text/plain": [
       "<IPython.core.display.HTML object>"
      ]
     },
     "metadata": {},
     "output_type": "display_data"
    },
    {
     "data": {
      "text/html": [
       " View run <strong style=\"color:#cdcd00\">trial_18</strong> at: <a href='https://wandb.ai/luis-orellana777-sngular/model-qwen-finetuned-medical-reasoning/runs/p1th71x2' target=\"_blank\">https://wandb.ai/luis-orellana777-sngular/model-qwen-finetuned-medical-reasoning/runs/p1th71x2</a><br> View project at: <a href='https://wandb.ai/luis-orellana777-sngular/model-qwen-finetuned-medical-reasoning' target=\"_blank\">https://wandb.ai/luis-orellana777-sngular/model-qwen-finetuned-medical-reasoning</a><br>Synced 5 W&B file(s), 0 media file(s), 0 artifact file(s) and 0 other file(s)"
      ],
      "text/plain": [
       "<IPython.core.display.HTML object>"
      ]
     },
     "metadata": {},
     "output_type": "display_data"
    },
    {
     "data": {
      "text/html": [
       "Find logs at: <code>.\\wandb\\run-20250609_110028-p1th71x2\\logs</code>"
      ],
      "text/plain": [
       "<IPython.core.display.HTML object>"
      ]
     },
     "metadata": {},
     "output_type": "display_data"
    },
    {
     "name": "stderr",
     "output_type": "stream",
     "text": [
      "[I 2025-06-09 11:05:49,594] Trial 18 finished with value: 1.0549684762954712 and parameters: {'learning_rate': 1.2145389528972164e-05, 'per_device_train_batch_size': 4, 'gradient_accumulation_steps': 8}. Best is trial 8 with value: 0.6598436832427979.\n"
     ]
    },
    {
     "data": {
      "text/html": [
       "Tracking run with wandb version 0.19.11"
      ],
      "text/plain": [
       "<IPython.core.display.HTML object>"
      ]
     },
     "metadata": {},
     "output_type": "display_data"
    },
    {
     "data": {
      "text/html": [
       "Run data is saved locally in <code>c:\\Users\\Luis\\OneDrive\\Documentos\\Data Science\\LLM\\Fine Tuning\\wandb\\run-20250609_110549-9hoztdp1</code>"
      ],
      "text/plain": [
       "<IPython.core.display.HTML object>"
      ]
     },
     "metadata": {},
     "output_type": "display_data"
    },
    {
     "data": {
      "text/html": [
       "Syncing run <strong><a href='https://wandb.ai/luis-orellana777-sngular/model-qwen-finetuned-medical-reasoning/runs/9hoztdp1' target=\"_blank\">trial_19</a></strong> to <a href='https://wandb.ai/luis-orellana777-sngular/model-qwen-finetuned-medical-reasoning' target=\"_blank\">Weights & Biases</a> (<a href='https://wandb.me/developer-guide' target=\"_blank\">docs</a>)<br>"
      ],
      "text/plain": [
       "<IPython.core.display.HTML object>"
      ]
     },
     "metadata": {},
     "output_type": "display_data"
    },
    {
     "data": {
      "text/html": [
       " View project at <a href='https://wandb.ai/luis-orellana777-sngular/model-qwen-finetuned-medical-reasoning' target=\"_blank\">https://wandb.ai/luis-orellana777-sngular/model-qwen-finetuned-medical-reasoning</a>"
      ],
      "text/plain": [
       "<IPython.core.display.HTML object>"
      ]
     },
     "metadata": {},
     "output_type": "display_data"
    },
    {
     "data": {
      "text/html": [
       " View run at <a href='https://wandb.ai/luis-orellana777-sngular/model-qwen-finetuned-medical-reasoning/runs/9hoztdp1' target=\"_blank\">https://wandb.ai/luis-orellana777-sngular/model-qwen-finetuned-medical-reasoning/runs/9hoztdp1</a>"
      ],
      "text/plain": [
       "<IPython.core.display.HTML object>"
      ]
     },
     "metadata": {},
     "output_type": "display_data"
    },
    {
     "data": {
      "text/html": [
       "\n",
       "    <div>\n",
       "      \n",
       "      <progress value='175' max='175' style='width:300px; height:20px; vertical-align: middle;'></progress>\n",
       "      [175/175 06:05, Epoch 4/5]\n",
       "    </div>\n",
       "    <table border=\"1\" class=\"dataframe\">\n",
       "  <thead>\n",
       " <tr style=\"text-align: left;\">\n",
       "      <th>Step</th>\n",
       "      <th>Training Loss</th>\n",
       "    </tr>\n",
       "  </thead>\n",
       "  <tbody>\n",
       "    <tr>\n",
       "      <td>50</td>\n",
       "      <td>0.152100</td>\n",
       "    </tr>\n",
       "    <tr>\n",
       "      <td>100</td>\n",
       "      <td>0.144400</td>\n",
       "    </tr>\n",
       "    <tr>\n",
       "      <td>150</td>\n",
       "      <td>0.138500</td>\n",
       "    </tr>\n",
       "  </tbody>\n",
       "</table><p>"
      ],
      "text/plain": [
       "<IPython.core.display.HTML object>"
      ]
     },
     "metadata": {},
     "output_type": "display_data"
    },
    {
     "data": {
      "text/html": [
       "\n",
       "    <div>\n",
       "      \n",
       "      <progress value='63' max='63' style='width:300px; height:20px; vertical-align: middle;'></progress>\n",
       "      [63/63 00:02]\n",
       "    </div>\n",
       "    "
      ],
      "text/plain": [
       "<IPython.core.display.HTML object>"
      ]
     },
     "metadata": {},
     "output_type": "display_data"
    },
    {
     "name": "stderr",
     "output_type": "stream",
     "text": [
      "\u001b[34m\u001b[1mwandb\u001b[0m: \u001b[32m\u001b[41mERROR\u001b[0m The nbformat package was not found. It is required to save notebook history.\n"
     ]
    },
    {
     "data": {
      "text/html": [],
      "text/plain": [
       "<IPython.core.display.HTML object>"
      ]
     },
     "metadata": {},
     "output_type": "display_data"
    },
    {
     "data": {
      "text/html": [
       "<br>    <style><br>        .wandb-row {<br>            display: flex;<br>            flex-direction: row;<br>            flex-wrap: wrap;<br>            justify-content: flex-start;<br>            width: 100%;<br>        }<br>        .wandb-col {<br>            display: flex;<br>            flex-direction: column;<br>            flex-basis: 100%;<br>            flex: 1;<br>            padding: 10px;<br>        }<br>    </style><br><div class=\"wandb-row\"><div class=\"wandb-col\"><h3>Run history:</h3><br/><table class=\"wandb\"><tr><td>eval/loss</td><td>▁</td></tr><tr><td>eval/runtime</td><td>▁</td></tr><tr><td>eval/samples_per_second</td><td>▁</td></tr><tr><td>eval/steps_per_second</td><td>▁</td></tr><tr><td>train/epoch</td><td>▁▄▇██</td></tr><tr><td>train/global_step</td><td>▁▄▇██</td></tr><tr><td>train/grad_norm</td><td>▁██</td></tr><tr><td>train/learning_rate</td><td>▁▄█</td></tr><tr><td>train/loss</td><td>█▄▁</td></tr></table><br/></div><div class=\"wandb-col\"><h3>Run summary:</h3><br/><table class=\"wandb\"><tr><td>eval/loss</td><td>1.09559</td></tr><tr><td>eval/runtime</td><td>2.0668</td></tr><tr><td>eval/samples_per_second</td><td>60.481</td></tr><tr><td>eval/steps_per_second</td><td>30.482</td></tr><tr><td>total_flos</td><td>2.6044658557648896e+16</td></tr><tr><td>train/epoch</td><td>4.88099</td></tr><tr><td>train/global_step</td><td>175</td></tr><tr><td>train/grad_norm</td><td>1</td></tr><tr><td>train/learning_rate</td><td>2e-05</td></tr><tr><td>train/loss</td><td>0.1385</td></tr><tr><td>train_loss</td><td>0.14356</td></tr><tr><td>train_runtime</td><td>367.5964</td></tr><tr><td>train_samples_per_second</td><td>15.302</td></tr><tr><td>train_steps_per_second</td><td>0.476</td></tr></table><br/></div></div>"
      ],
      "text/plain": [
       "<IPython.core.display.HTML object>"
      ]
     },
     "metadata": {},
     "output_type": "display_data"
    },
    {
     "data": {
      "text/html": [
       " View run <strong style=\"color:#cdcd00\">trial_19</strong> at: <a href='https://wandb.ai/luis-orellana777-sngular/model-qwen-finetuned-medical-reasoning/runs/9hoztdp1' target=\"_blank\">https://wandb.ai/luis-orellana777-sngular/model-qwen-finetuned-medical-reasoning/runs/9hoztdp1</a><br> View project at: <a href='https://wandb.ai/luis-orellana777-sngular/model-qwen-finetuned-medical-reasoning' target=\"_blank\">https://wandb.ai/luis-orellana777-sngular/model-qwen-finetuned-medical-reasoning</a><br>Synced 5 W&B file(s), 0 media file(s), 0 artifact file(s) and 0 other file(s)"
      ],
      "text/plain": [
       "<IPython.core.display.HTML object>"
      ]
     },
     "metadata": {},
     "output_type": "display_data"
    },
    {
     "data": {
      "text/html": [
       "Find logs at: <code>.\\wandb\\run-20250609_110549-9hoztdp1\\logs</code>"
      ],
      "text/plain": [
       "<IPython.core.display.HTML object>"
      ]
     },
     "metadata": {},
     "output_type": "display_data"
    },
    {
     "name": "stderr",
     "output_type": "stream",
     "text": [
      "[I 2025-06-09 11:12:00,913] Trial 19 finished with value: 1.0955885648727417 and parameters: {'learning_rate': 2.3904033239190128e-05, 'per_device_train_batch_size': 2, 'gradient_accumulation_steps': 16}. Best is trial 8 with value: 0.6598436832427979.\n"
     ]
    },
    {
     "name": "stdout",
     "output_type": "stream",
     "text": [
      "Best trial:\n",
      "FrozenTrial(number=8, state=TrialState.COMPLETE, values=[0.6598436832427979], datetime_start=datetime.datetime(2025, 6, 9, 10, 4, 12, 537942), datetime_complete=datetime.datetime(2025, 6, 9, 10, 8, 54, 450388), params={'learning_rate': 2.6563467269626478e-05, 'per_device_train_batch_size': 8, 'gradient_accumulation_steps': 4}, user_attrs={}, system_attrs={}, intermediate_values={}, distributions={'learning_rate': FloatDistribution(high=5e-05, log=True, low=1e-05, step=None), 'per_device_train_batch_size': CategoricalDistribution(choices=(2, 4, 8, 16)), 'gradient_accumulation_steps': CategoricalDistribution(choices=(4, 8, 16))}, trial_id=8, value=None)\n",
      "Best params:\n",
      "{'learning_rate': 2.6563467269626478e-05, 'per_device_train_batch_size': 8, 'gradient_accumulation_steps': 4}\n"
     ]
    }
   ],
   "source": [
    "# Run Optuna study\n",
    "study = optuna.create_study(direction=\"minimize\")  # minimize eval_loss\n",
    "study.optimize(optuna_objective, n_trials=20)\n",
    "\n",
    "print(\"Best trial:\")\n",
    "print(study.best_trial)\n",
    "print(\"Best params:\")\n",
    "print(study.best_params)"
   ]
  }
 ],
 "metadata": {
  "kernelspec": {
   "display_name": "LLM",
   "language": "python",
   "name": "python3"
  },
  "language_info": {
   "codemirror_mode": {
    "name": "ipython",
    "version": 3
   },
   "file_extension": ".py",
   "mimetype": "text/x-python",
   "name": "python",
   "nbconvert_exporter": "python",
   "pygments_lexer": "ipython3",
   "version": "3.10.16"
  }
 },
 "nbformat": 4,
 "nbformat_minor": 5
}
