{
 "cells": [
  {
   "cell_type": "code",
   "execution_count": 1,
   "id": "4b8e3d5b",
   "metadata": {},
   "outputs": [
    {
     "name": "stdout",
     "output_type": "stream",
     "text": [
      "[2025-06-04 18:31:00,476] [INFO] [real_accelerator.py:239:get_accelerator] Setting ds_accelerator to cuda (auto detect)\n"
     ]
    },
    {
     "name": "stderr",
     "output_type": "stream",
     "text": [
      "W0604 18:31:02.292000 27400 site-packages\\torch\\distributed\\elastic\\multiprocessing\\redirects.py:29] NOTE: Redirects are currently not supported in Windows or MacOs.\n"
     ]
    }
   ],
   "source": [
    "from transformers import AutoTokenizer\n",
    "from sklearn.feature_extraction.text import TfidfVectorizer\n",
    "from sklearn.cluster import KMeans\n",
    "from sklearn.metrics import pairwise_distances_argmin_min\n",
    "import pandas as pd\n",
    "import pandas as pd\n",
    "from datasets import Dataset, load_dataset, load_from_disk\n",
    "import optuna\n",
    "from transformers import AutoModelForCausalLM, TrainingArguments, Trainer\n",
    "import torch\n",
    "from transformers import AutoTokenizer\n",
    "import pandas as pd\n",
    "from datasets import Dataset, load_dataset, load_from_disk\n",
    "from transformers import AutoTokenizer"
   ]
  },
  {
   "cell_type": "code",
   "execution_count": 2,
   "id": "cc0934b2",
   "metadata": {},
   "outputs": [
    {
     "name": "stdout",
     "output_type": "stream",
     "text": [
      "                                            Question  \\\n",
      "0  What is the mechanism of analgesia in terms of...   \n",
      "1  Considering a 5-year-old boy who presents with...   \n",
      "2  A 70-year-old male presents with excessive fat...   \n",
      "3  A 3-year-old boy presents with intermittent ab...   \n",
      "4  A 57-year-old man presents with a painful, swo...   \n",
      "\n",
      "                                         Complex_CoT  \\\n",
      "0  Okay, so let’s think about how pain relief act...   \n",
      "1  Okay, so we have a little boy, just five years...   \n",
      "2  Okay, let's see what we've got here. There's a...   \n",
      "3  I'm looking at a 3-year-old boy who has abdomi...   \n",
      "4  So, a 57-year-old guy comes in with his big to...   \n",
      "\n",
      "                                            Response  \n",
      "0  Pain relief, or analgesia, involves various re...  \n",
      "1  Given the symptoms and the normal ultrasound r...  \n",
      "2  Based on the provided information, the agent c...  \n",
      "3  The symptoms and findings you describe in the ...  \n",
      "4  Based on the symptoms described—sudden onset o...  \n",
      "19679\n"
     ]
    }
   ],
   "source": [
    "dataset = load_dataset(\"FreedomIntelligence/medical-o1-reasoning-SFT\", 'en')\n",
    "dataset = dataset['train'].train_test_split(test_size=0.1)\n",
    "df = pd.concat([dataset['train'].to_pandas(), dataset['test'].to_pandas()], ignore_index=True)\n",
    "df = df.drop_duplicates(subset=['Question'])\n",
    "print(df.head())\n",
    "print(len(df))\n"
   ]
  },
  {
   "cell_type": "markdown",
   "id": "5097cbb7",
   "metadata": {},
   "source": [
    "## Creating clusters to obtain significant subset of dataset"
   ]
  },
  {
   "cell_type": "code",
   "execution_count": 3,
   "id": "eb8cdae2",
   "metadata": {},
   "outputs": [
    {
     "name": "stdout",
     "output_type": "stream",
     "text": [
      "                                   centroid_question\n",
      "0  A 50-year-old chronic smoker presents with his...\n",
      "1  67岁，男，呼吸急促3个月，请结合胸片选出最可能的诊断  (    )<br />[img=...\n",
      "2  A 42-year-old woman comes to the physician bec...\n",
      "3  A 24- year old man falls on the ground when he...\n",
      "4  A 55-year-old man presents with well-being sen...\n",
      "Number of unique centroid questions: 1250\n"
     ]
    }
   ],
   "source": [
    "# Prepare the text data\n",
    "texts = df[\"Question\"].astype(str).tolist()\n",
    "\n",
    "# TF-IDF vectorization\n",
    "vectorizer = TfidfVectorizer(max_features=1024)\n",
    "X = vectorizer.fit_transform(texts)\n",
    "\n",
    "# KMeans clustering\n",
    "n_clusters = 1968\n",
    "kmeans = KMeans(n_clusters=n_clusters, random_state=42, n_init=10)\n",
    "kmeans.fit(X)\n",
    "\n",
    "# For each cluster, find the question closest to the centroid\n",
    "closest, _ = pairwise_distances_argmin_min(kmeans.cluster_centers_, X)\n",
    "centroid_questions = [texts[i] for i in closest]\n",
    "\n",
    "# Remove duplicates to ensure no repeated questions\n",
    "unique_centroid_questions = list(dict.fromkeys(centroid_questions))\n",
    "\n",
    "# Create a DataFrame with the unique centroid questions\n",
    "centroids_df = pd.DataFrame({'centroid_question': unique_centroid_questions})\n",
    "print(centroids_df.head())\n",
    "print(f\"Number of unique centroid questions: {len(centroids_df)}\")"
   ]
  },
  {
   "cell_type": "code",
   "execution_count": 4,
   "id": "c599319d",
   "metadata": {},
   "outputs": [
    {
     "name": "stdout",
     "output_type": "stream",
     "text": [
      "                                            Question  \\\n",
      "0  A 50-year-old chronic smoker presents with his...   \n",
      "1  67岁，男，呼吸急促3个月，请结合胸片选出最可能的诊断  (    )<br />[img=...   \n",
      "2  A 42-year-old woman comes to the physician bec...   \n",
      "3  A 24- year old man falls on the ground when he...   \n",
      "4  A 55-year-old man presents with well-being sen...   \n",
      "\n",
      "                                            Response  \n",
      "0  Based on the scenario provided, the best optio...  \n",
      "1  Based on the information provided, the most li...  \n",
      "2  The clinical picture points toward Primary Bil...  \n",
      "3  In this scenario, the young man is exhibiting ...  \n",
      "4  Given the symptoms described, such as hyperten...  \n",
      "(1250, 2)\n"
     ]
    }
   ],
   "source": [
    "# Merge centroid questions with original df to get their corresponding responses\n",
    "centroids_with_responses = pd.merge(\n",
    "    centroids_df,\n",
    "    df[['Question', 'Response']],\n",
    "    left_on='centroid_question',\n",
    "    right_on='Question',\n",
    "    how='left'\n",
    ")[['Question', 'Response']]\n",
    "\n",
    "centroids_with_responses = centroids_with_responses.drop_duplicates(subset=['Question'])\n",
    "\n",
    "print(centroids_with_responses.head())\n",
    "print(centroids_with_responses.shape)"
   ]
  },
  {
   "cell_type": "code",
   "execution_count": 5,
   "id": "f9105181",
   "metadata": {},
   "outputs": [
    {
     "data": {
      "application/vnd.jupyter.widget-view+json": {
       "model_id": "9e13d728764249b69e5603dd5531be51",
       "version_major": 2,
       "version_minor": 0
      },
      "text/plain": [
       "Saving the dataset (0/1 shards):   0%|          | 0/1250 [00:00<?, ? examples/s]"
      ]
     },
     "metadata": {},
     "output_type": "display_data"
    }
   ],
   "source": [
    "# Convert DataFrame to Hugging Face Dataset\n",
    "centroids_dataset = Dataset.from_pandas(centroids_with_responses, preserve_index=False)\n",
    "\n",
    "# Save to disk (as Arrow format)\n",
    "centroids_dataset.save_to_disk(\"centroids_dataset\")"
   ]
  },
  {
   "cell_type": "code",
   "execution_count": 6,
   "id": "9173f36d",
   "metadata": {},
   "outputs": [
    {
     "name": "stdout",
     "output_type": "stream",
     "text": [
      "                                            Question  \\\n",
      "0  A 50-year-old chronic smoker presents with his...   \n",
      "1  67岁，男，呼吸急促3个月，请结合胸片选出最可能的诊断  (    )<br />[img=...   \n",
      "2  A 42-year-old woman comes to the physician bec...   \n",
      "3  A 24- year old man falls on the ground when he...   \n",
      "4  A 55-year-old man presents with well-being sen...   \n",
      "\n",
      "                                            Response  \n",
      "0  Based on the scenario provided, the best optio...  \n",
      "1  Based on the information provided, the most li...  \n",
      "2  The clinical picture points toward Primary Bil...  \n",
      "3  In this scenario, the young man is exhibiting ...  \n",
      "4  Given the symptoms described, such as hyperten...  \n",
      "(1250, 2)\n",
      "Dataset({\n",
      "    features: ['Question', 'Response'],\n",
      "    num_rows: 1250\n",
      "})\n"
     ]
    }
   ],
   "source": [
    "# To load it later:\n",
    "\n",
    "loaded_dataset = load_from_disk(\"centroids_dataset\")\n",
    "print(loaded_dataset.to_pandas().head())\n",
    "print(loaded_dataset.to_pandas().shape)\n",
    "print(loaded_dataset)"
   ]
  },
  {
   "cell_type": "code",
   "execution_count": 7,
   "id": "ac887296",
   "metadata": {},
   "outputs": [
    {
     "name": "stdout",
     "output_type": "stream",
     "text": [
      "1125\n",
      "125\n",
      "                                            Question  \\\n",
      "0  An 8-month old child presented with itchy, exu...   \n",
      "1  What is the best treatment approach for a 12-y...   \n",
      "2  In complete 3\\nrd \\nNerve palsy-a) Eye Deviate...   \n",
      "3  A 34-year-old woman presents with decreased ap...   \n",
      "4  A patient presents with malignant hypehermia a...   \n",
      "\n",
      "                                            Response  \n",
      "0  The best treatment choice for an 8-month-old c...  \n",
      "1  The best treatment approach for a 12-year-old ...  \n",
      "2  In the case of complete 3rd nerve palsy, the i...  \n",
      "3  Based on the symptoms you've described—decreas...  \n",
      "4  The immediate treatment for malignant hyperthe...  \n"
     ]
    }
   ],
   "source": [
    "loaded_dataset = loaded_dataset.train_test_split(test_size=0.1)\n",
    "print(len(loaded_dataset[\"train\"]))  # Number of rows in the train split\n",
    "print(len(loaded_dataset[\"test\"]))   # Number of rows in the test split (if exists)\n",
    "print(loaded_dataset[\"test\"].to_pandas().head())"
   ]
  },
  {
   "cell_type": "code",
   "execution_count": null,
   "id": "d3abea54",
   "metadata": {},
   "outputs": [],
   "source": [
    "model_name = \"mistralai/Mistral-7B-v0.1\"  # Base model, replace with your preferred Mistral version\n",
    "tokenizer = AutoTokenizer.from_pretrained(model_name)\n",
    "tokenizer.pad_token = tokenizer.eos_token  # Set padding token"
   ]
  },
  {
   "cell_type": "code",
   "execution_count": 9,
   "id": "738e7e38",
   "metadata": {},
   "outputs": [],
   "source": [
    "# Function to tokenize and format the data\n",
    "def preprocess_function(examples):\n",
    "    # Format: <s>[INST] {instruction} [/INST] {response}</s>\n",
    "    prompts = [f\"[INST] {question} [/INST]\" for question in examples['Question']]\n",
    "    responses = examples['Response']\n",
    "    \n",
    "    # Combine prompts and responses\n",
    "    texts = []\n",
    "    for prompt, response in zip(prompts, responses):\n",
    "        texts.append(f\"{prompt} {response}\")\n",
    "    \n",
    "    print(texts[:1])  # Print first 5 formatted texts for debugging\n",
    "    # Tokenize\n",
    "    tokenized = tokenizer(\n",
    "        texts,\n",
    "        truncation=True,\n",
    "        max_length=512,  # Adjust based on your needs\n",
    "        padding=\"max_length\",\n",
    "        return_tensors=\"pt\"\n",
    "    )\n",
    "    \n",
    "    # Prepare labels for the decoder (same as input_ids for causal language modeling)\n",
    "    tokenized[\"labels\"] = tokenized[\"input_ids\"].clone()\n",
    "    \n",
    "    return tokenized"
   ]
  },
  {
   "cell_type": "code",
   "execution_count": 10,
   "id": "d91de591",
   "metadata": {},
   "outputs": [
    {
     "data": {
      "application/vnd.jupyter.widget-view+json": {
       "model_id": "97269fb642d84cd89b37f5207b65bc62",
       "version_major": 2,
       "version_minor": 0
      },
      "text/plain": [
       "Map:   0%|          | 0/1125 [00:00<?, ? examples/s]"
      ]
     },
     "metadata": {},
     "output_type": "display_data"
    },
    {
     "name": "stdout",
     "output_type": "stream",
     "text": [
      "['[INST] What are the characteristics and associations of membranous glomerulonephritis? [/INST] Membranous glomerulonephritis, also known as membranous nephropathy, is a kidney disorder characterized by the thickening of the walls of the glomerular capillaries due to the deposition of immune complexes. It can be classified into primary and secondary types.\\n\\n**Primary Membranous Nephropathy:**\\n- The primary form is often idiopathic but has been linked to the presence of antibodies against the phospholipase A2 receptor (PLA2R) on podocytes. This immune response plays a pivotal role in disease pathogenesis. \\n\\n**Secondary Membranous Nephropathy:**\\n- Secondary membranous nephropathy is associated with other conditions, including:\\n  - Infections like hepatitis B and C.\\n  - Medications such as NSAIDs and penicillamine.\\n  - Certain cancers.\\n  - Autoimmune diseases, notably systemic lupus erythematosus.\\n\\n**Clinical Presentation:**\\n- The hallmark clinical presentation is nephrotic syndrome, which includes heavy proteinuria, hypoalbuminemia, hyperlipidemia, and edema. Some patients may present with asymptomatic proteinuria.\\n\\n**Pathology and Laboratory Findings:**\\n- Under the microscope, thickening of glomerular capillary walls is evident.\\n- Electron microscopy reveals subepithelial immune deposits, often described as a \"spike and dome\" pattern.\\n- Immunofluorescence typically shows deposits of IgG and complement component C3 along the capillary walls.\\n\\n**Complications:**\\n- Patients can experience thrombotic events due to loss of anticoagulant proteins and increased infection risks due to loss of immunoglobulins.\\n- Progression to chronic kidney disease or end-stage renal disease is a potential risk if untreated.\\n\\n**Pathophysiology:**\\n- In primary cases, the PLA2R antibody instigates an immune-mediated response leading to complement activation, particularly the membrane attack complex (C5b-9), contributing to podocyte injury and proteinuria.\\n\\n**Treatment:**\\n- Initial treatment often involves conservative measures aimed at reducing proteinuria, such as ACE inhibitors or ARBs.\\n- More severe cases may require immunosuppressive therapies, including corticosteroids and calcineurin inhibitors, to modulate the immune response.\\n\\nOverall, membranous glomerulonephritis represents a spectrum of disease with varying etiologies and clinical outcomes, necessitating tailored approaches to diagnosis and management.']\n",
      "['[INST] Postoperative vomiting is uncommon with this intravenous anaesthetic agent and patients are able to ambulate sooner than those who receive other anaesthetic agents:\\nA. Ketamine\\nB. Enflurane\\nC. Propofol\\nD. Remifentanil [/INST] The intravenous anesthetic agent that is least likely to cause postoperative vomiting and allows patients to ambulate sooner compared to others is Propofol (Option C). Propofol is well-known for its antiemetic properties, which help reduce the incidence of nausea and vomiting after surgery, and for enabling quicker recovery and mobilization of patients.']\n"
     ]
    },
    {
     "data": {
      "application/vnd.jupyter.widget-view+json": {
       "model_id": "89bd682284da41daa03644de130d7e33",
       "version_major": 2,
       "version_minor": 0
      },
      "text/plain": [
       "Map:   0%|          | 0/125 [00:00<?, ? examples/s]"
      ]
     },
     "metadata": {},
     "output_type": "display_data"
    },
    {
     "name": "stdout",
     "output_type": "stream",
     "text": [
      "['[INST] An 8-month old child presented with itchy, exudative lesions on the face, palms and soles. The siblings also have similar complaints. The treatment of choice is such a patient is:\\nA. Systemic ampicillin\\nB. Topical betamethasone\\nC. Systemic prednisolone\\nD. Topical permethrin [/INST] The best treatment choice for an 8-month-old child with itchy, exudative lesions on the face, palms, and soles, particularly when siblings are also affected, is D. Topical permethrin. This option targets scabies, a highly contagious skin condition caused by mites, which aligns with the symptoms and spread among family members.']\n"
     ]
    }
   ],
   "source": [
    "tokenized_dataset = loaded_dataset.map(\n",
    "    preprocess_function,\n",
    "    batched=True,\n",
    "    remove_columns=loaded_dataset[\"train\"].column_names,\n",
    ")"
   ]
  },
  {
   "cell_type": "code",
   "execution_count": 11,
   "id": "f334330d",
   "metadata": {},
   "outputs": [
    {
     "name": "stdout",
     "output_type": "stream",
     "text": [
      "                                           input_ids  \\\n",
      "0  [1, 733, 16289, 28793, 1824, 460, 272, 15559, ...   \n",
      "1  [2, 2, 2, 2, 2, 2, 2, 2, 2, 2, 2, 2, 2, 2, 2, ...   \n",
      "2  [2, 2, 2, 2, 2, 2, 2, 2, 2, 2, 2, 2, 2, 2, 2, ...   \n",
      "3  [2, 2, 2, 2, 2, 2, 2, 2, 2, 2, 2, 2, 2, 2, 2, ...   \n",
      "4  [2, 2, 2, 2, 2, 2, 2, 2, 2, 2, 2, 2, 2, 2, 2, ...   \n",
      "\n",
      "                                      attention_mask  \\\n",
      "0  [1, 1, 1, 1, 1, 1, 1, 1, 1, 1, 1, 1, 1, 1, 1, ...   \n",
      "1  [0, 0, 0, 0, 0, 0, 0, 0, 0, 0, 0, 0, 0, 0, 0, ...   \n",
      "2  [0, 0, 0, 0, 0, 0, 0, 0, 0, 0, 0, 0, 0, 0, 0, ...   \n",
      "3  [0, 0, 0, 0, 0, 0, 0, 0, 0, 0, 0, 0, 0, 0, 0, ...   \n",
      "4  [0, 0, 0, 0, 0, 0, 0, 0, 0, 0, 0, 0, 0, 0, 0, ...   \n",
      "\n",
      "                                              labels  \n",
      "0  [1, 733, 16289, 28793, 1824, 460, 272, 15559, ...  \n",
      "1  [2, 2, 2, 2, 2, 2, 2, 2, 2, 2, 2, 2, 2, 2, 2, ...  \n",
      "2  [2, 2, 2, 2, 2, 2, 2, 2, 2, 2, 2, 2, 2, 2, 2, ...  \n",
      "3  [2, 2, 2, 2, 2, 2, 2, 2, 2, 2, 2, 2, 2, 2, 2, ...  \n",
      "4  [2, 2, 2, 2, 2, 2, 2, 2, 2, 2, 2, 2, 2, 2, 2, ...  \n"
     ]
    }
   ],
   "source": [
    "print(tokenized_dataset[\"train\"].to_pandas().head())"
   ]
  },
  {
   "cell_type": "code",
   "execution_count": 12,
   "id": "29f70bf0",
   "metadata": {},
   "outputs": [
    {
     "data": {
      "application/vnd.jupyter.widget-view+json": {
       "model_id": "3fc7b80a827d4e32889b91023a9c59f8",
       "version_major": 2,
       "version_minor": 0
      },
      "text/plain": [
       "Loading checkpoint shards:   0%|          | 0/2 [00:00<?, ?it/s]"
      ]
     },
     "metadata": {},
     "output_type": "display_data"
    }
   ],
   "source": [
    "model = AutoModelForCausalLM.from_pretrained(\n",
    "    model_name,\n",
    "    torch_dtype=torch.bfloat16,\n",
    "    device_map=\"auto\",  # Automatically distribute across available GPUs\n",
    ")"
   ]
  },
  {
   "cell_type": "code",
   "execution_count": 13,
   "id": "e4940f66",
   "metadata": {},
   "outputs": [],
   "source": [
    "def try_import_wandb():\n",
    "    try:\n",
    "        import wandb\n",
    "        return True\n",
    "    except ImportError:\n",
    "        return False"
   ]
  },
  {
   "cell_type": "code",
   "execution_count": 14,
   "id": "10230752",
   "metadata": {},
   "outputs": [],
   "source": [
    "def optuna_objective(trial):\n",
    "    # Suggest hyperparameters\n",
    "    learning_rate = trial.suggest_float(\"learning_rate\", 1e-5, 5e-5, log=True)\n",
    "    per_device_train_batch_size = trial.suggest_categorical(\"per_device_train_batch_size\", [2, 4, 8])\n",
    "    num_train_epochs = trial.suggest_int(\"num_train_epochs\", 1, 4)\n",
    "    gradient_accumulation_steps = trial.suggest_categorical(\"gradient_accumulation_steps\", [4, 8, 16])\n",
    "\n",
    "    training_args = TrainingArguments(\n",
    "        output_dir=\"./mistral-finetuned\",\n",
    "        run_name=f\"trial_{trial.number}\",\n",
    "        overwrite_output_dir=True,\n",
    "        num_train_epochs=num_train_epochs,\n",
    "        per_device_train_batch_size=per_device_train_batch_size,\n",
    "        per_device_eval_batch_size=per_device_train_batch_size,\n",
    "        gradient_accumulation_steps=gradient_accumulation_steps,\n",
    "        save_steps=1000,\n",
    "        save_total_limit=1,\n",
    "        eval_steps=500,\n",
    "        logging_dir=\"./logs\",\n",
    "        logging_steps=50,\n",
    "        learning_rate=learning_rate,\n",
    "        weight_decay=0.01,\n",
    "        warmup_steps=200,\n",
    "        lr_scheduler_type=\"cosine\",\n",
    "        report_to=\"wandb\" if try_import_wandb() else \"none\",\n",
    "        fp16=False,\n",
    "        bf16=True,\n",
    "        gradient_checkpointing=True,\n",
    "    )\n",
    "\n",
    "    trainer = Trainer(\n",
    "        model=model,\n",
    "        args=training_args,\n",
    "        train_dataset=tokenized_dataset[\"train\"],\n",
    "        eval_dataset=tokenized_dataset[\"test\"],\n",
    "    )\n",
    "\n",
    "    trainer.train()\n",
    "    eval_metrics = trainer.evaluate()\n",
    "    return eval_metrics[\"eval_loss\"]  # or use another metric, e.g., \"eval_accuracy\"\n"
   ]
  },
  {
   "cell_type": "code",
   "execution_count": 15,
   "id": "8310bcb2",
   "metadata": {},
   "outputs": [
    {
     "name": "stderr",
     "output_type": "stream",
     "text": [
      "[I 2025-06-04 18:34:15,030] A new study created in memory with name: no-name-78836935-4480-415f-9f09-1a2c000d57ce\n",
      "\u001b[34m\u001b[1mwandb\u001b[0m: Currently logged in as: \u001b[33mluis-orellana777\u001b[0m (\u001b[33mluis-orellana777-sngular\u001b[0m) to \u001b[32mhttps://api.wandb.ai\u001b[0m. Use \u001b[1m`wandb login --relogin`\u001b[0m to force relogin\n"
     ]
    },
    {
     "data": {
      "text/html": [
       "Tracking run with wandb version 0.19.11"
      ],
      "text/plain": [
       "<IPython.core.display.HTML object>"
      ]
     },
     "metadata": {},
     "output_type": "display_data"
    },
    {
     "data": {
      "text/html": [
       "Run data is saved locally in <code>c:\\Users\\Luis\\OneDrive\\Documentos\\Data Science\\LLM\\Fine Tuning\\wandb\\run-20250604_183418-y324js1l</code>"
      ],
      "text/plain": [
       "<IPython.core.display.HTML object>"
      ]
     },
     "metadata": {},
     "output_type": "display_data"
    },
    {
     "data": {
      "text/html": [
       "Syncing run <strong><a href='https://wandb.ai/luis-orellana777-sngular/huggingface/runs/y324js1l' target=\"_blank\">trial_0</a></strong> to <a href='https://wandb.ai/luis-orellana777-sngular/huggingface' target=\"_blank\">Weights & Biases</a> (<a href='https://wandb.me/developer-guide' target=\"_blank\">docs</a>)<br>"
      ],
      "text/plain": [
       "<IPython.core.display.HTML object>"
      ]
     },
     "metadata": {},
     "output_type": "display_data"
    },
    {
     "data": {
      "text/html": [
       " View project at <a href='https://wandb.ai/luis-orellana777-sngular/huggingface' target=\"_blank\">https://wandb.ai/luis-orellana777-sngular/huggingface</a>"
      ],
      "text/plain": [
       "<IPython.core.display.HTML object>"
      ]
     },
     "metadata": {},
     "output_type": "display_data"
    },
    {
     "data": {
      "text/html": [
       " View run at <a href='https://wandb.ai/luis-orellana777-sngular/huggingface/runs/y324js1l' target=\"_blank\">https://wandb.ai/luis-orellana777-sngular/huggingface/runs/y324js1l</a>"
      ],
      "text/plain": [
       "<IPython.core.display.HTML object>"
      ]
     },
     "metadata": {},
     "output_type": "display_data"
    },
    {
     "name": "stderr",
     "output_type": "stream",
     "text": [
      "`use_cache=True` is incompatible with gradient checkpointing. Setting `use_cache=False`.\n"
     ]
    },
    {
     "data": {
      "text/html": [
       "\n",
       "    <div>\n",
       "      \n",
       "      <progress value='35' max='35' style='width:300px; height:20px; vertical-align: middle;'></progress>\n",
       "      [35/35 1:46:04, Epoch 0/1]\n",
       "    </div>\n",
       "    <table border=\"1\" class=\"dataframe\">\n",
       "  <thead>\n",
       " <tr style=\"text-align: left;\">\n",
       "      <th>Step</th>\n",
       "      <th>Training Loss</th>\n",
       "    </tr>\n",
       "  </thead>\n",
       "  <tbody>\n",
       "  </tbody>\n",
       "</table><p>"
      ],
      "text/plain": [
       "<IPython.core.display.HTML object>"
      ]
     },
     "metadata": {},
     "output_type": "display_data"
    },
    {
     "data": {
      "text/html": [
       "\n",
       "    <div>\n",
       "      \n",
       "      <progress value='32' max='32' style='width:300px; height:20px; vertical-align: middle;'></progress>\n",
       "      [32/32 01:45]\n",
       "    </div>\n",
       "    "
      ],
      "text/plain": [
       "<IPython.core.display.HTML object>"
      ]
     },
     "metadata": {},
     "output_type": "display_data"
    },
    {
     "name": "stderr",
     "output_type": "stream",
     "text": [
      "[I 2025-06-04 20:22:31,247] Trial 0 finished with value: 0.4569173753261566 and parameters: {'learning_rate': 1.3566154061739588e-05, 'per_device_train_batch_size': 4, 'num_train_epochs': 1, 'gradient_accumulation_steps': 8}. Best is trial 0 with value: 0.4569173753261566.\n"
     ]
    },
    {
     "data": {
      "text/html": [
       "\n",
       "    <div>\n",
       "      \n",
       "      <progress value='280' max='280' style='width:300px; height:20px; vertical-align: middle;'></progress>\n",
       "      [280/280 3:34:40, Epoch 3/4]\n",
       "    </div>\n",
       "    <table border=\"1\" class=\"dataframe\">\n",
       "  <thead>\n",
       " <tr style=\"text-align: left;\">\n",
       "      <th>Step</th>\n",
       "      <th>Training Loss</th>\n",
       "    </tr>\n",
       "  </thead>\n",
       "  <tbody>\n",
       "    <tr>\n",
       "      <td>50</td>\n",
       "      <td>0.448300</td>\n",
       "    </tr>\n",
       "    <tr>\n",
       "      <td>100</td>\n",
       "      <td>0.445400</td>\n",
       "    </tr>\n",
       "    <tr>\n",
       "      <td>150</td>\n",
       "      <td>1.114500</td>\n",
       "    </tr>\n",
       "    <tr>\n",
       "      <td>200</td>\n",
       "      <td>0.417300</td>\n",
       "    </tr>\n",
       "    <tr>\n",
       "      <td>250</td>\n",
       "      <td>0.329400</td>\n",
       "    </tr>\n",
       "  </tbody>\n",
       "</table><p>"
      ],
      "text/plain": [
       "<IPython.core.display.HTML object>"
      ]
     },
     "metadata": {},
     "output_type": "display_data"
    },
    {
     "data": {
      "text/html": [
       "\n",
       "    <div>\n",
       "      \n",
       "      <progress value='63' max='63' style='width:300px; height:20px; vertical-align: middle;'></progress>\n",
       "      [63/63 00:15]\n",
       "    </div>\n",
       "    "
      ],
      "text/plain": [
       "<IPython.core.display.HTML object>"
      ]
     },
     "metadata": {},
     "output_type": "display_data"
    },
    {
     "name": "stderr",
     "output_type": "stream",
     "text": [
      "[I 2025-06-04 23:57:45,978] Trial 1 finished with value: 0.7304840087890625 and parameters: {'learning_rate': 3.916497160837578e-05, 'per_device_train_batch_size': 2, 'num_train_epochs': 4, 'gradient_accumulation_steps': 8}. Best is trial 0 with value: 0.4569173753261566.\n"
     ]
    },
    {
     "data": {
      "text/html": [
       "\n",
       "    <div>\n",
       "      \n",
       "      <progress value='140' max='140' style='width:300px; height:20px; vertical-align: middle;'></progress>\n",
       "      [140/140 1:15:48, Epoch 1/2]\n",
       "    </div>\n",
       "    <table border=\"1\" class=\"dataframe\">\n",
       "  <thead>\n",
       " <tr style=\"text-align: left;\">\n",
       "      <th>Step</th>\n",
       "      <th>Training Loss</th>\n",
       "    </tr>\n",
       "  </thead>\n",
       "  <tbody>\n",
       "    <tr>\n",
       "      <td>50</td>\n",
       "      <td>0.112200</td>\n",
       "    </tr>\n",
       "    <tr>\n",
       "      <td>100</td>\n",
       "      <td>0.074400</td>\n",
       "    </tr>\n",
       "  </tbody>\n",
       "</table><p>"
      ],
      "text/plain": [
       "<IPython.core.display.HTML object>"
      ]
     },
     "metadata": {},
     "output_type": "display_data"
    },
    {
     "data": {
      "text/html": [
       "\n",
       "    <div>\n",
       "      \n",
       "      <progress value='63' max='63' style='width:300px; height:20px; vertical-align: middle;'></progress>\n",
       "      [63/63 00:11]\n",
       "    </div>\n",
       "    "
      ],
      "text/plain": [
       "<IPython.core.display.HTML object>"
      ]
     },
     "metadata": {},
     "output_type": "display_data"
    },
    {
     "name": "stderr",
     "output_type": "stream",
     "text": [
      "[I 2025-06-05 01:14:01,867] Trial 2 finished with value: 0.8262360095977783 and parameters: {'learning_rate': 2.7159692869018187e-05, 'per_device_train_batch_size': 2, 'num_train_epochs': 2, 'gradient_accumulation_steps': 8}. Best is trial 0 with value: 0.4569173753261566.\n"
     ]
    },
    {
     "data": {
      "text/html": [
       "\n",
       "    <div>\n",
       "      \n",
       "      <progress value='210' max='210' style='width:300px; height:20px; vertical-align: middle;'></progress>\n",
       "      [210/210 1:53:42, Epoch 2/3]\n",
       "    </div>\n",
       "    <table border=\"1\" class=\"dataframe\">\n",
       "  <thead>\n",
       " <tr style=\"text-align: left;\">\n",
       "      <th>Step</th>\n",
       "      <th>Training Loss</th>\n",
       "    </tr>\n",
       "  </thead>\n",
       "  <tbody>\n",
       "    <tr>\n",
       "      <td>50</td>\n",
       "      <td>0.054700</td>\n",
       "    </tr>\n",
       "    <tr>\n",
       "      <td>100</td>\n",
       "      <td>0.036300</td>\n",
       "    </tr>\n",
       "    <tr>\n",
       "      <td>150</td>\n",
       "      <td>0.061500</td>\n",
       "    </tr>\n",
       "    <tr>\n",
       "      <td>200</td>\n",
       "      <td>0.100700</td>\n",
       "    </tr>\n",
       "  </tbody>\n",
       "</table><p>"
      ],
      "text/plain": [
       "<IPython.core.display.HTML object>"
      ]
     },
     "metadata": {},
     "output_type": "display_data"
    },
    {
     "data": {
      "text/html": [
       "\n",
       "    <div>\n",
       "      \n",
       "      <progress value='63' max='63' style='width:300px; height:20px; vertical-align: middle;'></progress>\n",
       "      [63/63 00:09]\n",
       "    </div>\n",
       "    "
      ],
      "text/plain": [
       "<IPython.core.display.HTML object>"
      ]
     },
     "metadata": {},
     "output_type": "display_data"
    },
    {
     "name": "stderr",
     "output_type": "stream",
     "text": [
      "[I 2025-06-05 03:08:07,497] Trial 3 finished with value: 0.929008960723877 and parameters: {'learning_rate': 3.430945494474088e-05, 'per_device_train_batch_size': 2, 'num_train_epochs': 3, 'gradient_accumulation_steps': 8}. Best is trial 0 with value: 0.4569173753261566.\n"
     ]
    },
    {
     "data": {
      "text/html": [
       "\n",
       "    <div>\n",
       "      \n",
       "      <progress value='32' max='32' style='width:300px; height:20px; vertical-align: middle;'></progress>\n",
       "      [32/32 6:03:49, Epoch 3/4]\n",
       "    </div>\n",
       "    <table border=\"1\" class=\"dataframe\">\n",
       "  <thead>\n",
       " <tr style=\"text-align: left;\">\n",
       "      <th>Step</th>\n",
       "      <th>Training Loss</th>\n",
       "    </tr>\n",
       "  </thead>\n",
       "  <tbody>\n",
       "  </tbody>\n",
       "</table><p>"
      ],
      "text/plain": [
       "<IPython.core.display.HTML object>"
      ]
     },
     "metadata": {},
     "output_type": "display_data"
    },
    {
     "data": {
      "text/html": [
       "\n",
       "    <div>\n",
       "      \n",
       "      <progress value='16' max='16' style='width:300px; height:20px; vertical-align: middle;'></progress>\n",
       "      [16/16 05:25]\n",
       "    </div>\n",
       "    "
      ],
      "text/plain": [
       "<IPython.core.display.HTML object>"
      ]
     },
     "metadata": {},
     "output_type": "display_data"
    },
    {
     "name": "stderr",
     "output_type": "stream",
     "text": [
      "[I 2025-06-05 09:18:37,050] Trial 4 finished with value: 0.9912596940994263 and parameters: {'learning_rate': 3.4886387435087055e-05, 'per_device_train_batch_size': 8, 'num_train_epochs': 4, 'gradient_accumulation_steps': 16}. Best is trial 0 with value: 0.4569173753261566.\n"
     ]
    },
    {
     "data": {
      "text/html": [
       "\n",
       "    <div>\n",
       "      \n",
       "      <progress value='51' max='51' style='width:300px; height:20px; vertical-align: middle;'></progress>\n",
       "      [51/51 8:08:47, Epoch 2/3]\n",
       "    </div>\n",
       "    <table border=\"1\" class=\"dataframe\">\n",
       "  <thead>\n",
       " <tr style=\"text-align: left;\">\n",
       "      <th>Step</th>\n",
       "      <th>Training Loss</th>\n",
       "    </tr>\n",
       "  </thead>\n",
       "  <tbody>\n",
       "    <tr>\n",
       "      <td>50</td>\n",
       "      <td>0.032100</td>\n",
       "    </tr>\n",
       "  </tbody>\n",
       "</table><p>"
      ],
      "text/plain": [
       "<IPython.core.display.HTML object>"
      ]
     },
     "metadata": {},
     "output_type": "display_data"
    },
    {
     "data": {
      "text/html": [
       "\n",
       "    <div>\n",
       "      \n",
       "      <progress value='32' max='32' style='width:300px; height:20px; vertical-align: middle;'></progress>\n",
       "      [32/32 01:44]\n",
       "    </div>\n",
       "    "
      ],
      "text/plain": [
       "<IPython.core.display.HTML object>"
      ]
     },
     "metadata": {},
     "output_type": "display_data"
    },
    {
     "name": "stderr",
     "output_type": "stream",
     "text": [
      "[I 2025-06-05 17:29:38,946] Trial 5 finished with value: 1.0783041715621948 and parameters: {'learning_rate': 1.4984592178649201e-05, 'per_device_train_batch_size': 4, 'num_train_epochs': 3, 'gradient_accumulation_steps': 16}. Best is trial 0 with value: 0.4569173753261566.\n"
     ]
    },
    {
     "data": {
      "text/html": [
       "\n",
       "    <div>\n",
       "      \n",
       "      <progress value='68' max='68' style='width:300px; height:20px; vertical-align: middle;'></progress>\n",
       "      [68/68 4:43:17, Epoch 3/4]\n",
       "    </div>\n",
       "    <table border=\"1\" class=\"dataframe\">\n",
       "  <thead>\n",
       " <tr style=\"text-align: left;\">\n",
       "      <th>Step</th>\n",
       "      <th>Training Loss</th>\n",
       "    </tr>\n",
       "  </thead>\n",
       "  <tbody>\n",
       "    <tr>\n",
       "      <td>50</td>\n",
       "      <td>0.020200</td>\n",
       "    </tr>\n",
       "  </tbody>\n",
       "</table><p>"
      ],
      "text/plain": [
       "<IPython.core.display.HTML object>"
      ]
     },
     "metadata": {},
     "output_type": "display_data"
    },
    {
     "data": {
      "text/html": [
       "\n",
       "    <div>\n",
       "      \n",
       "      <progress value='32' max='32' style='width:300px; height:20px; vertical-align: middle;'></progress>\n",
       "      [32/32 01:12]\n",
       "    </div>\n",
       "    "
      ],
      "text/plain": [
       "<IPython.core.display.HTML object>"
      ]
     },
     "metadata": {},
     "output_type": "display_data"
    },
    {
     "name": "stderr",
     "output_type": "stream",
     "text": [
      "[I 2025-06-05 22:14:34,572] Trial 6 finished with value: 1.147253155708313 and parameters: {'learning_rate': 3.839555553480344e-05, 'per_device_train_batch_size': 4, 'num_train_epochs': 4, 'gradient_accumulation_steps': 16}. Best is trial 0 with value: 0.4569173753261566.\n"
     ]
    },
    {
     "data": {
      "text/html": [
       "\n",
       "    <div>\n",
       "      \n",
       "      <progress value='17' max='17' style='width:300px; height:20px; vertical-align: middle;'></progress>\n",
       "      [17/17 2:30:16, Epoch 0/1]\n",
       "    </div>\n",
       "    <table border=\"1\" class=\"dataframe\">\n",
       "  <thead>\n",
       " <tr style=\"text-align: left;\">\n",
       "      <th>Step</th>\n",
       "      <th>Training Loss</th>\n",
       "    </tr>\n",
       "  </thead>\n",
       "  <tbody>\n",
       "  </tbody>\n",
       "</table><p>"
      ],
      "text/plain": [
       "<IPython.core.display.HTML object>"
      ]
     },
     "metadata": {},
     "output_type": "display_data"
    },
    {
     "data": {
      "text/html": [
       "\n",
       "    <div>\n",
       "      \n",
       "      <progress value='32' max='32' style='width:300px; height:20px; vertical-align: middle;'></progress>\n",
       "      [32/32 01:47]\n",
       "    </div>\n",
       "    "
      ],
      "text/plain": [
       "<IPython.core.display.HTML object>"
      ]
     },
     "metadata": {},
     "output_type": "display_data"
    },
    {
     "name": "stderr",
     "output_type": "stream",
     "text": [
      "[I 2025-06-06 00:46:59,962] Trial 7 finished with value: 1.1378059387207031 and parameters: {'learning_rate': 2.8630203627616117e-05, 'per_device_train_batch_size': 4, 'num_train_epochs': 1, 'gradient_accumulation_steps': 16}. Best is trial 0 with value: 0.4569173753261566.\n"
     ]
    },
    {
     "data": {
      "text/html": [
       "\n",
       "    <div>\n",
       "      \n",
       "      <progress value='70' max='70' style='width:300px; height:20px; vertical-align: middle;'></progress>\n",
       "      [70/70 3:15:14, Epoch 1/2]\n",
       "    </div>\n",
       "    <table border=\"1\" class=\"dataframe\">\n",
       "  <thead>\n",
       " <tr style=\"text-align: left;\">\n",
       "      <th>Step</th>\n",
       "      <th>Training Loss</th>\n",
       "    </tr>\n",
       "  </thead>\n",
       "  <tbody>\n",
       "    <tr>\n",
       "      <td>50</td>\n",
       "      <td>0.017000</td>\n",
       "    </tr>\n",
       "  </tbody>\n",
       "</table><p>"
      ],
      "text/plain": [
       "<IPython.core.display.HTML object>"
      ]
     },
     "metadata": {},
     "output_type": "display_data"
    },
    {
     "data": {
      "text/html": [
       "\n",
       "    <div>\n",
       "      \n",
       "      <progress value='32' max='32' style='width:300px; height:20px; vertical-align: middle;'></progress>\n",
       "      [32/32 01:32]\n",
       "    </div>\n",
       "    "
      ],
      "text/plain": [
       "<IPython.core.display.HTML object>"
      ]
     },
     "metadata": {},
     "output_type": "display_data"
    },
    {
     "name": "stderr",
     "output_type": "stream",
     "text": [
      "[I 2025-06-06 04:04:10,049] Trial 8 finished with value: 1.19642972946167 and parameters: {'learning_rate': 1.0787161757541825e-05, 'per_device_train_batch_size': 4, 'num_train_epochs': 2, 'gradient_accumulation_steps': 8}. Best is trial 0 with value: 0.4569173753261566.\n"
     ]
    },
    {
     "data": {
      "text/html": [
       "\n",
       "    <div>\n",
       "      \n",
       "      <progress value='34' max='34' style='width:300px; height:20px; vertical-align: middle;'></progress>\n",
       "      [34/34 3:16:21, Epoch 1/2]\n",
       "    </div>\n",
       "    <table border=\"1\" class=\"dataframe\">\n",
       "  <thead>\n",
       " <tr style=\"text-align: left;\">\n",
       "      <th>Step</th>\n",
       "      <th>Training Loss</th>\n",
       "    </tr>\n",
       "  </thead>\n",
       "  <tbody>\n",
       "  </tbody>\n",
       "</table><p>"
      ],
      "text/plain": [
       "<IPython.core.display.HTML object>"
      ]
     },
     "metadata": {},
     "output_type": "display_data"
    },
    {
     "data": {
      "text/html": [
       "\n",
       "    <div>\n",
       "      \n",
       "      <progress value='16' max='16' style='width:300px; height:20px; vertical-align: middle;'></progress>\n",
       "      [16/16 05:37]\n",
       "    </div>\n",
       "    "
      ],
      "text/plain": [
       "<IPython.core.display.HTML object>"
      ]
     },
     "metadata": {},
     "output_type": "display_data"
    },
    {
     "name": "stderr",
     "output_type": "stream",
     "text": [
      "[I 2025-06-06 07:26:49,336] Trial 9 finished with value: 1.2786601781845093 and parameters: {'learning_rate': 2.7181544659314106e-05, 'per_device_train_batch_size': 8, 'num_train_epochs': 2, 'gradient_accumulation_steps': 8}. Best is trial 0 with value: 0.4569173753261566.\n"
     ]
    },
    {
     "name": "stdout",
     "output_type": "stream",
     "text": [
      "Best trial:\n",
      "FrozenTrial(number=0, state=TrialState.COMPLETE, values=[0.4569173753261566], datetime_start=datetime.datetime(2025, 6, 4, 18, 34, 15, 30780), datetime_complete=datetime.datetime(2025, 6, 4, 20, 22, 31, 246917), params={'learning_rate': 1.3566154061739588e-05, 'per_device_train_batch_size': 4, 'num_train_epochs': 1, 'gradient_accumulation_steps': 8}, user_attrs={}, system_attrs={}, intermediate_values={}, distributions={'learning_rate': FloatDistribution(high=5e-05, log=True, low=1e-05, step=None), 'per_device_train_batch_size': CategoricalDistribution(choices=(2, 4, 8)), 'num_train_epochs': IntDistribution(high=4, log=False, low=1, step=1), 'gradient_accumulation_steps': CategoricalDistribution(choices=(4, 8, 16))}, trial_id=0, value=None)\n",
      "Best params:\n",
      "{'learning_rate': 1.3566154061739588e-05, 'per_device_train_batch_size': 4, 'num_train_epochs': 1, 'gradient_accumulation_steps': 8}\n"
     ]
    }
   ],
   "source": [
    "# Run Optuna study\n",
    "study = optuna.create_study(direction=\"minimize\")  # minimize eval_loss\n",
    "study.optimize(optuna_objective, n_trials=10)\n",
    "\n",
    "print(\"Best trial:\")\n",
    "print(study.best_trial)\n",
    "print(\"Best params:\")\n",
    "print(study.best_params)"
   ]
  }
 ],
 "metadata": {
  "kernelspec": {
   "display_name": "LLM",
   "language": "python",
   "name": "python3"
  },
  "language_info": {
   "codemirror_mode": {
    "name": "ipython",
    "version": 3
   },
   "file_extension": ".py",
   "mimetype": "text/x-python",
   "name": "python",
   "nbconvert_exporter": "python",
   "pygments_lexer": "ipython3",
   "version": "3.10.16"
  }
 },
 "nbformat": 4,
 "nbformat_minor": 5
}
