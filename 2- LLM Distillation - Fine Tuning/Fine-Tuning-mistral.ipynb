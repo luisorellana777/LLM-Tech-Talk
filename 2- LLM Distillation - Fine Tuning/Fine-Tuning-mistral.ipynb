{
 "cells": [
  {
   "cell_type": "code",
   "execution_count": 1,
   "id": "4b8e3d5b",
   "metadata": {},
   "outputs": [
    {
     "name": "stdout",
     "output_type": "stream",
     "text": [
      "[2025-06-06 09:51:26,795] [INFO] [real_accelerator.py:239:get_accelerator] Setting ds_accelerator to cuda (auto detect)\n"
     ]
    },
    {
     "name": "stderr",
     "output_type": "stream",
     "text": [
      "W0606 09:51:31.215000 12632 site-packages\\torch\\distributed\\elastic\\multiprocessing\\redirects.py:29] NOTE: Redirects are currently not supported in Windows or MacOs.\n"
     ]
    },
    {
     "name": "stdout",
     "output_type": "stream",
     "text": [
      "True\n",
      "1\n",
      "NVIDIA GeForce RTX 5090\n",
      "0.16.5\n"
     ]
    }
   ],
   "source": [
    "from transformers import AutoTokenizer\n",
    "import torch\n",
    "import deepspeed\n",
    "import pandas as pd\n",
    "from datasets import Dataset, load_dataset, load_from_disk\n",
    "from transformers import AutoTokenizer\n",
    "\n",
    "print(torch.cuda.is_available())      # Should print True if a GPU is detected\n",
    "print(torch.cuda.device_count())      # Number of GPUs available\n",
    "print(torch.cuda.get_device_name(0))  # Name of the first GPU (if available)\n",
    "print(deepspeed.__version__)\n"
   ]
  },
  {
   "cell_type": "code",
   "execution_count": null,
   "id": "cc0934b2",
   "metadata": {},
   "outputs": [
    {
     "name": "stdout",
     "output_type": "stream",
     "text": [
      "17733\n",
      "1971\n",
      "                                            Question  \\\n",
      "0  In a newborn baby presenting with an absent an...   \n",
      "1  A patient presents with back pain, elevated ES...   \n",
      "2  In a 45-year-old man with AIDS presenting with...   \n",
      "3  A patient with psoriasis was treated with syst...   \n",
      "4  A 50-year-old man, who underwent a kidney tran...   \n",
      "\n",
      "                                         Complex_CoT  \\\n",
      "0  Alright, let’s think this through step by step...   \n",
      "1  Alright, let's see what's going on with this p...   \n",
      "2  Alright, so let's think about this. We've got ...   \n",
      "3  I'm thinking about this patient with psoriasis...   \n",
      "4  So, we have a 50-year-old man who had a kidney...   \n",
      "\n",
      "                                            Response  \n",
      "0  In a newborn presenting with an absent anal or...  \n",
      "1  Given the presentation of back pain, elevated ...  \n",
      "2  In a 45-year-old man with AIDS presenting with...  \n",
      "3  The development of generalized pustules in a p...  \n",
      "4  If a biopsy is taken from the transplanted kid...  \n"
     ]
    }
   ],
   "source": [
    "dataset = load_dataset(\"FreedomIntelligence/medical-o1-reasoning-SFT\", 'en')\n",
    "dataset = dataset['train'].train_test_split(test_size=0.1)\n",
    "print(len(dataset[\"train\"]))\n",
    "print(len(dataset[\"test\"]))\n",
    "print(dataset[\"test\"].to_pandas().head())\n"
   ]
  },
  {
   "cell_type": "code",
   "execution_count": 3,
   "id": "514558fb",
   "metadata": {},
   "outputs": [],
   "source": [
    "model_name = \"mistralai/Mistral-7B-v0.1\"  # Base model, replace with your preferred Mistral version\n",
    "tokenizer = AutoTokenizer.from_pretrained(model_name)\n",
    "tokenizer.pad_token = tokenizer.eos_token  # Set padding token"
   ]
  },
  {
   "cell_type": "code",
   "execution_count": 4,
   "id": "5f0eda8b",
   "metadata": {},
   "outputs": [],
   "source": [
    "# Function to tokenize and format the data\n",
    "def preprocess_function(examples):\n",
    "    # Format: <s>[INST] {instruction} [/INST] {response}</s>\n",
    "    prompts = [f\"[INST] {question} [/INST]\" for question in examples['Question']]\n",
    "    responses = examples['Response']\n",
    "    \n",
    "    # Combine prompts and responses\n",
    "    texts = []\n",
    "    for prompt, response in zip(prompts, responses):\n",
    "        texts.append(f\"{prompt} {response}\")\n",
    "    \n",
    "    print(texts[:1])  # Print first 5 formatted texts for debugging\n",
    "    # Tokenize\n",
    "    tokenized = tokenizer(\n",
    "        texts,\n",
    "        truncation=True,\n",
    "        max_length=512,  # Adjust based on your needs\n",
    "        padding=\"max_length\",\n",
    "        return_tensors=\"pt\"\n",
    "    )\n",
    "    \n",
    "    # Prepare labels for the decoder (same as input_ids for causal language modeling)\n",
    "    tokenized[\"labels\"] = tokenized[\"input_ids\"].clone()\n",
    "    \n",
    "    return tokenized"
   ]
  },
  {
   "cell_type": "code",
   "execution_count": 5,
   "id": "da657b2e",
   "metadata": {},
   "outputs": [
    {
     "data": {
      "application/vnd.jupyter.widget-view+json": {
       "model_id": "0ac2df3b9b37401290c7d5edaba960cf",
       "version_major": 2,
       "version_minor": 0
      },
      "text/plain": [
       "Map:   0%|          | 0/17733 [00:00<?, ? examples/s]"
      ]
     },
     "metadata": {},
     "output_type": "display_data"
    },
    {
     "name": "stdout",
     "output_type": "stream",
     "text": [
      "[\"[INST] A patient named Sunder is admitted to the emergency department with severe bradycardia due to a drug overdose. This drug was being used to treat his hypertension. Based on the pharmacological effects, which drug being used for hypertension would not cause bradycardia as a side effect? [/INST] In the scenario where a patient like Sunder is experiencing severe bradycardia due to an overdose of a hypertension medication, it's essential to focus on the type of medication that wouldn't typically cause a slow heart rate. Lisinopril, an ACE inhibitor, is one such drug. ACE inhibitors, like lisinopril, primarily act on the renin-angiotensin-aldosterone system to reduce blood pressure by lowering blood vessel constriction and fluid volume without having a direct effect on heart rate. Therefore, lisinopril does not cause bradycardia as a side effect, making it an unlikely culprit in this scenario.\"]\n",
      "[\"[INST] An 11-year-old boy has a 4-day history of increasing left-sided pain below his ear, high-grade fever, tenderness, and swelling of the left mastoid process, and fluid behind the left temporal membrane. He also has allergic rhinitis and a history of multiple episodes of otitis media. A CT scan of the region was performed. Based on these clinical findings, what is the most likely diagnosis? [/INST] Based on the provided clinical findings, the most likely diagnosis for the 11-year-old boy is mastoiditis. The symptoms of increasing pain and swelling near the ear, high-grade fever, and fluid behind the tympanic membrane, combined with a history of recurrent otitis media, strongly suggest mastoiditis. This condition is often a complication of untreated or repeated middle ear infections, which aligns well with the child's medical history and current presentation. A CT scan is a suitable step to confirm this diagnosis, as it will help assess the extent of any infection or inflammation in the mastoid process.\"]\n",
      "[\"[INST] What type of dose-response curve is used to determine variation in sensitivity of response to increasing doses of a drug across different individuals? [/INST] To determine variation in sensitivity of response to increasing doses of a drug across different individuals, you would use a quantal dose-response curve. This type of curve is designed to show the proportion of a population that responds to different dose levels, highlighting differences in sensitivity among individuals. It's particularly useful for assessing how varying doses elicit responses in a population, such as reaching a specific threshold effect.\"]\n",
      "[\"[INST] Which steroid is considered unsuitable for alternate day therapy due to its long-acting nature when trying to prevent suppression of the hypothalamic-pituitary-adrenal axis in long-term steroid use? [/INST] Dexamethasone is considered unsuitable for alternate day therapy due to its long-acting nature. Its prolonged effect can lead to continued suppression of the hypothalamic-pituitary-adrenal (HPA) axis on the 'off' days, which counteracts the goal of giving the HPA axis time to recover. Instead, short to intermediate-acting steroids like prednisone and prednisolone are preferred for alternate day therapy to minimize HPA suppression.\"]\n",
      "[\"[INST] Which very potent and short-acting benzodiazepine, known to cause psychiatric disturbances when used as a hypnotic, was likely administered to a patient named Kallu? [/INST] The benzodiazepine you're referring to is likely triazolam. Triazolam is known for being a very potent, short-acting benzodiazepine often used as a hypnotic for treating insomnia. It is also associated with psychiatric disturbances, such as confusion, amnesia, and sometimes even unusual behaviors or hallucinations, which aligns with the effects you mentioned.\"]\n",
      "['[INST] A 30-year-old woman presents with palpitations, dizziness, chest discomfort, confusion, dilated pupils, dry skin, and abdominal distension after being treated with clomipramine for fibromyalgia. Her vitals include a pulse of 120/min and blood pressure of 90/60 mm Hg. An ECG reveals tachycardia with a QRS complex width of 110 ms. What is the most appropriate pharmacotherapy to administer to address her symptoms and ECG findings? [/INST] Given the symptoms and the ECG findings you described, it is highly suggestive of a tricyclic antidepressant (TCA) overdose, specifically clomipramine in this case. The key ECG abnormality in TCA overdose is the widening of the QRS complex, which is due to the blockade of sodium channels caused by the drug. \\n\\nThe most appropriate pharmacotherapy to administer in this scenario is sodium bicarbonate. Sodium bicarbonate works by increasing the serum pH, which decreases the binding of the tricyclic to sodium channels, and directly providing sodium to overcome the blockade, ultimately helping to narrow the QRS complex and stabilize the cardiac membrane. Therefore, in this case, administering sodium bicarbonate is the recommended immediate treatment to address her symptoms and ECG findings.']\n",
      "[\"[INST] In which types of depression are suicidal tendencies most commonly observed? [/INST] Suicidal tendencies are most commonly observed in Major Depressive Disorder (MDD) and Bipolar Disorder. These two forms of depression are known for their severe impact on mood and behavior, making them particularly concerning in terms of suicide risk. \\n\\nMajor Depressive Disorder is characterized by persistent and intense feelings of sadness and hopelessness, which can severely disrupt a person's life and often lead to suicidal ideation, especially during major depressive episodes. On the other hand, Bipolar Disorder involves extreme mood swings, fluctuating between depressive lows and manic or hypomanic highs. The combination of severe depressive episodes and potential impulsivity during manic phases in Bipolar Disorder further elevates the suicide risk.\\n\\nWhile other forms of depression, such as Persistent Depressive Disorder and Seasonal Affective Disorder, can also involve suicidal thoughts, they tend to do so to a lesser extent unless the depression becomes more severe or overlaps with other depressive conditions. Therefore, Major Depressive Disorder and Bipolar Disorder are the types of depression most commonly associated with suicidal behaviors.\"]\n",
      "['[INST] A 6-year-old girl is presented with a generalized pruritic rash featuring oozing crusted lesions and febrile symptoms, after missing school due to this condition. With no available immunization records and no family history of serious illness, what would be the most appropriate treatment to alleviate her symptoms considering her clinical presentation? [/INST] Given the clinical presentation of a generalized pruritic rash with oozing, crusting lesions and an associated fever, the symptoms are suggestive of a secondary bacterial infection, likely impetigo, over an initial rash. The absence of immunization records raises concern about other infectious causes, but the description aligns closely with impetigo, especially considering the systemic symptoms like fever, which imply a more extensive infection.\\n\\nFor treatment, the most appropriate approach would be to address both the infection and symptom relief. The choice of an oral antibiotic, such as cephalexin, would be suitable to cover common bacteria responsible for impetigo, such as Staphylococcus aureus and Streptococcus pyogenes. This treatment aims to tackle the systemic involvement indicated by the fever. \\n\\nIn addition to antibiotics, supportive care including cleaning the affected areas with mild soap and water, as well as using topical agents like emollients to reduce itching and protect the skin, would be beneficial. Monitoring and follow-up are essential to ensure resolution and adjust treatment if necessary.\\n\\nThus, initiating treatment with oral cephalexin while implementing supportive skincare measures is the recommended course of action to alleviate her symptoms and address the underlying infection.']\n",
      "['[INST] An IDDM patient presents with septal perforation of the nose and brownish black discharge. What is the probable diagnosis? [/INST] The probable diagnosis for an IDDM (Insulin-Dependent Diabetes Mellitus) patient presenting with septal perforation of the nose and brownish-black discharge is mucormycosis. This aggressive fungal infection, often associated with a compromised immune system as seen in poorly controlled diabetes, can cause tissue necrosis leading to the symptoms described. Prompt identification and treatment are crucial in managing this condition.']\n",
      "[\"[INST] A Histopathological examination of an excision specimen from a lesion on the dorsal surface of pensi reveals a papillary lesion with clear vacuolization of epithelial cells on the surface and extension of the hyperplastic epithelium into the underlying tissue. What could be the possible diagnosis?\\nA. Bowen's disease\\nB. Erythroplasia of Queyrat\\nC. Condyloma acuminatum\\nD. Verrucous carcinoma [/INST] Based on the histopathological examination findings, the possible diagnosis for the lesion on the dorsal surface of the penis is D. Verrucous carcinoma. The description of a papillary lesion with clear vacuolization of epithelial cells and the extension of the hyperplastic epithelium into the underlying tissue aligns well with the characteristics of verrucous carcinoma, a form of well-differentiated squamous cell carcinoma known for its invasive growth pattern.\"]\n",
      "['[INST] A 28 year old woman comes to you with the repo of a USG done at 13 weeks, it shows the child has anencephaly and as a result of which she would like to do an MTP. Which of the following is NOT a preferred method of MTP in this condition?\\nA. Menstrual regulation\\nB. Intra amniotic instillation of urea and PGF2 a Extraovular instillation of ethacridine lactate\\nC. Extraovular instillation of ethacridine lactate\\nD. Parenteral administration of PGF2 a [/INST] A. Menstrual regulation\\n\\nMenstrual regulation is not a preferred method of medical termination of pregnancy (MTP) at 13 weeks gestation. It is generally used very early in pregnancy, often before the pregnancy is confirmed or in the very early weeks, and it is not appropriate for use at 13 weeks. The other options listed, such as intra-amniotic instillation of urea and PGF2, extraovular instillation of ethacridine lactate, and parenteral administration of PGF2, are more applicable for MTPs in the second trimester.']\n",
      "[\"[INST] A 40-year-old diabetic patient presents with round lesions on the abdomen for 2 weeks, and histopathological examination shows palisading granuloma. What is the diagnosis? [/INST] The diagnosis is granuloma annulare. Given the patient's round lesions on the abdomen, the short time frame of 2 weeks, and the histopathological finding of palisading granuloma, granuloma annulare is the most fitting diagnosis. This condition often presents with round plaques or papules and can be associated with diabetes, making it a plausible explanation for the patient's symptoms.\"]\n",
      "['[INST] A 43-year-old man is brought to the emergency department because of severe retrosternal pain radiating to the back and left shoulder for 4 hours. The pain began after attending a farewell party for his coworker at a local bar. He had 3–4 episodes of nonbilious vomiting before the onset of the pain. He has hypertension. His father died of cardiac arrest at the age of 55 years. He has smoked one pack of cigarettes daily for the last 23 years and drinks 2–3 beers daily. His current medications include amlodipine and valsartan. He appears pale. His temperature is 37° C (98.6° F), pulse is 115/min, and blood pressure is 90/60 mm Hg. There are decreased breath sounds over the left base and crepitus is palpable over the thorax. Abdominal examination shows tenderness to palpation in the epigastric region; bowel sounds are normal. Laboratory studies show:\\nHemoglobin 16.5 g/dL\\nLeukocyte count 11,100/mm3\\nSerum\\nNa+ 133 mEq/L\\nK+ 3.2 mEq/L\\nCl- 98 mEq/L\\nHCO3- 30 mEq/L\\nCreatinine 1.4 mg/dL\\nAn ECG shows sinus tachycardia with left ventricular hypertrophy. Intravenous fluid resuscitation and antibiotics are begun. Which of the following is the most appropriate test to confirm the diagnosis in this patient?\"\\nA. Esophagogastroduodenoscopy\\nB. Aortography\\nC. CT scan of the chest\\nD. Transthoracic echocardiography\\n\" [/INST] To confirm the diagnosis in this patient, the most appropriate test is a CT scan of the chest. The clinical presentation, including severe chest pain following vomiting, crepitus over the chest, and decreased breath sounds on the left, strongly suggests Boerhaave\\'s syndrome, which is an esophageal rupture. A CT scan can effectively reveal the presence of mediastinal air and any pleural effusion that could confirm the esophageal perforation. Thus, option C, CT scan of the chest, is the best choice for diagnosis in this scenario.']\n",
      "['[INST] In a prospective study of 10,000 subjects, where 6,000 were given beta carotene and 4,000 were not, with 3 cases of lung cancer occurring in the group given beta carotene and 2 cases in the group not given beta carotene, how should the results be interpreted regarding the relationship between beta carotene and lung cancer? [/INST] The results of this prospective study indicate that there is no noticeable difference in lung cancer incidence between those who took beta carotene and those who did not. Both groups exhibit an incidence rate of 0.05%, suggesting that beta carotene supplementation does not have a discernible effect on lung cancer rates among the study participants.\\n\\nHowever, it is crucial to note the limitations of these findings. The small number of lung cancer cases (3 in the beta carotene group and 2 in the control group) makes it difficult to establish statistical significance or draw definitive conclusions. The possibility of random variation affecting the results is significant with such low numbers.\\n\\nAdditionally, the study does not account for potential confounding factors such as smoking habits, which are heavily linked to lung cancer risk. The distribution of smokers between the two groups could greatly influence the outcome. Without this information, we must be cautious in interpreting the findings.\\n\\nIn summary, while the study suggests no evident link between beta carotene and lung cancer rates, the limited data and lack of consideration for other risk factors make it difficult to make any strong assertions. Further research with a larger number of cases and control for confounding factors would be needed to explore this relationship more thoroughly.']\n",
      "['[INST] After a patient suffers an injury to the right temple and experiences pain in the right eye along with loss of vision, but exhibits normal eye movements and normal pupil reaction to light, what is the likely diagnosis? [/INST] Given the symptoms and the mechanism of injury, the likely diagnosis is traumatic optic neuropathy. The trauma to the right temple can lead to damage affecting the optic nerve, which results in the sudden loss of vision while maintaining normal eye movements and normal pupil reactions to light. This suggests that the injury primarily affects the sensory pathway of vision rather than motor or pupil responses, aligning well with traumatic optic neuropathy.']\n",
      "['[INST] A 12-year-old girl has a history of recurrent bulky stools and abdominal pain since 3 years of age. She has moderate pallor and her weight and height are below the 3rd percentile. Which of the following is the most appropriate investigation to make a specific diagnosis?\\nA. Small intestinal biopsy\\nB. Barium studies\\nC. 24-hr- fecal fat estimation\\nD. Urinary d-xylose test [/INST] The most appropriate investigation to make a specific diagnosis for this 12-year-old girl with a history of recurrent bulky stools, abdominal pain, moderate pallor, and growth concerns is a small intestinal biopsy. This test is used to definitively diagnose conditions like celiac disease, which is characterized by damage to the villi in the small intestine and is consistent with her symptoms of malabsorption. Therefore, option A, Small intestinal biopsy, is the correct choice.']\n",
      "['[INST] A 20 yr female come with a mass in the cavernous sinus & 6th cranial nerve palsy. In T2W MRI Hyperintense shadow is present which shows homogenous contrast enhancement. Diagnosis is:\\nA. Schwannoma\\nB. Meningioma\\nC. Astrocytoma\\nD. Cavernous sinus hemangioma [/INST] Based on the provided information, the most likely diagnosis is B. Meningioma. Meningiomas are known for their homogenous enhancement on MRI with contrast and can appear hyperintense on T2-weighted images. They are also common in young females and can occur in the cavernous sinus, which explains the 6th cranial nerve palsy.']\n",
      "['[INST] A 29-year-old woman with increasing muscle weakness, sore muscles, and difficulty swallowing over the past year has a serum creatine kinase level of 458 U/L and Jo-1 antibodies present. What additional complication is she most likely to have as a result of her condition? [/INST] The most likely complication that the 29-year-old woman would have as a result of her condition, given the presence of Jo-1 antibodies, is interstitial lung disease. This type of lung involvement is commonly associated with polymyositis, particularly when Jo-1 antibodies are detected. Interstitial lung disease involves inflammation and scarring of lung tissues, which can lead to symptoms like shortness of breath and a persistent cough.']\n"
     ]
    },
    {
     "data": {
      "application/vnd.jupyter.widget-view+json": {
       "model_id": "89907f8b66e44b9192bb0f8d29389b3e",
       "version_major": 2,
       "version_minor": 0
      },
      "text/plain": [
       "Map:   0%|          | 0/1971 [00:00<?, ? examples/s]"
      ]
     },
     "metadata": {},
     "output_type": "display_data"
    },
    {
     "name": "stdout",
     "output_type": "stream",
     "text": [
      "[\"[INST] In a newborn baby presenting with an absent anal orifice and meconuria, what is the most appropriate immediate management approach to address these symptoms? [/INST] In a newborn presenting with an absent anal orifice and meconuria, the most appropriate immediate management approach is to perform a colostomy. This procedure addresses the critical issue of intestinal obstruction by creating an opening for the passage of feces, thereby preventing complications like bowel perforation and reducing the risk of infection associated with the fistula. By relieving the obstruction, it stabilizes the infant's condition and allows time for further evaluation and definitive surgical planning for the anorectal malformation.\"]\n",
      "[\"[INST] One day after undergoing a left carotid endarterectomy, a 63-year-old man has a severe headache. He describes it as 9 out of 10 in intensity. He has nausea. He had 80% stenosis in the left carotid artery and received heparin prior to the surgery. He has a history of 2 transient ischemic attacks, 2 and 4 months ago. He has hypertension, type 2 diabetes mellitus, and hypercholesterolemia. He has smoked one pack of cigarettes daily for 40 years. He drinks 1–2 beers on weekends. Current medications include lisinopril, metformin, sitagliptin, and aspirin. His temperature is 37.3°C (99.1°F), pulse is 111/min, and blood pressure is 180/110 mm Hg. He is confused and oriented only to person. Examination shows pupils that react sluggishly to light. There is a right facial droop. Muscle strength is decreased in the right upper and lower extremities. Deep tendon reflexes are 3+ on the right. There is a left cervical surgical incision that shows no erythema or discharge. Cardiac examination shows no abnormalities. A complete blood count and serum concentrations of creatinine, electrolytes, and glucose are within the reference range. A CT scan of the head is shown. Which of the following is the strongest predisposing factor for this patient's condition?\\nA. Degree of carotid stenosis\\nB. Aspirin therapy\\nC. Perioperative heparin\\nD. Hypertension\\nE. Smoking [/INST] D. Hypertension\"]\n"
     ]
    }
   ],
   "source": [
    "tokenized_dataset = dataset.map(\n",
    "    preprocess_function,\n",
    "    batched=True,\n",
    "    remove_columns=dataset[\"train\"].column_names,\n",
    ")"
   ]
  },
  {
   "cell_type": "code",
   "execution_count": 6,
   "id": "68c53716",
   "metadata": {},
   "outputs": [
    {
     "name": "stdout",
     "output_type": "stream",
     "text": [
      "                                           input_ids  \\\n",
      "0  [2, 2, 2, 2, 2, 2, 2, 2, 2, 2, 2, 2, 2, 2, 2, ...   \n",
      "1  [2, 2, 2, 2, 2, 2, 2, 2, 2, 2, 2, 2, 2, 2, 2, ...   \n",
      "2  [2, 2, 2, 2, 2, 2, 2, 2, 2, 2, 2, 2, 2, 2, 2, ...   \n",
      "3  [2, 2, 2, 2, 2, 2, 2, 2, 2, 2, 2, 2, 2, 2, 2, ...   \n",
      "4  [2, 2, 2, 2, 2, 2, 2, 2, 2, 2, 2, 2, 2, 2, 2, ...   \n",
      "\n",
      "                                      attention_mask  \\\n",
      "0  [0, 0, 0, 0, 0, 0, 0, 0, 0, 0, 0, 0, 0, 0, 0, ...   \n",
      "1  [0, 0, 0, 0, 0, 0, 0, 0, 0, 0, 0, 0, 0, 0, 0, ...   \n",
      "2  [0, 0, 0, 0, 0, 0, 0, 0, 0, 0, 0, 0, 0, 0, 0, ...   \n",
      "3  [0, 0, 0, 0, 0, 0, 0, 0, 0, 0, 0, 0, 0, 0, 0, ...   \n",
      "4  [0, 0, 0, 0, 0, 0, 0, 0, 0, 0, 0, 0, 0, 0, 0, ...   \n",
      "\n",
      "                                              labels  \n",
      "0  [2, 2, 2, 2, 2, 2, 2, 2, 2, 2, 2, 2, 2, 2, 2, ...  \n",
      "1  [2, 2, 2, 2, 2, 2, 2, 2, 2, 2, 2, 2, 2, 2, 2, ...  \n",
      "2  [2, 2, 2, 2, 2, 2, 2, 2, 2, 2, 2, 2, 2, 2, 2, ...  \n",
      "3  [2, 2, 2, 2, 2, 2, 2, 2, 2, 2, 2, 2, 2, 2, 2, ...  \n",
      "4  [2, 2, 2, 2, 2, 2, 2, 2, 2, 2, 2, 2, 2, 2, 2, ...  \n"
     ]
    }
   ],
   "source": [
    "print(tokenized_dataset[\"train\"].to_pandas().head())"
   ]
  },
  {
   "cell_type": "code",
   "execution_count": 7,
   "id": "b10e2937",
   "metadata": {},
   "outputs": [],
   "source": [
    "from transformers import AutoModelForCausalLM, TrainingArguments, Trainer\n",
    "import torch"
   ]
  },
  {
   "cell_type": "code",
   "execution_count": 8,
   "id": "5dc3b0d5",
   "metadata": {},
   "outputs": [
    {
     "data": {
      "application/vnd.jupyter.widget-view+json": {
       "model_id": "c4f028bafb54424f9d910e4a8d62edb0",
       "version_major": 2,
       "version_minor": 0
      },
      "text/plain": [
       "Loading checkpoint shards:   0%|          | 0/2 [00:00<?, ?it/s]"
      ]
     },
     "metadata": {},
     "output_type": "display_data"
    }
   ],
   "source": [
    "model = AutoModelForCausalLM.from_pretrained(\n",
    "    model_name,\n",
    "    torch_dtype=torch.bfloat16,\n",
    "    device_map=\"auto\",  # Automatically distribute across available GPUs\n",
    ")"
   ]
  },
  {
   "cell_type": "code",
   "execution_count": 9,
   "id": "a2338310",
   "metadata": {},
   "outputs": [],
   "source": [
    "def try_import_wandb():\n",
    "    try:\n",
    "        import wandb\n",
    "        return True\n",
    "    except ImportError:\n",
    "        return False"
   ]
  },
  {
   "cell_type": "code",
   "execution_count": 10,
   "id": "4d6369b5",
   "metadata": {},
   "outputs": [],
   "source": [
    "training_args = TrainingArguments(\n",
    "    output_dir=\"./mistral-finetuned\",\n",
    "    overwrite_output_dir=True,\n",
    "    num_train_epochs=1,  # 2-4 is typical; increase for more thorough training\n",
    "    per_device_train_batch_size=4,  # Try 2 or 4; increase if VRAM allows, decrease if OOM\n",
    "    per_device_eval_batch_size=4,   # Match train batch size for eval\n",
    "    gradient_accumulation_steps=8,  # Increase if you want a larger effective batch size\n",
    "    save_steps=1000,                # Save every 1000 steps\n",
    "    save_total_limit=1,             # Keep last 3 checkpoints\n",
    "    eval_steps=500,                 # Evaluate every 500 steps\n",
    "    logging_dir=\"./logs\",\n",
    "    logging_steps=50,               # Log more frequently for better monitoring\n",
    "    learning_rate=1.3566154061739588e-05,             # Good starting point for LLMs\n",
    "    weight_decay=0.01,\n",
    "    warmup_steps=200,               # Slightly higher for stability with larger datasets\n",
    "    lr_scheduler_type=\"cosine\",\n",
    "    report_to=\"wandb\" if try_import_wandb() else \"none\",\n",
    "    fp16=False,                     # Use bf16 if your GPU supports it (RTX 5090 does)\n",
    "    bf16=True,\n",
    "    gradient_checkpointing=True,\n",
    "    # DeepSpeed configuration (optional, for multi-GPU training)\n",
    "    # deepspeed=\"ds_config.json\"  # Uncomment and specify your DeepSpeed config file\n",
    ")"
   ]
  },
  {
   "cell_type": "code",
   "execution_count": 11,
   "id": "b8268b38",
   "metadata": {},
   "outputs": [],
   "source": [
    "trainer = Trainer(\n",
    "    model=model,\n",
    "    args=training_args,\n",
    "    train_dataset=tokenized_dataset[\"train\"],\n",
    "    eval_dataset=tokenized_dataset[\"test\"],\n",
    ")"
   ]
  },
  {
   "cell_type": "code",
   "execution_count": 12,
   "id": "07452a69",
   "metadata": {},
   "outputs": [
    {
     "name": "stderr",
     "output_type": "stream",
     "text": [
      "\u001b[34m\u001b[1mwandb\u001b[0m: \u001b[33mWARNING\u001b[0m The `run_name` is currently set to the same value as `TrainingArguments.output_dir`. If this was not intended, please specify a different run name by setting the `TrainingArguments.run_name` parameter.\n",
      "\u001b[34m\u001b[1mwandb\u001b[0m: Currently logged in as: \u001b[33mluis-orellana777\u001b[0m (\u001b[33mluis-orellana777-sngular\u001b[0m) to \u001b[32mhttps://api.wandb.ai\u001b[0m. Use \u001b[1m`wandb login --relogin`\u001b[0m to force relogin\n"
     ]
    },
    {
     "data": {
      "text/html": [
       "Tracking run with wandb version 0.19.11"
      ],
      "text/plain": [
       "<IPython.core.display.HTML object>"
      ]
     },
     "metadata": {},
     "output_type": "display_data"
    },
    {
     "data": {
      "text/html": [
       "Run data is saved locally in <code>c:\\Users\\Luis\\OneDrive\\Documentos\\Data Science\\LLM\\Fine Tuning\\wandb\\run-20250606_095159-lvv66dy3</code>"
      ],
      "text/plain": [
       "<IPython.core.display.HTML object>"
      ]
     },
     "metadata": {},
     "output_type": "display_data"
    },
    {
     "data": {
      "text/html": [
       "Syncing run <strong><a href='https://wandb.ai/luis-orellana777-sngular/huggingface/runs/lvv66dy3' target=\"_blank\">./mistral-finetuned</a></strong> to <a href='https://wandb.ai/luis-orellana777-sngular/huggingface' target=\"_blank\">Weights & Biases</a> (<a href='https://wandb.me/developer-guide' target=\"_blank\">docs</a>)<br>"
      ],
      "text/plain": [
       "<IPython.core.display.HTML object>"
      ]
     },
     "metadata": {},
     "output_type": "display_data"
    },
    {
     "data": {
      "text/html": [
       " View project at <a href='https://wandb.ai/luis-orellana777-sngular/huggingface' target=\"_blank\">https://wandb.ai/luis-orellana777-sngular/huggingface</a>"
      ],
      "text/plain": [
       "<IPython.core.display.HTML object>"
      ]
     },
     "metadata": {},
     "output_type": "display_data"
    },
    {
     "data": {
      "text/html": [
       " View run at <a href='https://wandb.ai/luis-orellana777-sngular/huggingface/runs/lvv66dy3' target=\"_blank\">https://wandb.ai/luis-orellana777-sngular/huggingface/runs/lvv66dy3</a>"
      ],
      "text/plain": [
       "<IPython.core.display.HTML object>"
      ]
     },
     "metadata": {},
     "output_type": "display_data"
    },
    {
     "name": "stderr",
     "output_type": "stream",
     "text": [
      "`use_cache=True` is incompatible with gradient checkpointing. Setting `use_cache=False`.\n"
     ]
    },
    {
     "data": {
      "text/html": [
       "\n",
       "    <div>\n",
       "      \n",
       "      <progress value='554' max='554' style='width:300px; height:20px; vertical-align: middle;'></progress>\n",
       "      [554/554 24:02:28, Epoch 0/1]\n",
       "    </div>\n",
       "    <table border=\"1\" class=\"dataframe\">\n",
       "  <thead>\n",
       " <tr style=\"text-align: left;\">\n",
       "      <th>Step</th>\n",
       "      <th>Training Loss</th>\n",
       "    </tr>\n",
       "  </thead>\n",
       "  <tbody>\n",
       "    <tr>\n",
       "      <td>50</td>\n",
       "      <td>1.829400</td>\n",
       "    </tr>\n",
       "    <tr>\n",
       "      <td>100</td>\n",
       "      <td>0.476200</td>\n",
       "    </tr>\n",
       "    <tr>\n",
       "      <td>150</td>\n",
       "      <td>0.484900</td>\n",
       "    </tr>\n",
       "    <tr>\n",
       "      <td>200</td>\n",
       "      <td>0.514700</td>\n",
       "    </tr>\n",
       "    <tr>\n",
       "      <td>250</td>\n",
       "      <td>0.518100</td>\n",
       "    </tr>\n",
       "    <tr>\n",
       "      <td>300</td>\n",
       "      <td>0.512700</td>\n",
       "    </tr>\n",
       "    <tr>\n",
       "      <td>350</td>\n",
       "      <td>0.503900</td>\n",
       "    </tr>\n",
       "    <tr>\n",
       "      <td>400</td>\n",
       "      <td>0.484800</td>\n",
       "    </tr>\n",
       "    <tr>\n",
       "      <td>450</td>\n",
       "      <td>0.466900</td>\n",
       "    </tr>\n",
       "    <tr>\n",
       "      <td>500</td>\n",
       "      <td>0.470400</td>\n",
       "    </tr>\n",
       "    <tr>\n",
       "      <td>550</td>\n",
       "      <td>0.472100</td>\n",
       "    </tr>\n",
       "  </tbody>\n",
       "</table><p>"
      ],
      "text/plain": [
       "<IPython.core.display.HTML object>"
      ]
     },
     "metadata": {},
     "output_type": "display_data"
    },
    {
     "data": {
      "text/plain": [
       "TrainOutput(global_step=554, training_loss=0.6112520815233031, metrics={'train_runtime': 87269.0943, 'train_samples_per_second': 0.203, 'train_steps_per_second': 0.006, 'total_flos': 3.8724950686275994e+17, 'train_loss': 0.6112520815233031, 'epoch': 0.9995489400090212})"
      ]
     },
     "execution_count": 12,
     "metadata": {},
     "output_type": "execute_result"
    }
   ],
   "source": [
    "trainer.train()"
   ]
  },
  {
   "cell_type": "code",
   "execution_count": null,
   "id": "3b60fda4",
   "metadata": {},
   "outputs": [],
   "source": [
    "trainer.save_model(\"./model-mistral-finetuned-medical-reasoning\")"
   ]
  },
  {
   "cell_type": "code",
   "execution_count": null,
   "id": "7e7516cb",
   "metadata": {},
   "outputs": [
    {
     "data": {
      "text/plain": [
       "('./tokenizer-mistral-finetuned-medical-reasoning\\\\tokenizer_config.json',\n",
       " './tokenizer-mistral-finetuned-medical-reasoning\\\\special_tokens_map.json',\n",
       " './tokenizer-mistral-finetuned-medical-reasoning\\\\tokenizer.model',\n",
       " './tokenizer-mistral-finetuned-medical-reasoning\\\\added_tokens.json',\n",
       " './tokenizer-mistral-finetuned-medical-reasoning\\\\tokenizer.json')"
      ]
     },
     "execution_count": 14,
     "metadata": {},
     "output_type": "execute_result"
    }
   ],
   "source": [
    "tokenizer.save_pretrained(\"./tokenizer-mistral-finetuned-medical-reasoning\")"
   ]
  },
  {
   "cell_type": "code",
   "execution_count": null,
   "id": "e2d57561",
   "metadata": {},
   "outputs": [
    {
     "data": {
      "application/vnd.jupyter.widget-view+json": {
       "model_id": "f26fe5cc851a4fb287bd9b3afe1cf588",
       "version_major": 2,
       "version_minor": 0
      },
      "text/plain": [
       "model-00003-of-00003.safetensors:   0%|          | 0.00/4.54G [00:00<?, ?B/s]"
      ]
     },
     "metadata": {},
     "output_type": "display_data"
    },
    {
     "data": {
      "application/vnd.jupyter.widget-view+json": {
       "model_id": "f5775f856f124af88ae6313edefe1943",
       "version_major": 2,
       "version_minor": 0
      },
      "text/plain": [
       "model-00001-of-00003.safetensors:   0%|          | 0.00/4.94G [00:00<?, ?B/s]"
      ]
     },
     "metadata": {},
     "output_type": "display_data"
    },
    {
     "data": {
      "application/vnd.jupyter.widget-view+json": {
       "model_id": "75924aafcb394f60b3eaad1556ad1c2e",
       "version_major": 2,
       "version_minor": 0
      },
      "text/plain": [
       "model-00002-of-00003.safetensors:   0%|          | 0.00/5.00G [00:00<?, ?B/s]"
      ]
     },
     "metadata": {},
     "output_type": "display_data"
    },
    {
     "data": {
      "application/vnd.jupyter.widget-view+json": {
       "model_id": "b3238a74c6af40e9b8f671c7b08d0547",
       "version_major": 2,
       "version_minor": 0
      },
      "text/plain": [
       "training_args.bin:   0%|          | 0.00/5.65k [00:00<?, ?B/s]"
      ]
     },
     "metadata": {},
     "output_type": "display_data"
    },
    {
     "data": {
      "application/vnd.jupyter.widget-view+json": {
       "model_id": "a2b05f9905a2482289e017c227d91876",
       "version_major": 2,
       "version_minor": 0
      },
      "text/plain": [
       "Upload 4 LFS files:   0%|          | 0/4 [00:00<?, ?it/s]"
      ]
     },
     "metadata": {},
     "output_type": "display_data"
    },
    {
     "data": {
      "text/plain": [
       "CommitInfo(commit_url='https://huggingface.co/Luis-Orellana777/mistral-finetuned/commit/4d7713346a3f24480dd6a737bcc4f109c00d2e66', commit_message='Luis-Orellana777/model-mistral-finetuned-medical-reasoning', commit_description='', oid='4d7713346a3f24480dd6a737bcc4f109c00d2e66', pr_url=None, repo_url=RepoUrl('https://huggingface.co/Luis-Orellana777/mistral-finetuned', endpoint='https://huggingface.co', repo_type='model', repo_id='Luis-Orellana777/mistral-finetuned'), pr_revision=None, pr_num=None)"
      ]
     },
     "execution_count": 15,
     "metadata": {},
     "output_type": "execute_result"
    }
   ],
   "source": [
    "trainer.push_to_hub(\"Luis-Orellana777/model-mistral-finetuned-medical-reasoning\")"
   ]
  },
  {
   "cell_type": "code",
   "execution_count": null,
   "id": "3197f997",
   "metadata": {},
   "outputs": [
    {
     "data": {
      "application/vnd.jupyter.widget-view+json": {
       "model_id": "34e1378134e44c208ee926871394fa7e",
       "version_major": 2,
       "version_minor": 0
      },
      "text/plain": [
       "tokenizer.model:   0%|          | 0.00/493k [00:00<?, ?B/s]"
      ]
     },
     "metadata": {},
     "output_type": "display_data"
    },
    {
     "data": {
      "text/plain": [
       "CommitInfo(commit_url='https://huggingface.co/Luis-Orellana777/tokenizer-mistral-finetuned-medical-reasoning/commit/31241a69f29716ee8967cfbcdf266199b3c6f860', commit_message='Upload tokenizer', commit_description='', oid='31241a69f29716ee8967cfbcdf266199b3c6f860', pr_url=None, repo_url=RepoUrl('https://huggingface.co/Luis-Orellana777/tokenizer-mistral-finetuned-medical-reasoning', endpoint='https://huggingface.co', repo_type='model', repo_id='Luis-Orellana777/tokenizer-mistral-finetuned-medical-reasoning'), pr_revision=None, pr_num=None)"
      ]
     },
     "execution_count": 16,
     "metadata": {},
     "output_type": "execute_result"
    }
   ],
   "source": [
    "tokenizer.push_to_hub(\"Luis-Orellana777/model-mistral-finetuned-medical-reasoning\")"
   ]
  },
  {
   "cell_type": "code",
   "execution_count": 17,
   "id": "da13cece",
   "metadata": {},
   "outputs": [],
   "source": [
    "def generate_response(prompt, model, tokenizer, max_length=512):\n",
    "    input_ids = tokenizer.encode(f\"[INST] {prompt} [/INST]\", return_tensors=\"pt\").to(model.device)\n",
    "    attention_mask = (input_ids != tokenizer.pad_token_id).long().to(model.device)\n",
    "    \n",
    "    output = model.generate(\n",
    "        input_ids,\n",
    "        attention_mask=attention_mask,\n",
    "        max_length=max_length,\n",
    "        do_sample=True,\n",
    "        temperature=0.7,\n",
    "        top_p=0.9,\n",
    "        pad_token_id=tokenizer.pad_token_id  # Explicitly set pad_token_id\n",
    "    )\n",
    "    \n",
    "    return tokenizer.decode(output[0], skip_special_tokens=True)"
   ]
  },
  {
   "cell_type": "code",
   "execution_count": 18,
   "id": "8f779131",
   "metadata": {},
   "outputs": [
    {
     "name": "stderr",
     "output_type": "stream",
     "text": [
      "c:\\Users\\Luis\\anaconda3\\envs\\LLM\\lib\\site-packages\\torch\\utils\\checkpoint.py:85: UserWarning: None of the inputs have requires_grad=True. Gradients will be None\n",
      "  warnings.warn(\n"
     ]
    },
    {
     "name": "stdout",
     "output_type": "stream",
     "text": [
      "[INST] Given the symptoms of sudden weakness in the left arm and leg, recent long-distance travel, and the presence of swollen and tender right lower leg, what specific cardiac abnormality is most likely to be found upon further evaluation that could explain these findings? [/INST] The symptoms you've described—sudden weakness in the left arm and leg, recent long-distance travel, and swollen and tender right lower leg—are highly suggestive of a condition known as embolism. Embolism occurs when a blood clot, typically originating from the deep veins of the legs (a condition known as deep vein thrombosis or DVT), breaks loose and travels to the heart.\n",
      "\n",
      "In this scenario, the embolism is most likely to come from the right lower leg, as evidenced by the swelling and tenderness. The clot then travels to the heart and can subsequently be dislodged, causing an embolic event in the cerebral arteries, leading to the sudden weakness in the left arm and leg.\n",
      "\n",
      "The recent long-distance travel is a significant risk factor for the development of DVT and subsequent embolism, as it involves prolonged immobility.\n",
      "\n",
      "Therefore, the specific cardiac abnormality most likely to be found upon further evaluation is an embolus in the cerebral arteries, which is causing the neurological symptoms. Additionally, you would expect to find a DVT in the right lower leg upon further evaluation, as the source of the embolism. This aligns with the classic presentation of embolic events following a period of immobility, such as long-distance travel. Treatment would typically involve anticoagulation therapy to manage the clotting risk and prevent further complications. Immediate medical evaluation and intervention are crucial in such cases. \n",
      "\n",
      "In summary, the combination of neurological symptoms and signs of DVT in the right leg strongly suggests a diagnosis of embolism, likely originating from a DVT in the right lower leg. This scenario underscores the importance of prompt medical evaluation and management to address the clotting risk and prevent further complications. It's essential for the patient to receive appropriate anticoagulation therapy to manage the clotting risk and prevent further complications. \n",
      "\n",
      "This answer aligns with the typical presentation of embolic events following imm\n"
     ]
    }
   ],
   "source": [
    "test_prompt = \"Given the symptoms of sudden weakness in the left arm and leg, recent long-distance travel, and the presence of swollen and tender right lower leg, what specific cardiac abnormality is most likely to be found upon further evaluation that could explain these findings?\"\n",
    "response = generate_response(test_prompt, model, tokenizer)\n",
    "print(response)"
   ]
  }
 ],
 "metadata": {
  "kernelspec": {
   "display_name": "LLM",
   "language": "python",
   "name": "python3"
  },
  "language_info": {
   "codemirror_mode": {
    "name": "ipython",
    "version": 3
   },
   "file_extension": ".py",
   "mimetype": "text/x-python",
   "name": "python",
   "nbconvert_exporter": "python",
   "pygments_lexer": "ipython3",
   "version": "3.10.16"
  }
 },
 "nbformat": 4,
 "nbformat_minor": 5
}
