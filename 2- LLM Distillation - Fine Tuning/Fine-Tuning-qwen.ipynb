{
 "cells": [
  {
   "cell_type": "markdown",
   "id": "9dc03996",
   "metadata": {},
   "source": [
    "## Imports of dependencies and print GPU specs"
   ]
  },
  {
   "cell_type": "code",
   "execution_count": null,
   "id": "4b8e3d5b",
   "metadata": {},
   "outputs": [
    {
     "name": "stdout",
     "output_type": "stream",
     "text": [
      "[2025-06-09 11:21:16,445] [INFO] [real_accelerator.py:239:get_accelerator] Setting ds_accelerator to cuda (auto detect)\n"
     ]
    },
    {
     "name": "stderr",
     "output_type": "stream",
     "text": [
      "W0609 11:21:17.721000 1044 site-packages\\torch\\distributed\\elastic\\multiprocessing\\redirects.py:29] NOTE: Redirects are currently not supported in Windows or MacOs.\n"
     ]
    },
    {
     "name": "stdout",
     "output_type": "stream",
     "text": [
      "True\n",
      "1\n",
      "NVIDIA GeForce RTX 5090\n",
      "0.16.5\n"
     ]
    }
   ],
   "source": [
    "from transformers import AutoTokenizer\n",
    "import torch\n",
    "import deepspeed\n",
    "import pandas as pd\n",
    "from datasets import Dataset, load_dataset, load_from_disk\n",
    "from transformers import AutoTokenizer\n",
    "\n",
    "print(torch.cuda.is_available())\n",
    "print(torch.cuda.device_count())\n",
    "print(torch.cuda.get_device_name(0))\n",
    "print(deepspeed.__version__)\n"
   ]
  },
  {
   "cell_type": "markdown",
   "id": "a8a3594c",
   "metadata": {},
   "source": [
    "## Loading dataset and split it into trin and test."
   ]
  },
  {
   "cell_type": "code",
   "execution_count": 2,
   "id": "cc0934b2",
   "metadata": {},
   "outputs": [
    {
     "name": "stdout",
     "output_type": "stream",
     "text": [
      "17733\n",
      "1971\n",
      "                                            Question  \\\n",
      "0  A 24-year-old woman presents with a 1-day hist...   \n",
      "1  A 35-week pregnant woman has an ultrasound wit...   \n",
      "2  What is the most predictive and dangerous side...   \n",
      "3  A 4-year-old boy presents with a peeling eryth...   \n",
      "4  A 74-year-old right-handed woman presents with...   \n",
      "\n",
      "                                         Complex_CoT  \\\n",
      "0  Alright, so we've got a young woman here, just...   \n",
      "1  Okay, so we've got a woman who's 35 weeks preg...   \n",
      "2  Alright, let's think about this for a second. ...   \n",
      "3  A 4-year-old boy comes in with a rash that's p...   \n",
      "4  Okay, let's think this through. We have a 74-y...   \n",
      "\n",
      "                                            Response  \n",
      "0  Based on the clinical findings you've shared, ...  \n",
      "1  In this clinical situation, the appropriate ma...  \n",
      "2  The most predictive and dangerous side effect ...  \n",
      "3  The condition described fits the clinical pict...  \n",
      "4  The clinical presentation and imaging findings...  \n"
     ]
    }
   ],
   "source": [
    "dataset = load_dataset(\"FreedomIntelligence/medical-o1-reasoning-SFT\", 'en')\n",
    "dataset = dataset['train'].train_test_split(test_size=0.1)\n",
    "print(len(dataset[\"train\"]))\n",
    "print(len(dataset[\"test\"]))\n",
    "print(dataset[\"test\"].to_pandas().head())\n"
   ]
  },
  {
   "cell_type": "markdown",
   "id": "89bb63e5",
   "metadata": {},
   "source": [
    "## Select Hugging Face model and its tokenizer"
   ]
  },
  {
   "cell_type": "code",
   "execution_count": null,
   "id": "514558fb",
   "metadata": {},
   "outputs": [],
   "source": [
    "model_name = \"nvidia/Nemotron-Research-Reasoning-Qwen-1.5B\"\n",
    "tokenizer = AutoTokenizer.from_pretrained(model_name)\n",
    "tokenizer.pad_token = tokenizer.eos_token"
   ]
  },
  {
   "cell_type": "markdown",
   "id": "8371def7",
   "metadata": {},
   "source": [
    "## Function to tokenize and format the data"
   ]
  },
  {
   "cell_type": "code",
   "execution_count": null,
   "id": "5f0eda8b",
   "metadata": {},
   "outputs": [],
   "source": [
    "def preprocess_function(examples):\n",
    "\n",
    "    prompts = [f\"[INST] {question} [/INST]\" for question in examples['Question']]\n",
    "    responses = examples['Response']\n",
    "    \n",
    "    texts = []\n",
    "    for prompt, response in zip(prompts, responses):\n",
    "        texts.append(f\"{prompt} {response}\")\n",
    "    \n",
    "    print(texts[:1])\n",
    "\n",
    "    tokenized = tokenizer(\n",
    "        texts,\n",
    "        truncation=True,\n",
    "        max_length=512,\n",
    "        padding=\"max_length\",\n",
    "        return_tensors=\"pt\"\n",
    "    )\n",
    "    \n",
    "    tokenized[\"labels\"] = tokenized[\"input_ids\"].clone()\n",
    "    \n",
    "    return tokenized"
   ]
  },
  {
   "cell_type": "markdown",
   "id": "0e9389e8",
   "metadata": {},
   "source": [
    "## All dataset is tokenized"
   ]
  },
  {
   "cell_type": "code",
   "execution_count": 5,
   "id": "da657b2e",
   "metadata": {},
   "outputs": [
    {
     "data": {
      "application/vnd.jupyter.widget-view+json": {
       "model_id": "8e04982f469c44e9aacf58268aec87d5",
       "version_major": 2,
       "version_minor": 0
      },
      "text/plain": [
       "Map:   0%|          | 0/17733 [00:00<?, ? examples/s]"
      ]
     },
     "metadata": {},
     "output_type": "display_data"
    },
    {
     "name": "stdout",
     "output_type": "stream",
     "text": [
      "[\"[INST] What is the most probable diagnosis for a 30-year-old female with a painful, red, warm nail fold for the past 7 days, who has been using home remedies such as turmeric powder and warm saline compressions without relief? [/INST] The most probable diagnosis for the 30-year-old female with a painful, red, and warm nail fold persisting for 7 days, despite using home remedies like turmeric powder and warm saline compressions, is paronychia. Paronychia is a common infection of the nail fold, often caused by bacteria entering through small cuts or breaks in the skin. Given the symptoms and lack of relief from anti-inflammatory home remedies, it's likely that this condition may require medical treatment, potentially including antibiotics, to effectively address the infection.\"]\n",
      "['[INST] In milk, which substance(s) does not directly or indirectly possess anti-infective properties? [/INST] In milk, the substance(s) that does not directly or indirectly possess anti-infective properties include lactose, water, fats, lactalbumin, and nucleotides. These components primarily serve roles related to providing energy, hydration, nutrition, and building blocks, but they do not have specific mechanisms for fighting infections like some of the other components in milk, such as immunoglobulins or lactoferrin.']\n",
      "[\"[INST] Which of the following class specific antigenic determinants of an immunoglobulin is associated with ?\\nA. L-chain\\nB. H-chain\\nC. J-chain\\nD. Variable region [/INST] The class-specific antigenic determinants of an immunoglobulin are associated with the H-chain. The heavy chain's constant region dictates the class or isotype of the immunoglobulin, such as IgG, IgA, IgM, etc. Therefore, the correct answer is B. H-chain.\"]\n",
      "['[INST] Features of diabetic nonproliferative retinopathy are a) Hard exudatesb) Soft exudatesc) Microaneurysms d) RD\\nA. ab\\nB. bc\\nC. ac\\nD. ad [/INST] Features of diabetic nonproliferative retinopathy typically include soft exudates and microaneurysms. Therefore, the correct choice is B. bc.']\n",
      "['[INST] A 26-year-old male kidney transplant recipient presents with multiple brown keratotic papules on the forehead and scalp. What is the most common cause of these lesions? [/INST] The most common cause of the multiple brown keratotic papules on the forehead and scalp in a 26-year-old male kidney transplant recipient is likely viral warts caused by human papillomavirus (HPV) infection. In individuals who are immunosuppressed, like transplant recipients, there is an increased susceptibility to viral infections, including HPV, which can manifest as warts.']\n",
      "['[INST] A young patient presents to the ophthalmology clinic with loss of central vision and normal ERG and EOG test results, with no obvious family history. What is the most likely diagnosis? [/INST] The most likely diagnosis for a young patient with loss of central vision, normal ERG and EOG test results, and no obvious family history is Stargardt disease. Stargardt disease is a genetic eye disorder that leads to progressive vision loss, primarily affecting central vision, and is characterized by a normal appearance in early diagnostic tests like ERG and EOG. While it often has a hereditary component, sporadic cases can occur without a clear family history.']\n",
      "['[INST] What is the first radiographic evidence typically observed in the case of an early acute pulpal abscess in children? [/INST] The first radiographic evidence typically observed in the case of an early acute pulpal abscess in children is a widened periodontal ligament (PDL) space. This occurs due to inflammation and pressure from the infection affecting the tissues that support the tooth, often visible on an X-ray before any structural changes in the surrounding bone.']\n",
      "['[INST] A 30 year old man repos four hours after acquiring a clean wound without laceration. He had received TT vaccination 10 year back. What do you advice regarding tetanus prophylaxis?\\nA. Single dose of TT\\nB. Full course of TT\\nC. 1 dose TT and TIG\\nD. No vaccination needed [/INST] For a 30-year-old man who received his last tetanus vaccination (TT) 10 years ago and now presents with a clean wound, the appropriate course of action is to administer a single booster dose of TT. According to standard guidelines, a booster is recommended for clean and minor wounds if it has been 10 years or more since the last dose. Therefore, in this case, the correct advice is:\\n\\nA. Single dose of TT']\n",
      "['[INST] High velocity blows cause the greatest damage to the supporting structures of the dentition but tooth fractures are less frequent. Low velocity impacts result in crown fractures and are usually not associated with damage to the supporting structures.\\nA. Both the statements are true\\nB. Both the statements are false\\nC. The first statement is true and the second is false\\nD. The first statement is false and the second is true [/INST] D. The first statement is false and the second is true.']\n",
      "[\"[INST] A 56-year-old man named Dinesh is presenting with symptoms including slowness of movements, postural instability, tremors, rigidity, and memory loss. What is the most likely diagnosis based on these clinical features? [/INST] Based on the symptoms you've described—slowness of movements (bradykinesia), postural instability, tremors, rigidity, and memory loss—it is most likely that Dinesh has Parkinson's disease. These motor symptoms are characteristic of Parkinson's, a progressive neurological disorder that primarily affects movement. Over time, Parkinson's can also lead to cognitive issues, such as memory loss, which align with Parkinson's Disease Dementia. This occurs when memory and cognitive impairments develop in the context of existing Parkinson's disease. Given Dinesh's symptoms and age, Parkinson's disease, potentially with associated cognitive decline, is the most probable diagnosis.\"]\n",
      "['[INST] A 27-year-old homeless man with a history of intravenous drug use presents with symptoms including abdominal pain, vomiting, increased salivation, and lacrimation. Given his condition, which intervention, if administered as a maintenance therapy, could have prevented his withdrawal symptoms? [/INST] The symptoms described are consistent with opioid withdrawal, which can occur in individuals with a history of opioid use who suddenly stop or reduce their intake. Maintenance therapies such as methadone or buprenorphine are commonly used to manage opioid dependence and prevent withdrawal symptoms. Given the circumstances, buprenorphine could have been particularly effective as a maintenance therapy. Its partial agonist nature provides a ceiling effect, reducing the risk of overdose, which is beneficial in situations where consistent healthcare access might be limited, as seen in homeless individuals. Administering buprenorphine as a maintenance therapy could have prevented his withdrawal symptoms by providing a steady, controlled level of opioids in his system, mitigating the discomfort and potential health risks associated with withdrawal.']\n",
      "[\"[INST] A 27-year-old male with a recent schizophrenia diagnosis presents with neck rigidity and pain, unable to flex or rotate his neck to the right, alongside symptoms such as hot flashes. His vital signs show mild tachycardia and a slight temperature elevation. With a past medical history of asthma and current treatment for his psychiatric condition, what is the best initial treatment to address his acute symptoms, given the presentation is likely an extrapyramidal side effect? [/INST] The symptoms you're describing—neck rigidity, pain, and difficulty moving the neck, along with hot flashes—suggest an acute dystonic reaction, a type of extrapyramidal side effect that can occur with antipsychotic medications. This condition often arises when starting or adjusting doses of these drugs, particularly with typical antipsychotics, although it can occur with atypical ones as well.\\n\\nGiven the acute nature of the symptoms, the best initial treatment is to administer an anticholinergic agent to counteract the effects. The most effective options for immediate relief are diphenhydramine and benztropine. Diphenhydramine, an antihistamine with anticholinergic properties, is particularly useful in this setting because it can be given intramuscularly (IM) or intravenously (IV), which allows for rapid onset of action. Therefore, the best initial treatment for this patient's acute dystonia is diphenhydramine, which will help alleviate the muscle stiffness and related discomfort relatively quickly. It's also typically well-tolerated and effective in managing these symptoms.\"]\n",
      "['[INST] National health policy which started before 1960 is/are – a) National Filaria Control Programmeb) National Malaria Control Programmec) National Leprosy Control Programmed) National Tuberculosis Programmee) Goitre Control Programme\\nA. ab\\nB. abc\\nC. acd\\nD. bcd [/INST] The national health policies in India that started before 1960 are:\\n\\n- National Filaria Control Programme (1955)\\n- National Malaria Control Programme (1953)\\n- National Leprosy Control Programme (1955)\\n\\nTherefore, the national health policies that began before 1960 correspond to option B: abc.']\n",
      "[\"[INST] Which of the following type of headgear is indicated in a patient with low mandibular angle or horizontal grower:\\nA. Occipital headgear.\\nB. Cervical headgear.\\nC. Reverse pull headgear.\\nD. All of the above. [/INST] When considering a patient with a low mandibular angle, or a horizontal grower, it's important to tailor the orthodontic approach to balance both functional and esthetic outcomes. Here's how each type of headgear can play a role:\\n\\n- **Occipital headgear**: This typically applies upward and backward force and is more suited for controlling vertical dimensions, potentially benefiting when a broader growth management is necessary.\\n  \\n- **Cervical headgear**: This offers a downward and backward force, effectively balancing out horizontal growth. It can be especially useful in managing sagittal discrepancies and in cases where vertical control is necessary.\\n  \\n- **Reverse pull headgear**: Primarily used when forward movement of the maxilla is required, such as in maxillary deficiencies. It can complement situations where the upper jaw lags behind the lower, providing needed projection.\\n\\nBased on the multifaceted nature of orthodontic treatment and recognizing that individual needs vary, a combination approach often proves most effective. Therefore, all the headgear types may be applicable during different treatment phases to address various growth requirements and jaw alignment issues.\\n\\nThus, the comprehensive answer would be:\\n\\nD. All of the above.\"]\n",
      "['[INST] A patient has a swollen and tender lymph node in the popliteal fossa. Which specific site of an infected skin lesion is most likely responsible for inducing lymphadenopathy in this region? [/INST] The swollen and tender lymph node in the popliteal fossa is most likely due to an infection or lesion on the lateral aspect of the foot. This is because the popliteal lymph nodes primarily receive lymphatic drainage from the lateral side of the leg and foot, making it the probable source of the lymphadenopathy observed in this region.']\n",
      "[\"[INST] A 71-year-old female presents to the clinic with frequent and voluminous urination for 2 weeks. She is a new patient and does not have any medical records as she recently moved to the US from Europe to live with her grandson. When asked about any prior health issues, she looks confused and shows some medications that she takes every day which includes aspirin, omeprazole, naproxen, and lithium. Her grandson is accompanying her and adds that he has requested a copy of her medical records from her previous physician in Europe. The grandson states that she has been drinking about 4–5 L of water every day. Her temperature is 37°C (98.6°F), respirations are 15/min, pulse is 107/min, and blood pressure is 92/68 mm Hg. The physical examination is significant for dry mucous membranes. Laboratory evaluation reveals the following:\\nPlasma osmolarity (Posm) 310 mOsm/kg\\nUrine osmolarity (Uosm) 270 mOsm/kg\\nAfter 6 hours of water deprivation:\\nPlasma osmolarity (Posm) 320 mOsm/kg\\nUrine osmolarity (Uosm) 277 mOsm/kg\\nAfter administration of desmopressin acetate (DDAVP):\\nPlasma osmolarity (Posm) 318 mOsm/kg\\nUrine osmolarity (Uosm) 280 mOsm/kg\\nWhat is the most likely cause of this patient's condition?\\nA. Pituitary adenoma\\nB. Primary polydipsia\\nC. Aspirin\\nD. Omeprazole\\nE. Lithium [/INST] The most likely cause of the patient's condition is E. Lithium. \\n\\nThe symptoms and laboratory findings are characteristic of nephrogenic diabetes insipidus, where the kidneys become unresponsive to antidiuretic hormone (ADH), leading to excessive urination and thirst despite high plasma osmolarity. The lack of significant response to desmopressin (a synthetic form of ADH) suggests that the issue lies with the kidneys' response rather than a deficiency of the hormone itself, as seen in central diabetes insipidus. Lithium is a well-known cause of nephrogenic diabetes insipidus due to its effect on the renal response to ADH. Other options such as a pituitary adenoma, primary polydipsia (usually associated with low plasma osmolarity), aspirin, and omeprazole do not account for the specific presentation and lab findings in this case. Therefore, lithium is the most plausible cause.\"]\n",
      "['[INST] What condition is caused by a single nucleotide change in a codon on chromosome 11 that results in valine replacing glutamic acid at the sixth position of the beta chain of hemoglobin, as observed in a peripheral blood film? [/INST] The condition caused by a single nucleotide change in a codon on chromosome 11, which results in valine replacing glutamic acid at the sixth position of the beta chain of hemoglobin, is sickle cell disease. This genetic alteration leads to the production of hemoglobin S, which causes red blood cells to adopt a sickle or crescent shape, as can be observed in a peripheral blood film.']\n",
      "[\"[INST] In a male patient who has undergone laparoscopic cholecystectomy and the histopathology of the gallbladder specimen reveals carcinoma at stage T1a, what is the appropriate surgical management to address the condition? [/INST] In a male patient who has undergone a laparoscopic cholecystectomy, and the histopathology report reveals gallbladder carcinoma at stage T1a, the standard surgical management is typically considered complete with the initial cholecystectomy. Stage T1a indicates that the cancer is confined to the lamina propria, which means it is very early stage and thus usually fully addressed by removing the gallbladder.\\n\\nHowever, some surgeons may also recommend excision of the laparoscopic port sites as an additional precautionary measure to prevent any potential seeding of cancer cells, even though the risk is considered low. This practice isn't universally required but can be part of a more conservative approach to ensure all bases are covered, particularly in scenarios where any minor risk is to be avoided. Always follow up with your healthcare provider to make sure all aspects relevant to this specific case are thoroughly addressed.\"]\n"
     ]
    },
    {
     "data": {
      "application/vnd.jupyter.widget-view+json": {
       "model_id": "82b4d11c3e514eb1a3089ae7558d4a45",
       "version_major": 2,
       "version_minor": 0
      },
      "text/plain": [
       "Map:   0%|          | 0/1971 [00:00<?, ? examples/s]"
      ]
     },
     "metadata": {},
     "output_type": "display_data"
    },
    {
     "name": "stdout",
     "output_type": "stream",
     "text": [
      "[\"[INST] A 24-year-old woman presents with a 1-day history of nausea and weakness, has a temperature of 38.4°C (101°F), and exhibits right costovertebral angle tenderness. She is sexually active with two male partners and uses an oral contraceptive, with inconsistent condom use. Her last menstrual period was four days ago, and pelvic examination is normal. Based on these clinical findings, what is the most likely cause of her symptoms? [/INST] Based on the clinical findings you've shared, the most likely cause of this young woman's symptoms is acute pyelonephritis. The combination of her fever, nausea, weakness, and right costovertebral angle tenderness strongly points towards an infection of the kidneys. Her history of being sexually active with inconsistent condom use increases the risk of urinary tract infections, which can ascend to the kidneys, causing pyelonephritis. The normal pelvic exam helps rule out pelvic inflammatory disease, focusing the diagnosis on the renal system. Given these considerations, acute pyelonephritis is the most fitting diagnosis for her condition.\"]\n",
      "['[INST] Explain why glucocorticoids (steroids) and NSAIDs differ in their application for treating asthma and inflammatory conditions. [/INST] Glucocorticoids and NSAIDs are used differently for treating asthma and inflammatory conditions due to their distinct mechanisms and effects on inflammation. \\n\\nIn asthma, glucocorticoids are preferred because they are powerful anti-inflammatory agents that inhibit phospholipase A2, thereby reducing the production of both prostaglandins and leukotrienes, which are key players in asthma-related inflammation. Glucocorticoids help reduce airway inflammation and hypersensitivity, directly addressing the underlying causes of asthma symptoms. In contrast, NSAIDs inhibit the cyclooxygenase (COX) enzymes, which primarily affect prostaglandin levels. This can inadvertently increase leukotriene production, potentially worsening asthma symptoms, so NSAIDs are generally avoided in asthma management.\\n\\nFor inflammatory conditions like arthritis, both glucocorticoids and NSAIDs are used, but for different purposes. NSAIDs are effective for managing mild to moderate inflammation and pain due to their targeted action on prostaglandins, making them a good option for less severe flare-ups. Glucocorticoids, however, are more potent and provide rapid relief for severe inflammation due to their broader anti-inflammatory action. However, they are used with caution due to potential side effects like immune suppression and bone weakening with long-term use. Conversely, long-term NSAID use can lead to gastrointestinal, renal, and cardiovascular issues.\\n\\nTherefore, the choice between glucocorticoids and NSAIDs depends on the specific condition being treated, the severity of the symptoms, and the profile of side effects, with glucocorticoids favored in asthma and both options considered for systemic inflammatory conditions based on symptom severity and duration.']\n"
     ]
    }
   ],
   "source": [
    "tokenized_dataset = dataset.map(\n",
    "    preprocess_function,\n",
    "    batched=True,\n",
    "    remove_columns=dataset[\"train\"].column_names,\n",
    ")"
   ]
  },
  {
   "cell_type": "code",
   "execution_count": 7,
   "id": "b10e2937",
   "metadata": {},
   "outputs": [],
   "source": [
    "from transformers import AutoModelForCausalLM, TrainingArguments, Trainer\n",
    "import torch"
   ]
  },
  {
   "cell_type": "markdown",
   "id": "77cbe358",
   "metadata": {},
   "source": [
    "## Create model shell from specified Hugging Face model's name, and using available GPU."
   ]
  },
  {
   "cell_type": "code",
   "execution_count": null,
   "id": "5dc3b0d5",
   "metadata": {},
   "outputs": [],
   "source": [
    "model = AutoModelForCausalLM.from_pretrained(\n",
    "    model_name,\n",
    "    torch_dtype=torch.bfloat16,\n",
    "    device_map=\"auto\",\n",
    ")"
   ]
  },
  {
   "cell_type": "markdown",
   "id": "ba82fb38",
   "metadata": {},
   "source": [
    "# Using WanDB to monitor learning process"
   ]
  },
  {
   "cell_type": "code",
   "execution_count": 9,
   "id": "a2338310",
   "metadata": {},
   "outputs": [],
   "source": [
    "def try_import_wandb():\n",
    "    try:\n",
    "        import wandb\n",
    "        return True\n",
    "    except ImportError:\n",
    "        return False"
   ]
  },
  {
   "cell_type": "markdown",
   "id": "3cfb2714",
   "metadata": {},
   "source": [
    "## Use the best hyperparameters to create trining argument set"
   ]
  },
  {
   "cell_type": "code",
   "execution_count": null,
   "id": "4d6369b5",
   "metadata": {},
   "outputs": [],
   "source": [
    "training_args = TrainingArguments(\n",
    "    output_dir=\"./qwen-1.5B-finetuned\",\n",
    "    overwrite_output_dir=True,\n",
    "    num_train_epochs=5,\n",
    "    per_device_train_batch_size=8,\n",
    "    per_device_eval_batch_size=4,\n",
    "    gradient_accumulation_steps=4,\n",
    "    save_steps=1000,\n",
    "    save_total_limit=1,\n",
    "    eval_steps=500,\n",
    "    logging_dir=\"./logs\",\n",
    "    logging_steps=50,\n",
    "    learning_rate=2.6563467269626478e-05,\n",
    "    weight_decay=0.01,\n",
    "    warmup_steps=200,\n",
    "    lr_scheduler_type=\"cosine\",\n",
    "    report_to=\"wandb\" if try_import_wandb() else \"none\",\n",
    "    fp16=False,\n",
    "    bf16=True,\n",
    "    gradient_checkpointing=True\n",
    ")"
   ]
  },
  {
   "cell_type": "markdown",
   "id": "43a01196",
   "metadata": {},
   "source": [
    "# Create trainer objet defining the model, arguments train and test data."
   ]
  },
  {
   "cell_type": "code",
   "execution_count": 11,
   "id": "b8268b38",
   "metadata": {},
   "outputs": [],
   "source": [
    "trainer = Trainer(\n",
    "    model=model,\n",
    "    args=training_args,\n",
    "    train_dataset=tokenized_dataset[\"train\"],\n",
    "    eval_dataset=tokenized_dataset[\"test\"],\n",
    ")"
   ]
  },
  {
   "cell_type": "code",
   "execution_count": 12,
   "id": "07452a69",
   "metadata": {},
   "outputs": [
    {
     "name": "stderr",
     "output_type": "stream",
     "text": [
      "\u001b[34m\u001b[1mwandb\u001b[0m: \u001b[33mWARNING\u001b[0m The `run_name` is currently set to the same value as `TrainingArguments.output_dir`. If this was not intended, please specify a different run name by setting the `TrainingArguments.run_name` parameter.\n",
      "\u001b[34m\u001b[1mwandb\u001b[0m: Currently logged in as: \u001b[33mluis-orellana777\u001b[0m (\u001b[33mluis-orellana777-sngular\u001b[0m) to \u001b[32mhttps://api.wandb.ai\u001b[0m. Use \u001b[1m`wandb login --relogin`\u001b[0m to force relogin\n"
     ]
    },
    {
     "data": {
      "text/html": [
       "Tracking run with wandb version 0.19.11"
      ],
      "text/plain": [
       "<IPython.core.display.HTML object>"
      ]
     },
     "metadata": {},
     "output_type": "display_data"
    },
    {
     "data": {
      "text/html": [
       "Run data is saved locally in <code>c:\\Users\\Luis\\OneDrive\\Documentos\\Data Science\\LLM\\Fine Tuning\\wandb\\run-20250609_112126-xf5yz0xz</code>"
      ],
      "text/plain": [
       "<IPython.core.display.HTML object>"
      ]
     },
     "metadata": {},
     "output_type": "display_data"
    },
    {
     "data": {
      "text/html": [
       "Syncing run <strong><a href='https://wandb.ai/luis-orellana777-sngular/huggingface/runs/xf5yz0xz' target=\"_blank\">./qwen-1.5B-finetuned</a></strong> to <a href='https://wandb.ai/luis-orellana777-sngular/huggingface' target=\"_blank\">Weights & Biases</a> (<a href='https://wandb.me/developer-guide' target=\"_blank\">docs</a>)<br>"
      ],
      "text/plain": [
       "<IPython.core.display.HTML object>"
      ]
     },
     "metadata": {},
     "output_type": "display_data"
    },
    {
     "data": {
      "text/html": [
       " View project at <a href='https://wandb.ai/luis-orellana777-sngular/huggingface' target=\"_blank\">https://wandb.ai/luis-orellana777-sngular/huggingface</a>"
      ],
      "text/plain": [
       "<IPython.core.display.HTML object>"
      ]
     },
     "metadata": {},
     "output_type": "display_data"
    },
    {
     "data": {
      "text/html": [
       " View run at <a href='https://wandb.ai/luis-orellana777-sngular/huggingface/runs/xf5yz0xz' target=\"_blank\">https://wandb.ai/luis-orellana777-sngular/huggingface/runs/xf5yz0xz</a>"
      ],
      "text/plain": [
       "<IPython.core.display.HTML object>"
      ]
     },
     "metadata": {},
     "output_type": "display_data"
    },
    {
     "name": "stderr",
     "output_type": "stream",
     "text": [
      "`use_cache=True` is incompatible with gradient checkpointing. Setting `use_cache=False`.\n"
     ]
    },
    {
     "data": {
      "text/html": [
       "\n",
       "    <div>\n",
       "      \n",
       "      <progress value='2770' max='2770' style='width:300px; height:20px; vertical-align: middle;'></progress>\n",
       "      [2770/2770 1:29:30, Epoch 4/5]\n",
       "    </div>\n",
       "    <table border=\"1\" class=\"dataframe\">\n",
       "  <thead>\n",
       " <tr style=\"text-align: left;\">\n",
       "      <th>Step</th>\n",
       "      <th>Training Loss</th>\n",
       "    </tr>\n",
       "  </thead>\n",
       "  <tbody>\n",
       "    <tr>\n",
       "      <td>50</td>\n",
       "      <td>5.759800</td>\n",
       "    </tr>\n",
       "    <tr>\n",
       "      <td>100</td>\n",
       "      <td>0.938000</td>\n",
       "    </tr>\n",
       "    <tr>\n",
       "      <td>150</td>\n",
       "      <td>0.791500</td>\n",
       "    </tr>\n",
       "    <tr>\n",
       "      <td>200</td>\n",
       "      <td>0.766000</td>\n",
       "    </tr>\n",
       "    <tr>\n",
       "      <td>250</td>\n",
       "      <td>0.741700</td>\n",
       "    </tr>\n",
       "    <tr>\n",
       "      <td>300</td>\n",
       "      <td>0.739900</td>\n",
       "    </tr>\n",
       "    <tr>\n",
       "      <td>350</td>\n",
       "      <td>0.716400</td>\n",
       "    </tr>\n",
       "    <tr>\n",
       "      <td>400</td>\n",
       "      <td>0.722000</td>\n",
       "    </tr>\n",
       "    <tr>\n",
       "      <td>450</td>\n",
       "      <td>0.716600</td>\n",
       "    </tr>\n",
       "    <tr>\n",
       "      <td>500</td>\n",
       "      <td>0.699500</td>\n",
       "    </tr>\n",
       "    <tr>\n",
       "      <td>550</td>\n",
       "      <td>0.709800</td>\n",
       "    </tr>\n",
       "    <tr>\n",
       "      <td>600</td>\n",
       "      <td>0.679200</td>\n",
       "    </tr>\n",
       "    <tr>\n",
       "      <td>650</td>\n",
       "      <td>0.685200</td>\n",
       "    </tr>\n",
       "    <tr>\n",
       "      <td>700</td>\n",
       "      <td>0.685600</td>\n",
       "    </tr>\n",
       "    <tr>\n",
       "      <td>750</td>\n",
       "      <td>0.664100</td>\n",
       "    </tr>\n",
       "    <tr>\n",
       "      <td>800</td>\n",
       "      <td>0.681400</td>\n",
       "    </tr>\n",
       "    <tr>\n",
       "      <td>850</td>\n",
       "      <td>0.695800</td>\n",
       "    </tr>\n",
       "    <tr>\n",
       "      <td>900</td>\n",
       "      <td>0.680900</td>\n",
       "    </tr>\n",
       "    <tr>\n",
       "      <td>950</td>\n",
       "      <td>0.674300</td>\n",
       "    </tr>\n",
       "    <tr>\n",
       "      <td>1000</td>\n",
       "      <td>0.678500</td>\n",
       "    </tr>\n",
       "    <tr>\n",
       "      <td>1050</td>\n",
       "      <td>0.671000</td>\n",
       "    </tr>\n",
       "    <tr>\n",
       "      <td>1100</td>\n",
       "      <td>0.675600</td>\n",
       "    </tr>\n",
       "    <tr>\n",
       "      <td>1150</td>\n",
       "      <td>0.666600</td>\n",
       "    </tr>\n",
       "    <tr>\n",
       "      <td>1200</td>\n",
       "      <td>0.668500</td>\n",
       "    </tr>\n",
       "    <tr>\n",
       "      <td>1250</td>\n",
       "      <td>0.645300</td>\n",
       "    </tr>\n",
       "    <tr>\n",
       "      <td>1300</td>\n",
       "      <td>0.669700</td>\n",
       "    </tr>\n",
       "    <tr>\n",
       "      <td>1350</td>\n",
       "      <td>0.646700</td>\n",
       "    </tr>\n",
       "    <tr>\n",
       "      <td>1400</td>\n",
       "      <td>0.655400</td>\n",
       "    </tr>\n",
       "    <tr>\n",
       "      <td>1450</td>\n",
       "      <td>0.661400</td>\n",
       "    </tr>\n",
       "    <tr>\n",
       "      <td>1500</td>\n",
       "      <td>0.662500</td>\n",
       "    </tr>\n",
       "    <tr>\n",
       "      <td>1550</td>\n",
       "      <td>0.656200</td>\n",
       "    </tr>\n",
       "    <tr>\n",
       "      <td>1600</td>\n",
       "      <td>0.649400</td>\n",
       "    </tr>\n",
       "    <tr>\n",
       "      <td>1650</td>\n",
       "      <td>0.659700</td>\n",
       "    </tr>\n",
       "    <tr>\n",
       "      <td>1700</td>\n",
       "      <td>0.650400</td>\n",
       "    </tr>\n",
       "    <tr>\n",
       "      <td>1750</td>\n",
       "      <td>0.659700</td>\n",
       "    </tr>\n",
       "    <tr>\n",
       "      <td>1800</td>\n",
       "      <td>0.660900</td>\n",
       "    </tr>\n",
       "    <tr>\n",
       "      <td>1850</td>\n",
       "      <td>0.646400</td>\n",
       "    </tr>\n",
       "    <tr>\n",
       "      <td>1900</td>\n",
       "      <td>0.648800</td>\n",
       "    </tr>\n",
       "    <tr>\n",
       "      <td>1950</td>\n",
       "      <td>0.652700</td>\n",
       "    </tr>\n",
       "    <tr>\n",
       "      <td>2000</td>\n",
       "      <td>0.651900</td>\n",
       "    </tr>\n",
       "    <tr>\n",
       "      <td>2050</td>\n",
       "      <td>0.661300</td>\n",
       "    </tr>\n",
       "    <tr>\n",
       "      <td>2100</td>\n",
       "      <td>0.663200</td>\n",
       "    </tr>\n",
       "    <tr>\n",
       "      <td>2150</td>\n",
       "      <td>0.636000</td>\n",
       "    </tr>\n",
       "    <tr>\n",
       "      <td>2200</td>\n",
       "      <td>0.637700</td>\n",
       "    </tr>\n",
       "    <tr>\n",
       "      <td>2250</td>\n",
       "      <td>0.654100</td>\n",
       "    </tr>\n",
       "    <tr>\n",
       "      <td>2300</td>\n",
       "      <td>0.642600</td>\n",
       "    </tr>\n",
       "    <tr>\n",
       "      <td>2350</td>\n",
       "      <td>0.656700</td>\n",
       "    </tr>\n",
       "    <tr>\n",
       "      <td>2400</td>\n",
       "      <td>0.649400</td>\n",
       "    </tr>\n",
       "    <tr>\n",
       "      <td>2450</td>\n",
       "      <td>0.640200</td>\n",
       "    </tr>\n",
       "    <tr>\n",
       "      <td>2500</td>\n",
       "      <td>0.662600</td>\n",
       "    </tr>\n",
       "    <tr>\n",
       "      <td>2550</td>\n",
       "      <td>0.660300</td>\n",
       "    </tr>\n",
       "    <tr>\n",
       "      <td>2600</td>\n",
       "      <td>0.650600</td>\n",
       "    </tr>\n",
       "    <tr>\n",
       "      <td>2650</td>\n",
       "      <td>0.644000</td>\n",
       "    </tr>\n",
       "    <tr>\n",
       "      <td>2700</td>\n",
       "      <td>0.661100</td>\n",
       "    </tr>\n",
       "    <tr>\n",
       "      <td>2750</td>\n",
       "      <td>0.646700</td>\n",
       "    </tr>\n",
       "  </tbody>\n",
       "</table><p>"
      ],
      "text/plain": [
       "<IPython.core.display.HTML object>"
      ]
     },
     "metadata": {},
     "output_type": "display_data"
    },
    {
     "data": {
      "text/plain": [
       "TrainOutput(global_step=2770, training_loss=0.7691792026753891, metrics={'train_runtime': 5374.4353, 'train_samples_per_second': 16.498, 'train_steps_per_second': 0.515, 'total_flos': 4.198444485480284e+17, 'train_loss': 0.7691792026753891, 'epoch': 4.99233198015336})"
      ]
     },
     "execution_count": 12,
     "metadata": {},
     "output_type": "execute_result"
    }
   ],
   "source": [
    "trainer.train()"
   ]
  },
  {
   "cell_type": "markdown",
   "id": "67acd2c7",
   "metadata": {},
   "source": [
    "## Save the fine tune model and its tokenizer locally."
   ]
  },
  {
   "cell_type": "code",
   "execution_count": 23,
   "id": "3b60fda4",
   "metadata": {},
   "outputs": [],
   "source": [
    "trainer.save_model(\"./model-finetuned-medical-reasoning-qwen-1.5B\")"
   ]
  },
  {
   "cell_type": "code",
   "execution_count": 22,
   "id": "7e7516cb",
   "metadata": {},
   "outputs": [
    {
     "data": {
      "text/plain": [
       "('./model-finetuned-medical-reasoning-qwen-1.5B\\\\tokenizer_config.json',\n",
       " './model-finetuned-medical-reasoning-qwen-1.5B\\\\special_tokens_map.json',\n",
       " './model-finetuned-medical-reasoning-qwen-1.5B\\\\tokenizer.json')"
      ]
     },
     "execution_count": 22,
     "metadata": {},
     "output_type": "execute_result"
    }
   ],
   "source": [
    "tokenizer.save_pretrained(\"./model-finetuned-medical-reasoning-qwen-1.5B\")"
   ]
  },
  {
   "cell_type": "markdown",
   "id": "293b0e1c",
   "metadata": {},
   "source": [
    "## Save the fine tune model and its tokenizer into Hugging Face."
   ]
  },
  {
   "cell_type": "code",
   "execution_count": 15,
   "id": "e2d57561",
   "metadata": {},
   "outputs": [
    {
     "data": {
      "application/vnd.jupyter.widget-view+json": {
       "model_id": "b6c57530e2a3477f8271edb3799b5079",
       "version_major": 2,
       "version_minor": 0
      },
      "text/plain": [
       "Upload 2 LFS files:   0%|          | 0/2 [00:00<?, ?it/s]"
      ]
     },
     "metadata": {},
     "output_type": "display_data"
    },
    {
     "data": {
      "application/vnd.jupyter.widget-view+json": {
       "model_id": "f53686d74ed7423093f0e0b4609e370c",
       "version_major": 2,
       "version_minor": 0
      },
      "text/plain": [
       "training_args.bin:   0%|          | 0.00/5.65k [00:00<?, ?B/s]"
      ]
     },
     "metadata": {},
     "output_type": "display_data"
    },
    {
     "data": {
      "application/vnd.jupyter.widget-view+json": {
       "model_id": "0af36fc8eef844e3973d4c766e40c0ad",
       "version_major": 2,
       "version_minor": 0
      },
      "text/plain": [
       "model.safetensors:   0%|          | 0.00/3.55G [00:00<?, ?B/s]"
      ]
     },
     "metadata": {},
     "output_type": "display_data"
    },
    {
     "data": {
      "text/plain": [
       "CommitInfo(commit_url='https://huggingface.co/Luis-Orellana777/qwen-1.5B-finetuned/commit/69a14f132df8588623159345f958e60f4e284b79', commit_message='Luis-Orellana777/model-finetuned-medical-reasoning-qwen-1.5B', commit_description='', oid='69a14f132df8588623159345f958e60f4e284b79', pr_url=None, repo_url=RepoUrl('https://huggingface.co/Luis-Orellana777/qwen-1.5B-finetuned', endpoint='https://huggingface.co', repo_type='model', repo_id='Luis-Orellana777/qwen-1.5B-finetuned'), pr_revision=None, pr_num=None)"
      ]
     },
     "execution_count": 15,
     "metadata": {},
     "output_type": "execute_result"
    }
   ],
   "source": [
    "trainer.push_to_hub(\"Luis-Orellana777/model-finetuned-medical-reasoning-qwen-1.5B\")"
   ]
  },
  {
   "cell_type": "code",
   "execution_count": 16,
   "id": "3197f997",
   "metadata": {},
   "outputs": [
    {
     "data": {
      "application/vnd.jupyter.widget-view+json": {
       "model_id": "1746389f44a64c7b92a966c993eed4cf",
       "version_major": 2,
       "version_minor": 0
      },
      "text/plain": [
       "tokenizer.json:   0%|          | 0.00/11.4M [00:00<?, ?B/s]"
      ]
     },
     "metadata": {},
     "output_type": "display_data"
    },
    {
     "data": {
      "text/plain": [
       "CommitInfo(commit_url='https://huggingface.co/Luis-Orellana777/model-finetuned-medical-reasoning-qwen-1.5B/commit/0d856a98dd5067f3a464b34fb9602cf0e7a4afe1', commit_message='Upload tokenizer', commit_description='', oid='0d856a98dd5067f3a464b34fb9602cf0e7a4afe1', pr_url=None, repo_url=RepoUrl('https://huggingface.co/Luis-Orellana777/model-finetuned-medical-reasoning-qwen-1.5B', endpoint='https://huggingface.co', repo_type='model', repo_id='Luis-Orellana777/model-finetuned-medical-reasoning-qwen-1.5B'), pr_revision=None, pr_num=None)"
      ]
     },
     "execution_count": 16,
     "metadata": {},
     "output_type": "execute_result"
    }
   ],
   "source": [
    "tokenizer.push_to_hub(\"Luis-Orellana777/model-finetuned-medical-reasoning-qwen-1.5B\")"
   ]
  },
  {
   "cell_type": "markdown",
   "id": "2f911c38",
   "metadata": {},
   "source": [
    "## Tokenize the prompt, and select generation parameters to make predictions"
   ]
  },
  {
   "cell_type": "code",
   "execution_count": null,
   "id": "da13cece",
   "metadata": {},
   "outputs": [],
   "source": [
    "def generate_response(prompt, model, tokenizer, max_length=512):\n",
    "    input_ids = tokenizer.encode(f\"[INST] {prompt} [/INST]\", return_tensors=\"pt\").to(model.device)\n",
    "    attention_mask = (input_ids != tokenizer.pad_token_id).long().to(model.device)\n",
    "    \n",
    "    output = model.generate(\n",
    "        input_ids,\n",
    "        attention_mask=attention_mask,\n",
    "        max_length=max_length,\n",
    "        do_sample=True,\n",
    "        temperature=0.7,\n",
    "        top_p=0.9,\n",
    "        pad_token_id=tokenizer.pad_token_id\n",
    "    )\n",
    "    \n",
    "    return tokenizer.decode(output[0], skip_special_tokens=True)"
   ]
  },
  {
   "cell_type": "markdown",
   "id": "de9f674c",
   "metadata": {},
   "source": [
    "## Sends medical symptoms and print the diagnosis."
   ]
  },
  {
   "cell_type": "code",
   "execution_count": 18,
   "id": "8f779131",
   "metadata": {},
   "outputs": [
    {
     "name": "stderr",
     "output_type": "stream",
     "text": [
      "c:\\Users\\Luis\\anaconda3\\envs\\LLM\\lib\\site-packages\\torch\\utils\\checkpoint.py:85: UserWarning: None of the inputs have requires_grad=True. Gradients will be None\n",
      "  warnings.warn(\n"
     ]
    },
    {
     "name": "stdout",
     "output_type": "stream",
     "text": [
      "[INST] Given the symptoms of sudden weakness in the left arm and leg, recent long-distance travel, and the presence of swollen and tender right lower leg, what specific cardiac abnormality is most likely to be found upon further evaluation that could explain these findings? [/INST] The symptoms you've described—sudden weakness in the left arm and leg, recent long-distance travel, and the presence of swollen and tender right lower leg—are indicative of a condition known as \"left limb hemiplegia.\" This condition is often associated with a cardiac issue involving the left ventricle. \n",
      "\n",
      "In the context of cardiac abnormalities, the most specific abnormality that could explain these symptoms is an \"abnormal left ventricular hypertrophy.\" This condition occurs when the left ventricle becomes enlarged, which can lead to a variety of symptoms, including muscle weakness in the affected limb and the presence of swelling and tenderness in the affected leg. \n",
      "\n",
      "Therefore, the most specific cardiac abnormality to expect in this scenario is an abnormal left ventricular hypertrophy. This finding aligns well with the symptoms and provides a plausible explanation for the condition you're experiencing. It's important to consult with a healthcare professional for a thorough evaluation to confirm the diagnosis and determine the appropriate treatment plan.\n"
     ]
    }
   ],
   "source": [
    "test_prompt = \"Given the symptoms of sudden weakness in the left arm and leg, recent long-distance travel, and the presence of swollen and tender right lower leg, what specific cardiac abnormality is most likely to be found upon further evaluation that could explain these findings?\"\n",
    "response = generate_response(test_prompt, model, tokenizer)\n",
    "print(response)"
   ]
  },
  {
   "cell_type": "code",
   "execution_count": null,
   "id": "6ac158d3",
   "metadata": {},
   "outputs": [
    {
     "name": "stdout",
     "output_type": "stream",
     "text": [
      "[INST] Given the symptoms, explain these findings:Mild memory loss. Motor incoordination. Patient is 69 years old. Sleep apnea. Attention deficit. Temperament and mood swings. [/INST] The symptoms you've described are highly suggestive of a condition known as narcolepsy, which is characterized by a combination of symptoms such as mild memory loss, motor incoordination, attention deficit, mood swings, and sleep disturbances. These symptoms are particularly notable in older adults, which aligns with the age of 69 years.\n",
      "\n",
      "Narcolepsy is an autoimmune disorder that primarily affects the central nervous system. The patient's sleep apnea, combined with their age, is a key indicator of this condition. The mild memory loss and motor incoordination suggest possible neurological issues, while the attention deficit and mood swings point to potential neurological deficits.\n",
      "\n",
      "In terms of diagnosis, narcolepsy can be evaluated through a combination of clinical examination, blood tests, and imaging studies. Blood tests can help identify the presence of specific antibodies, which are characteristic of narcolepsy. Imaging studies, such as an MRI or CT scan, can provide detailed images of the brain and help identify any abnormalities that might be contributing to the symptoms.\n",
      "\n",
      "Treatment for narcolepsy typically involves a combination of medications and lifestyle modifications. Common treatments include the use of beta-blockers, like propranolol, and perhaps antipsychotic medications if the symptoms are more severe. Lifestyle changes such as reducing screen time and maintaining a healthy weight can also play a role in alleviating symptoms.\n",
      "\n",
      "Overall, the combination of these symptoms and age suggests narcolepsy, and it's important to evaluate the patient's condition and receive appropriate treatment to manage the symptoms effectively. It's crucial to conduct a thorough evaluation to determine the extent and type of narcolepsy, and to guide the right treatment plan for the patient. Consulting a healthcare provider is a wise step to ensure an appropriate and personalized approach to this condition.\n"
     ]
    }
   ],
   "source": [
    "test_prompt = \"Given the symptoms, explain these findings: Mild memory loss. Motor incoordination. Patient is 69 years old. Sleep apnea. Attention deficit. Temperament and mood swings.\"\n",
    "response = generate_response(test_prompt, model, tokenizer)\n",
    "print(response)"
   ]
  },
  {
   "cell_type": "code",
   "execution_count": 24,
   "id": "17479a99",
   "metadata": {},
   "outputs": [
    {
     "name": "stderr",
     "output_type": "stream",
     "text": [
      "c:\\Users\\Luis\\anaconda3\\envs\\LLM\\lib\\site-packages\\torch\\utils\\checkpoint.py:85: UserWarning: None of the inputs have requires_grad=True. Gradients will be None\n",
      "  warnings.warn(\n"
     ]
    },
    {
     "name": "stdout",
     "output_type": "stream",
     "text": [
      "[INST] A patient presents with a fever and a persistent cough for the last three days. What are the possible differential diagnoses? [/INST] The symptoms of a persistent cough with a fever for three days can suggest several potential diagnoses, each requiring careful evaluation and appropriate management:\n",
      "\n",
      "1. **Chronic Influenza**: This is a common cause of persistent cough and fever, particularly in the winter months. It can lead to a prolonged course, which fits the patient's symptoms.\n",
      "\n",
      "2. **Pneumocystis Jiroveci (Pneumocystis deltemata)**: This is a bacterial infection that can cause severe cough and fever, often leading to a prolonged course. It is a less common cause compared to influenza, especially in the winter.\n",
      "\n",
      "3. **Cystic Fibrosis**: This is a genetic condition where the immune system is compromised, leading to chronic cough and fever. It is less common and typically occurs in older adults.\n",
      "\n",
      "4. **Hypersensitive Cough**: This can occur due to various underlying causes, including a severe immune response or chronic inflammation. It is not typically associated with fever.\n",
      "\n",
      "5. **Infectious Mononuclears**: This is a viral infection that can cause severe respiratory symptoms and a prolonged course, especially in the winter.\n",
      "\n",
      "6. **Coughing Up**: This condition, also known as bronchiectasis, can occur due to a chronic immune response and typically presents with a short course of symptoms.\n",
      "\n",
      "7. **Coughing Up with Nervous System Symptoms**: This is similar to coughing up but may present with other symptoms like dizziness, which is less common.\n",
      "\n",
      "8. **Coughing Up with Pneumonia**: This is a rare condition where a viral infection leads to pneumonia and coughing up.\n",
      "\n",
      "Each of these conditions requires different management strategies, such as supportive care, antibiotic therapy, and possibly a chest X-ray for infection types like pneumonia or pneumonia with bronchiectasis. It is important for the healthcare provider to conduct a thorough evaluation and consider these differential diagnoses when managing the patient. If symptoms persist or worsen, further investigation may be warranted.\n"
     ]
    }
   ],
   "source": [
    "test_prompt = \"A patient presents with a fever and a persistent cough for the last three days. What are the possible differential diagnoses?\"\n",
    "response = generate_response(test_prompt, model, tokenizer)\n",
    "print(response)"
   ]
  },
  {
   "cell_type": "markdown",
   "id": "961bd1c0",
   "metadata": {},
   "source": [
    "## Prints default generation parameters which are used by the fine tuned model."
   ]
  },
  {
   "cell_type": "code",
   "execution_count": 1,
   "id": "54971ac8",
   "metadata": {},
   "outputs": [
    {
     "name": "stdout",
     "output_type": "stream",
     "text": [
      "Loading model from: ./model-finetuned-medical-reasoning-qwen-1.5B\n",
      "[2025-06-18 23:37:04,933] [INFO] [real_accelerator.py:239:get_accelerator] Setting ds_accelerator to cuda (auto detect)\n"
     ]
    },
    {
     "name": "stderr",
     "output_type": "stream",
     "text": [
      "W0618 23:37:05.540000 27768 site-packages\\torch\\distributed\\elastic\\multiprocessing\\redirects.py:29] NOTE: Redirects are currently not supported in Windows or MacOs.\n"
     ]
    },
    {
     "name": "stdout",
     "output_type": "stream",
     "text": [
      "Temperature: 1.0\n",
      "Top P: 1.0\n",
      "Top K: 50\n",
      "Repetition Penalty: 1.0\n",
      "Max New Tokens: None\n"
     ]
    }
   ],
   "source": [
    "from transformers import AutoModelForCausalLM\n",
    "\n",
    "LOCAL_MODEL_PATH = \"./model-finetuned-medical-reasoning-qwen-1.5B\"\n",
    "\n",
    "print(f\"Loading model from: {LOCAL_MODEL_PATH}\")\n",
    "\n",
    "try:\n",
    "    model = AutoModelForCausalLM.from_pretrained(LOCAL_MODEL_PATH)\n",
    "\n",
    "    config = model.generation_config\n",
    "\n",
    "    \n",
    "    temperature = config.temperature\n",
    "    top_p = config.top_p\n",
    "    top_k = config.top_k\n",
    "    repetition_penalty = config.repetition_penalty\n",
    "    max_new_tokens = config.max_new_tokens\n",
    "\n",
    "    print(f\"Temperature: {temperature}\")\n",
    "    print(f\"Top P: {top_p}\")\n",
    "    print(f\"Top K: {top_k}\")\n",
    "    print(f\"Repetition Penalty: {repetition_penalty}\")\n",
    "    print(f\"Max New Tokens: {max_new_tokens}\")\n",
    "\n",
    "except OSError as e:\n",
    "    print(f\"\\nError: Could not find model at the specified path.\")\n",
    "    print(f\"Please make sure '{LOCAL_MODEL_PATH}' is the correct directory.\")\n",
    "    print(f\"Details: {e}\")\n",
    "except Exception as e:\n",
    "    print(f\"An unexpected error occurred: {e}\")"
   ]
  }
 ],
 "metadata": {
  "kernelspec": {
   "display_name": "LLM",
   "language": "python",
   "name": "python3"
  },
  "language_info": {
   "codemirror_mode": {
    "name": "ipython",
    "version": 3
   },
   "file_extension": ".py",
   "mimetype": "text/x-python",
   "name": "python",
   "nbconvert_exporter": "python",
   "pygments_lexer": "ipython3",
   "version": "3.10.16"
  }
 },
 "nbformat": 4,
 "nbformat_minor": 5
}
